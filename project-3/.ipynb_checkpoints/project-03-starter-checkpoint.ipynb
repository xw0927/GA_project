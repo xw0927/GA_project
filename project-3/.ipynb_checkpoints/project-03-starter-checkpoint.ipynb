{
 "cells": [
  {
   "cell_type": "markdown",
   "metadata": {},
   "source": [
    "<img src=\"http://imgur.com/1ZcRyrc.png\" style=\"float: left; margin: 15px; height: 80px\">\n",
    "\n",
    "# Project 3\n",
    "\n",
    "### Regression and Classification with the Ames Housing Data\n",
    "\n",
    "---\n",
    "\n",
    "You have just joined a new \"full stack\" real estate company in Ames, Iowa. The strategy of the firm is two-fold:\n",
    "- Own the entire process from the purchase of the land all the way to sale of the house, and anything in between.\n",
    "- Use statistical analysis to optimize investment and maximize return.\n",
    "\n",
    "The company is still small, and though investment is substantial the short-term goals of the company are more oriented towards purchasing existing houses and flipping them as opposed to constructing entirely new houses. That being said, the company has access to a large construction workforce operating at rock-bottom prices.\n",
    "\n",
    "This project uses the [Ames housing data recently made available on kaggle](https://www.kaggle.com/c/house-prices-advanced-regression-techniques)."
   ]
  },
  {
   "cell_type": "code",
   "execution_count": 44,
   "metadata": {},
   "outputs": [],
   "source": [
    "import numpy as np\n",
    "import scipy.stats as stats\n",
    "import seaborn as sns\n",
    "import matplotlib.pyplot as plt\n",
    "import pandas as pd\n",
    "\n",
    "sns.set_style('whitegrid')\n",
    "\n",
    "%config InlineBackend.figure_format = 'retina'\n",
    "%matplotlib inline"
   ]
  },
  {
   "cell_type": "markdown",
   "metadata": {},
   "source": [
    "<img src=\"http://imgur.com/l5NasQj.png\" style=\"float: left; margin: 25px 15px 0px 0px; height: 25px\">\n",
    "\n",
    "## 1. Estimating the value of homes from fixed characteristics.\n",
    "\n",
    "---\n",
    "\n",
    "Your superiors have outlined this year's strategy for the company:\n",
    "1. Develop an algorithm to reliably estimate the value of residential houses based on *fixed* characteristics.\n",
    "2. Identify characteristics of houses that the company can cost-effectively change/renovate with their construction team.\n",
    "3. Evaluate the mean dollar value of different renovations.\n",
    "\n",
    "Then we can use that to buy houses that are likely to sell for more than the cost of the purchase plus renovations.\n",
    "\n",
    "Your first job is to tackle #1. You have a dataset of housing sale data with a huge amount of features identifying different aspects of the house. The full description of the data features can be found in a separate file:\n",
    "\n",
    "    housing.csv\n",
    "    data_description.txt\n",
    "    \n",
    "You need to build a reliable estimator for the price of the house given characteristics of the house that cannot be renovated. Some examples include:\n",
    "- The neighborhood\n",
    "- Square feet\n",
    "- Bedrooms, bathrooms\n",
    "- Basement and garage space\n",
    "\n",
    "and many more. \n",
    "\n",
    "Some examples of things that **ARE renovate-able:**\n",
    "- Roof and exterior features\n",
    "- \"Quality\" metrics, such as kitchen quality\n",
    "- \"Condition\" metrics, such as condition of garage\n",
    "- Heating and electrical components\n",
    "\n",
    "and generally anything you deem can be modified without having to undergo major construction on the house.\n",
    "\n",
    "---\n",
    "\n",
    "**Your goals:**\n",
    "1. Perform any cleaning, feature engineering, and EDA you deem necessary.\n",
    "- Be sure to remove any houses that are not residential from the dataset.\n",
    "- Identify **fixed** features that can predict price.\n",
    "- Train a model on pre-2010 data and evaluate its performance on the 2010 houses.\n",
    "- Characterize your model. How well does it perform? What are the best estimates of price?\n",
    "\n",
    "> **Note:** The EDA and feature engineering component to this project is not trivial! Be sure to always think critically and creatively. Justify your actions! Use the data description file!"
   ]
  },
  {
   "cell_type": "code",
   "execution_count": 45,
   "metadata": {},
   "outputs": [],
   "source": [
    "# Load the data\n",
    "house = pd.read_csv('./housing.csv')"
   ]
  },
  {
   "cell_type": "code",
   "execution_count": 46,
   "metadata": {},
   "outputs": [
    {
     "data": {
      "text/html": [
       "<div>\n",
       "<style scoped>\n",
       "    .dataframe tbody tr th:only-of-type {\n",
       "        vertical-align: middle;\n",
       "    }\n",
       "\n",
       "    .dataframe tbody tr th {\n",
       "        vertical-align: top;\n",
       "    }\n",
       "\n",
       "    .dataframe thead th {\n",
       "        text-align: right;\n",
       "    }\n",
       "</style>\n",
       "<table border=\"1\" class=\"dataframe\">\n",
       "  <thead>\n",
       "    <tr style=\"text-align: right;\">\n",
       "      <th></th>\n",
       "      <th>Id</th>\n",
       "      <th>MSSubClass</th>\n",
       "      <th>MSZoning</th>\n",
       "      <th>LotFrontage</th>\n",
       "      <th>LotArea</th>\n",
       "      <th>Street</th>\n",
       "      <th>Alley</th>\n",
       "      <th>LotShape</th>\n",
       "      <th>LandContour</th>\n",
       "      <th>Utilities</th>\n",
       "      <th>...</th>\n",
       "      <th>PoolArea</th>\n",
       "      <th>PoolQC</th>\n",
       "      <th>Fence</th>\n",
       "      <th>MiscFeature</th>\n",
       "      <th>MiscVal</th>\n",
       "      <th>MoSold</th>\n",
       "      <th>YrSold</th>\n",
       "      <th>SaleType</th>\n",
       "      <th>SaleCondition</th>\n",
       "      <th>SalePrice</th>\n",
       "    </tr>\n",
       "  </thead>\n",
       "  <tbody>\n",
       "    <tr>\n",
       "      <th>0</th>\n",
       "      <td>1</td>\n",
       "      <td>60</td>\n",
       "      <td>RL</td>\n",
       "      <td>65.0</td>\n",
       "      <td>8450</td>\n",
       "      <td>Pave</td>\n",
       "      <td>NaN</td>\n",
       "      <td>Reg</td>\n",
       "      <td>Lvl</td>\n",
       "      <td>AllPub</td>\n",
       "      <td>...</td>\n",
       "      <td>0</td>\n",
       "      <td>NaN</td>\n",
       "      <td>NaN</td>\n",
       "      <td>NaN</td>\n",
       "      <td>0</td>\n",
       "      <td>2</td>\n",
       "      <td>2008</td>\n",
       "      <td>WD</td>\n",
       "      <td>Normal</td>\n",
       "      <td>208500</td>\n",
       "    </tr>\n",
       "    <tr>\n",
       "      <th>1</th>\n",
       "      <td>2</td>\n",
       "      <td>20</td>\n",
       "      <td>RL</td>\n",
       "      <td>80.0</td>\n",
       "      <td>9600</td>\n",
       "      <td>Pave</td>\n",
       "      <td>NaN</td>\n",
       "      <td>Reg</td>\n",
       "      <td>Lvl</td>\n",
       "      <td>AllPub</td>\n",
       "      <td>...</td>\n",
       "      <td>0</td>\n",
       "      <td>NaN</td>\n",
       "      <td>NaN</td>\n",
       "      <td>NaN</td>\n",
       "      <td>0</td>\n",
       "      <td>5</td>\n",
       "      <td>2007</td>\n",
       "      <td>WD</td>\n",
       "      <td>Normal</td>\n",
       "      <td>181500</td>\n",
       "    </tr>\n",
       "    <tr>\n",
       "      <th>2</th>\n",
       "      <td>3</td>\n",
       "      <td>60</td>\n",
       "      <td>RL</td>\n",
       "      <td>68.0</td>\n",
       "      <td>11250</td>\n",
       "      <td>Pave</td>\n",
       "      <td>NaN</td>\n",
       "      <td>IR1</td>\n",
       "      <td>Lvl</td>\n",
       "      <td>AllPub</td>\n",
       "      <td>...</td>\n",
       "      <td>0</td>\n",
       "      <td>NaN</td>\n",
       "      <td>NaN</td>\n",
       "      <td>NaN</td>\n",
       "      <td>0</td>\n",
       "      <td>9</td>\n",
       "      <td>2008</td>\n",
       "      <td>WD</td>\n",
       "      <td>Normal</td>\n",
       "      <td>223500</td>\n",
       "    </tr>\n",
       "    <tr>\n",
       "      <th>3</th>\n",
       "      <td>4</td>\n",
       "      <td>70</td>\n",
       "      <td>RL</td>\n",
       "      <td>60.0</td>\n",
       "      <td>9550</td>\n",
       "      <td>Pave</td>\n",
       "      <td>NaN</td>\n",
       "      <td>IR1</td>\n",
       "      <td>Lvl</td>\n",
       "      <td>AllPub</td>\n",
       "      <td>...</td>\n",
       "      <td>0</td>\n",
       "      <td>NaN</td>\n",
       "      <td>NaN</td>\n",
       "      <td>NaN</td>\n",
       "      <td>0</td>\n",
       "      <td>2</td>\n",
       "      <td>2006</td>\n",
       "      <td>WD</td>\n",
       "      <td>Abnorml</td>\n",
       "      <td>140000</td>\n",
       "    </tr>\n",
       "    <tr>\n",
       "      <th>4</th>\n",
       "      <td>5</td>\n",
       "      <td>60</td>\n",
       "      <td>RL</td>\n",
       "      <td>84.0</td>\n",
       "      <td>14260</td>\n",
       "      <td>Pave</td>\n",
       "      <td>NaN</td>\n",
       "      <td>IR1</td>\n",
       "      <td>Lvl</td>\n",
       "      <td>AllPub</td>\n",
       "      <td>...</td>\n",
       "      <td>0</td>\n",
       "      <td>NaN</td>\n",
       "      <td>NaN</td>\n",
       "      <td>NaN</td>\n",
       "      <td>0</td>\n",
       "      <td>12</td>\n",
       "      <td>2008</td>\n",
       "      <td>WD</td>\n",
       "      <td>Normal</td>\n",
       "      <td>250000</td>\n",
       "    </tr>\n",
       "  </tbody>\n",
       "</table>\n",
       "<p>5 rows × 81 columns</p>\n",
       "</div>"
      ],
      "text/plain": [
       "   Id  MSSubClass MSZoning  LotFrontage  LotArea Street Alley LotShape  \\\n",
       "0   1          60       RL         65.0     8450   Pave   NaN      Reg   \n",
       "1   2          20       RL         80.0     9600   Pave   NaN      Reg   \n",
       "2   3          60       RL         68.0    11250   Pave   NaN      IR1   \n",
       "3   4          70       RL         60.0     9550   Pave   NaN      IR1   \n",
       "4   5          60       RL         84.0    14260   Pave   NaN      IR1   \n",
       "\n",
       "  LandContour Utilities    ...     PoolArea PoolQC Fence MiscFeature MiscVal  \\\n",
       "0         Lvl    AllPub    ...            0    NaN   NaN         NaN       0   \n",
       "1         Lvl    AllPub    ...            0    NaN   NaN         NaN       0   \n",
       "2         Lvl    AllPub    ...            0    NaN   NaN         NaN       0   \n",
       "3         Lvl    AllPub    ...            0    NaN   NaN         NaN       0   \n",
       "4         Lvl    AllPub    ...            0    NaN   NaN         NaN       0   \n",
       "\n",
       "  MoSold YrSold  SaleType  SaleCondition  SalePrice  \n",
       "0      2   2008        WD         Normal     208500  \n",
       "1      5   2007        WD         Normal     181500  \n",
       "2      9   2008        WD         Normal     223500  \n",
       "3      2   2006        WD        Abnorml     140000  \n",
       "4     12   2008        WD         Normal     250000  \n",
       "\n",
       "[5 rows x 81 columns]"
      ]
     },
     "execution_count": 46,
     "metadata": {},
     "output_type": "execute_result"
    }
   ],
   "source": [
    "# A:\n",
    "house.head()"
   ]
  },
  {
   "cell_type": "code",
   "execution_count": 47,
   "metadata": {},
   "outputs": [
    {
     "data": {
      "text/plain": [
       "(1460, 81)"
      ]
     },
     "execution_count": 47,
     "metadata": {},
     "output_type": "execute_result"
    }
   ],
   "source": [
    "house.shape"
   ]
  },
  {
   "cell_type": "code",
   "execution_count": 48,
   "metadata": {
    "scrolled": true
   },
   "outputs": [
    {
     "name": "stdout",
     "output_type": "stream",
     "text": [
      "<class 'pandas.core.frame.DataFrame'>\n",
      "RangeIndex: 1460 entries, 0 to 1459\n",
      "Data columns (total 81 columns):\n",
      "Id               1460 non-null int64\n",
      "MSSubClass       1460 non-null int64\n",
      "MSZoning         1460 non-null object\n",
      "LotFrontage      1201 non-null float64\n",
      "LotArea          1460 non-null int64\n",
      "Street           1460 non-null object\n",
      "Alley            91 non-null object\n",
      "LotShape         1460 non-null object\n",
      "LandContour      1460 non-null object\n",
      "Utilities        1460 non-null object\n",
      "LotConfig        1460 non-null object\n",
      "LandSlope        1460 non-null object\n",
      "Neighborhood     1460 non-null object\n",
      "Condition1       1460 non-null object\n",
      "Condition2       1460 non-null object\n",
      "BldgType         1460 non-null object\n",
      "HouseStyle       1460 non-null object\n",
      "OverallQual      1460 non-null int64\n",
      "OverallCond      1460 non-null int64\n",
      "YearBuilt        1460 non-null int64\n",
      "YearRemodAdd     1460 non-null int64\n",
      "RoofStyle        1460 non-null object\n",
      "RoofMatl         1460 non-null object\n",
      "Exterior1st      1460 non-null object\n",
      "Exterior2nd      1460 non-null object\n",
      "MasVnrType       1452 non-null object\n",
      "MasVnrArea       1452 non-null float64\n",
      "ExterQual        1460 non-null object\n",
      "ExterCond        1460 non-null object\n",
      "Foundation       1460 non-null object\n",
      "BsmtQual         1423 non-null object\n",
      "BsmtCond         1423 non-null object\n",
      "BsmtExposure     1422 non-null object\n",
      "BsmtFinType1     1423 non-null object\n",
      "BsmtFinSF1       1460 non-null int64\n",
      "BsmtFinType2     1422 non-null object\n",
      "BsmtFinSF2       1460 non-null int64\n",
      "BsmtUnfSF        1460 non-null int64\n",
      "TotalBsmtSF      1460 non-null int64\n",
      "Heating          1460 non-null object\n",
      "HeatingQC        1460 non-null object\n",
      "CentralAir       1460 non-null object\n",
      "Electrical       1459 non-null object\n",
      "1stFlrSF         1460 non-null int64\n",
      "2ndFlrSF         1460 non-null int64\n",
      "LowQualFinSF     1460 non-null int64\n",
      "GrLivArea        1460 non-null int64\n",
      "BsmtFullBath     1460 non-null int64\n",
      "BsmtHalfBath     1460 non-null int64\n",
      "FullBath         1460 non-null int64\n",
      "HalfBath         1460 non-null int64\n",
      "BedroomAbvGr     1460 non-null int64\n",
      "KitchenAbvGr     1460 non-null int64\n",
      "KitchenQual      1460 non-null object\n",
      "TotRmsAbvGrd     1460 non-null int64\n",
      "Functional       1460 non-null object\n",
      "Fireplaces       1460 non-null int64\n",
      "FireplaceQu      770 non-null object\n",
      "GarageType       1379 non-null object\n",
      "GarageYrBlt      1379 non-null float64\n",
      "GarageFinish     1379 non-null object\n",
      "GarageCars       1460 non-null int64\n",
      "GarageArea       1460 non-null int64\n",
      "GarageQual       1379 non-null object\n",
      "GarageCond       1379 non-null object\n",
      "PavedDrive       1460 non-null object\n",
      "WoodDeckSF       1460 non-null int64\n",
      "OpenPorchSF      1460 non-null int64\n",
      "EnclosedPorch    1460 non-null int64\n",
      "3SsnPorch        1460 non-null int64\n",
      "ScreenPorch      1460 non-null int64\n",
      "PoolArea         1460 non-null int64\n",
      "PoolQC           7 non-null object\n",
      "Fence            281 non-null object\n",
      "MiscFeature      54 non-null object\n",
      "MiscVal          1460 non-null int64\n",
      "MoSold           1460 non-null int64\n",
      "YrSold           1460 non-null int64\n",
      "SaleType         1460 non-null object\n",
      "SaleCondition    1460 non-null object\n",
      "SalePrice        1460 non-null int64\n",
      "dtypes: float64(3), int64(35), object(43)\n",
      "memory usage: 924.0+ KB\n"
     ]
    }
   ],
   "source": [
    "house.info()"
   ]
  },
  {
   "cell_type": "code",
   "execution_count": 49,
   "metadata": {},
   "outputs": [
    {
     "data": {
      "text/html": [
       "<div>\n",
       "<style scoped>\n",
       "    .dataframe tbody tr th:only-of-type {\n",
       "        vertical-align: middle;\n",
       "    }\n",
       "\n",
       "    .dataframe tbody tr th {\n",
       "        vertical-align: top;\n",
       "    }\n",
       "\n",
       "    .dataframe thead th {\n",
       "        text-align: right;\n",
       "    }\n",
       "</style>\n",
       "<table border=\"1\" class=\"dataframe\">\n",
       "  <thead>\n",
       "    <tr style=\"text-align: right;\">\n",
       "      <th></th>\n",
       "      <th>Id</th>\n",
       "      <th>MSSubClass</th>\n",
       "      <th>LotFrontage</th>\n",
       "      <th>LotArea</th>\n",
       "      <th>OverallQual</th>\n",
       "      <th>OverallCond</th>\n",
       "      <th>YearBuilt</th>\n",
       "      <th>YearRemodAdd</th>\n",
       "      <th>MasVnrArea</th>\n",
       "      <th>BsmtFinSF1</th>\n",
       "      <th>...</th>\n",
       "      <th>WoodDeckSF</th>\n",
       "      <th>OpenPorchSF</th>\n",
       "      <th>EnclosedPorch</th>\n",
       "      <th>3SsnPorch</th>\n",
       "      <th>ScreenPorch</th>\n",
       "      <th>PoolArea</th>\n",
       "      <th>MiscVal</th>\n",
       "      <th>MoSold</th>\n",
       "      <th>YrSold</th>\n",
       "      <th>SalePrice</th>\n",
       "    </tr>\n",
       "  </thead>\n",
       "  <tbody>\n",
       "    <tr>\n",
       "      <th>count</th>\n",
       "      <td>1460.000000</td>\n",
       "      <td>1460.000000</td>\n",
       "      <td>1201.000000</td>\n",
       "      <td>1460.000000</td>\n",
       "      <td>1460.000000</td>\n",
       "      <td>1460.000000</td>\n",
       "      <td>1460.000000</td>\n",
       "      <td>1460.000000</td>\n",
       "      <td>1452.000000</td>\n",
       "      <td>1460.000000</td>\n",
       "      <td>...</td>\n",
       "      <td>1460.000000</td>\n",
       "      <td>1460.000000</td>\n",
       "      <td>1460.000000</td>\n",
       "      <td>1460.000000</td>\n",
       "      <td>1460.000000</td>\n",
       "      <td>1460.000000</td>\n",
       "      <td>1460.000000</td>\n",
       "      <td>1460.000000</td>\n",
       "      <td>1460.000000</td>\n",
       "      <td>1460.000000</td>\n",
       "    </tr>\n",
       "    <tr>\n",
       "      <th>mean</th>\n",
       "      <td>730.500000</td>\n",
       "      <td>56.897260</td>\n",
       "      <td>70.049958</td>\n",
       "      <td>10516.828082</td>\n",
       "      <td>6.099315</td>\n",
       "      <td>5.575342</td>\n",
       "      <td>1971.267808</td>\n",
       "      <td>1984.865753</td>\n",
       "      <td>103.685262</td>\n",
       "      <td>443.639726</td>\n",
       "      <td>...</td>\n",
       "      <td>94.244521</td>\n",
       "      <td>46.660274</td>\n",
       "      <td>21.954110</td>\n",
       "      <td>3.409589</td>\n",
       "      <td>15.060959</td>\n",
       "      <td>2.758904</td>\n",
       "      <td>43.489041</td>\n",
       "      <td>6.321918</td>\n",
       "      <td>2007.815753</td>\n",
       "      <td>180921.195890</td>\n",
       "    </tr>\n",
       "    <tr>\n",
       "      <th>std</th>\n",
       "      <td>421.610009</td>\n",
       "      <td>42.300571</td>\n",
       "      <td>24.284752</td>\n",
       "      <td>9981.264932</td>\n",
       "      <td>1.382997</td>\n",
       "      <td>1.112799</td>\n",
       "      <td>30.202904</td>\n",
       "      <td>20.645407</td>\n",
       "      <td>181.066207</td>\n",
       "      <td>456.098091</td>\n",
       "      <td>...</td>\n",
       "      <td>125.338794</td>\n",
       "      <td>66.256028</td>\n",
       "      <td>61.119149</td>\n",
       "      <td>29.317331</td>\n",
       "      <td>55.757415</td>\n",
       "      <td>40.177307</td>\n",
       "      <td>496.123024</td>\n",
       "      <td>2.703626</td>\n",
       "      <td>1.328095</td>\n",
       "      <td>79442.502883</td>\n",
       "    </tr>\n",
       "    <tr>\n",
       "      <th>min</th>\n",
       "      <td>1.000000</td>\n",
       "      <td>20.000000</td>\n",
       "      <td>21.000000</td>\n",
       "      <td>1300.000000</td>\n",
       "      <td>1.000000</td>\n",
       "      <td>1.000000</td>\n",
       "      <td>1872.000000</td>\n",
       "      <td>1950.000000</td>\n",
       "      <td>0.000000</td>\n",
       "      <td>0.000000</td>\n",
       "      <td>...</td>\n",
       "      <td>0.000000</td>\n",
       "      <td>0.000000</td>\n",
       "      <td>0.000000</td>\n",
       "      <td>0.000000</td>\n",
       "      <td>0.000000</td>\n",
       "      <td>0.000000</td>\n",
       "      <td>0.000000</td>\n",
       "      <td>1.000000</td>\n",
       "      <td>2006.000000</td>\n",
       "      <td>34900.000000</td>\n",
       "    </tr>\n",
       "    <tr>\n",
       "      <th>25%</th>\n",
       "      <td>365.750000</td>\n",
       "      <td>20.000000</td>\n",
       "      <td>59.000000</td>\n",
       "      <td>7553.500000</td>\n",
       "      <td>5.000000</td>\n",
       "      <td>5.000000</td>\n",
       "      <td>1954.000000</td>\n",
       "      <td>1967.000000</td>\n",
       "      <td>0.000000</td>\n",
       "      <td>0.000000</td>\n",
       "      <td>...</td>\n",
       "      <td>0.000000</td>\n",
       "      <td>0.000000</td>\n",
       "      <td>0.000000</td>\n",
       "      <td>0.000000</td>\n",
       "      <td>0.000000</td>\n",
       "      <td>0.000000</td>\n",
       "      <td>0.000000</td>\n",
       "      <td>5.000000</td>\n",
       "      <td>2007.000000</td>\n",
       "      <td>129975.000000</td>\n",
       "    </tr>\n",
       "    <tr>\n",
       "      <th>50%</th>\n",
       "      <td>730.500000</td>\n",
       "      <td>50.000000</td>\n",
       "      <td>69.000000</td>\n",
       "      <td>9478.500000</td>\n",
       "      <td>6.000000</td>\n",
       "      <td>5.000000</td>\n",
       "      <td>1973.000000</td>\n",
       "      <td>1994.000000</td>\n",
       "      <td>0.000000</td>\n",
       "      <td>383.500000</td>\n",
       "      <td>...</td>\n",
       "      <td>0.000000</td>\n",
       "      <td>25.000000</td>\n",
       "      <td>0.000000</td>\n",
       "      <td>0.000000</td>\n",
       "      <td>0.000000</td>\n",
       "      <td>0.000000</td>\n",
       "      <td>0.000000</td>\n",
       "      <td>6.000000</td>\n",
       "      <td>2008.000000</td>\n",
       "      <td>163000.000000</td>\n",
       "    </tr>\n",
       "    <tr>\n",
       "      <th>75%</th>\n",
       "      <td>1095.250000</td>\n",
       "      <td>70.000000</td>\n",
       "      <td>80.000000</td>\n",
       "      <td>11601.500000</td>\n",
       "      <td>7.000000</td>\n",
       "      <td>6.000000</td>\n",
       "      <td>2000.000000</td>\n",
       "      <td>2004.000000</td>\n",
       "      <td>166.000000</td>\n",
       "      <td>712.250000</td>\n",
       "      <td>...</td>\n",
       "      <td>168.000000</td>\n",
       "      <td>68.000000</td>\n",
       "      <td>0.000000</td>\n",
       "      <td>0.000000</td>\n",
       "      <td>0.000000</td>\n",
       "      <td>0.000000</td>\n",
       "      <td>0.000000</td>\n",
       "      <td>8.000000</td>\n",
       "      <td>2009.000000</td>\n",
       "      <td>214000.000000</td>\n",
       "    </tr>\n",
       "    <tr>\n",
       "      <th>max</th>\n",
       "      <td>1460.000000</td>\n",
       "      <td>190.000000</td>\n",
       "      <td>313.000000</td>\n",
       "      <td>215245.000000</td>\n",
       "      <td>10.000000</td>\n",
       "      <td>9.000000</td>\n",
       "      <td>2010.000000</td>\n",
       "      <td>2010.000000</td>\n",
       "      <td>1600.000000</td>\n",
       "      <td>5644.000000</td>\n",
       "      <td>...</td>\n",
       "      <td>857.000000</td>\n",
       "      <td>547.000000</td>\n",
       "      <td>552.000000</td>\n",
       "      <td>508.000000</td>\n",
       "      <td>480.000000</td>\n",
       "      <td>738.000000</td>\n",
       "      <td>15500.000000</td>\n",
       "      <td>12.000000</td>\n",
       "      <td>2010.000000</td>\n",
       "      <td>755000.000000</td>\n",
       "    </tr>\n",
       "  </tbody>\n",
       "</table>\n",
       "<p>8 rows × 38 columns</p>\n",
       "</div>"
      ],
      "text/plain": [
       "                Id   MSSubClass  LotFrontage        LotArea  OverallQual  \\\n",
       "count  1460.000000  1460.000000  1201.000000    1460.000000  1460.000000   \n",
       "mean    730.500000    56.897260    70.049958   10516.828082     6.099315   \n",
       "std     421.610009    42.300571    24.284752    9981.264932     1.382997   \n",
       "min       1.000000    20.000000    21.000000    1300.000000     1.000000   \n",
       "25%     365.750000    20.000000    59.000000    7553.500000     5.000000   \n",
       "50%     730.500000    50.000000    69.000000    9478.500000     6.000000   \n",
       "75%    1095.250000    70.000000    80.000000   11601.500000     7.000000   \n",
       "max    1460.000000   190.000000   313.000000  215245.000000    10.000000   \n",
       "\n",
       "       OverallCond    YearBuilt  YearRemodAdd   MasVnrArea   BsmtFinSF1  \\\n",
       "count  1460.000000  1460.000000   1460.000000  1452.000000  1460.000000   \n",
       "mean      5.575342  1971.267808   1984.865753   103.685262   443.639726   \n",
       "std       1.112799    30.202904     20.645407   181.066207   456.098091   \n",
       "min       1.000000  1872.000000   1950.000000     0.000000     0.000000   \n",
       "25%       5.000000  1954.000000   1967.000000     0.000000     0.000000   \n",
       "50%       5.000000  1973.000000   1994.000000     0.000000   383.500000   \n",
       "75%       6.000000  2000.000000   2004.000000   166.000000   712.250000   \n",
       "max       9.000000  2010.000000   2010.000000  1600.000000  5644.000000   \n",
       "\n",
       "           ...         WoodDeckSF  OpenPorchSF  EnclosedPorch    3SsnPorch  \\\n",
       "count      ...        1460.000000  1460.000000    1460.000000  1460.000000   \n",
       "mean       ...          94.244521    46.660274      21.954110     3.409589   \n",
       "std        ...         125.338794    66.256028      61.119149    29.317331   \n",
       "min        ...           0.000000     0.000000       0.000000     0.000000   \n",
       "25%        ...           0.000000     0.000000       0.000000     0.000000   \n",
       "50%        ...           0.000000    25.000000       0.000000     0.000000   \n",
       "75%        ...         168.000000    68.000000       0.000000     0.000000   \n",
       "max        ...         857.000000   547.000000     552.000000   508.000000   \n",
       "\n",
       "       ScreenPorch     PoolArea       MiscVal       MoSold       YrSold  \\\n",
       "count  1460.000000  1460.000000   1460.000000  1460.000000  1460.000000   \n",
       "mean     15.060959     2.758904     43.489041     6.321918  2007.815753   \n",
       "std      55.757415    40.177307    496.123024     2.703626     1.328095   \n",
       "min       0.000000     0.000000      0.000000     1.000000  2006.000000   \n",
       "25%       0.000000     0.000000      0.000000     5.000000  2007.000000   \n",
       "50%       0.000000     0.000000      0.000000     6.000000  2008.000000   \n",
       "75%       0.000000     0.000000      0.000000     8.000000  2009.000000   \n",
       "max     480.000000   738.000000  15500.000000    12.000000  2010.000000   \n",
       "\n",
       "           SalePrice  \n",
       "count    1460.000000  \n",
       "mean   180921.195890  \n",
       "std     79442.502883  \n",
       "min     34900.000000  \n",
       "25%    129975.000000  \n",
       "50%    163000.000000  \n",
       "75%    214000.000000  \n",
       "max    755000.000000  \n",
       "\n",
       "[8 rows x 38 columns]"
      ]
     },
     "execution_count": 49,
     "metadata": {},
     "output_type": "execute_result"
    }
   ],
   "source": [
    "house.describe()"
   ]
  },
  {
   "cell_type": "markdown",
   "metadata": {},
   "source": [
    "#### Removing house that isn't residential"
   ]
  },
  {
   "cell_type": "code",
   "execution_count": 50,
   "metadata": {},
   "outputs": [
    {
     "data": {
      "text/plain": [
       "RL         1151\n",
       "RM          218\n",
       "FV           65\n",
       "RH           16\n",
       "C (all)      10\n",
       "Name: MSZoning, dtype: int64"
      ]
     },
     "execution_count": 50,
     "metadata": {},
     "output_type": "execute_result"
    }
   ],
   "source": [
    "house.MSZoning.value_counts()"
   ]
  },
  {
   "cell_type": "code",
   "execution_count": 51,
   "metadata": {},
   "outputs": [
    {
     "data": {
      "text/plain": [
       "(1385, 81)"
      ]
     },
     "execution_count": 51,
     "metadata": {},
     "output_type": "execute_result"
    }
   ],
   "source": [
    "house_R=house[house['MSZoning'].str.contains('R')].copy()\n",
    "house_R.shape\n",
    "\n",
    "#before=(1460, 81)"
   ]
  },
  {
   "cell_type": "markdown",
   "metadata": {},
   "source": [
    "#### Checking Missing data"
   ]
  },
  {
   "cell_type": "code",
   "execution_count": 52,
   "metadata": {
    "scrolled": false
   },
   "outputs": [
    {
     "data": {
      "text/html": [
       "<div>\n",
       "<style scoped>\n",
       "    .dataframe tbody tr th:only-of-type {\n",
       "        vertical-align: middle;\n",
       "    }\n",
       "\n",
       "    .dataframe tbody tr th {\n",
       "        vertical-align: top;\n",
       "    }\n",
       "\n",
       "    .dataframe thead th {\n",
       "        text-align: right;\n",
       "    }\n",
       "</style>\n",
       "<table border=\"1\" class=\"dataframe\">\n",
       "  <thead>\n",
       "    <tr style=\"text-align: right;\">\n",
       "      <th></th>\n",
       "      <th>Total</th>\n",
       "      <th>Percentages</th>\n",
       "    </tr>\n",
       "  </thead>\n",
       "  <tbody>\n",
       "    <tr>\n",
       "      <th>PoolQC</th>\n",
       "      <td>1378</td>\n",
       "      <td>99.494585</td>\n",
       "    </tr>\n",
       "    <tr>\n",
       "      <th>MiscFeature</th>\n",
       "      <td>1333</td>\n",
       "      <td>96.245487</td>\n",
       "    </tr>\n",
       "    <tr>\n",
       "      <th>Alley</th>\n",
       "      <td>1320</td>\n",
       "      <td>95.306859</td>\n",
       "    </tr>\n",
       "    <tr>\n",
       "      <th>Fence</th>\n",
       "      <td>1108</td>\n",
       "      <td>80.000000</td>\n",
       "    </tr>\n",
       "    <tr>\n",
       "      <th>FireplaceQu</th>\n",
       "      <td>641</td>\n",
       "      <td>46.281588</td>\n",
       "    </tr>\n",
       "    <tr>\n",
       "      <th>LotFrontage</th>\n",
       "      <td>251</td>\n",
       "      <td>18.122744</td>\n",
       "    </tr>\n",
       "    <tr>\n",
       "      <th>GarageCond</th>\n",
       "      <td>79</td>\n",
       "      <td>5.703971</td>\n",
       "    </tr>\n",
       "    <tr>\n",
       "      <th>GarageType</th>\n",
       "      <td>79</td>\n",
       "      <td>5.703971</td>\n",
       "    </tr>\n",
       "    <tr>\n",
       "      <th>GarageYrBlt</th>\n",
       "      <td>79</td>\n",
       "      <td>5.703971</td>\n",
       "    </tr>\n",
       "    <tr>\n",
       "      <th>GarageFinish</th>\n",
       "      <td>79</td>\n",
       "      <td>5.703971</td>\n",
       "    </tr>\n",
       "    <tr>\n",
       "      <th>GarageQual</th>\n",
       "      <td>79</td>\n",
       "      <td>5.703971</td>\n",
       "    </tr>\n",
       "    <tr>\n",
       "      <th>BsmtExposure</th>\n",
       "      <td>38</td>\n",
       "      <td>2.743682</td>\n",
       "    </tr>\n",
       "    <tr>\n",
       "      <th>BsmtFinType2</th>\n",
       "      <td>38</td>\n",
       "      <td>2.743682</td>\n",
       "    </tr>\n",
       "    <tr>\n",
       "      <th>BsmtFinType1</th>\n",
       "      <td>37</td>\n",
       "      <td>2.671480</td>\n",
       "    </tr>\n",
       "    <tr>\n",
       "      <th>BsmtCond</th>\n",
       "      <td>37</td>\n",
       "      <td>2.671480</td>\n",
       "    </tr>\n",
       "    <tr>\n",
       "      <th>BsmtQual</th>\n",
       "      <td>37</td>\n",
       "      <td>2.671480</td>\n",
       "    </tr>\n",
       "    <tr>\n",
       "      <th>MasVnrArea</th>\n",
       "      <td>5</td>\n",
       "      <td>0.361011</td>\n",
       "    </tr>\n",
       "    <tr>\n",
       "      <th>MasVnrType</th>\n",
       "      <td>5</td>\n",
       "      <td>0.361011</td>\n",
       "    </tr>\n",
       "    <tr>\n",
       "      <th>Electrical</th>\n",
       "      <td>1</td>\n",
       "      <td>0.072202</td>\n",
       "    </tr>\n",
       "  </tbody>\n",
       "</table>\n",
       "</div>"
      ],
      "text/plain": [
       "              Total  Percentages\n",
       "PoolQC         1378    99.494585\n",
       "MiscFeature    1333    96.245487\n",
       "Alley          1320    95.306859\n",
       "Fence          1108    80.000000\n",
       "FireplaceQu     641    46.281588\n",
       "LotFrontage     251    18.122744\n",
       "GarageCond       79     5.703971\n",
       "GarageType       79     5.703971\n",
       "GarageYrBlt      79     5.703971\n",
       "GarageFinish     79     5.703971\n",
       "GarageQual       79     5.703971\n",
       "BsmtExposure     38     2.743682\n",
       "BsmtFinType2     38     2.743682\n",
       "BsmtFinType1     37     2.671480\n",
       "BsmtCond         37     2.671480\n",
       "BsmtQual         37     2.671480\n",
       "MasVnrArea        5     0.361011\n",
       "MasVnrType        5     0.361011\n",
       "Electrical        1     0.072202"
      ]
     },
     "execution_count": 52,
     "metadata": {},
     "output_type": "execute_result"
    }
   ],
   "source": [
    "totalMissing=house_R.isnull().sum().sort_values(ascending=False)\n",
    "percentages=((house_R.isnull().sum()/house_R.isnull().count())*100).sort_values(ascending=False)\n",
    "\n",
    "missing_data=pd.concat([totalMissing,percentages],axis=1,keys=['Total','Percentages'])\n",
    "missing_data[missing_data['Total']>0]"
   ]
  },
  {
   "cell_type": "markdown",
   "metadata": {},
   "source": [
    "#### Dropping columns with >1000 missing values or 80%"
   ]
  },
  {
   "cell_type": "code",
   "execution_count": 53,
   "metadata": {},
   "outputs": [
    {
     "data": {
      "text/plain": [
       "(1385, 77)"
      ]
     },
     "execution_count": 53,
     "metadata": {},
     "output_type": "execute_result"
    }
   ],
   "source": [
    "house_R.drop(['PoolQC', 'MiscFeature', 'Alley', 'Fence'],axis=1,inplace=True)\n",
    "house_R.shape\n",
    "#(1385, 81)"
   ]
  },
  {
   "cell_type": "markdown",
   "metadata": {},
   "source": [
    "#### Fill missing values "
   ]
  },
  {
   "cell_type": "code",
   "execution_count": 54,
   "metadata": {
    "scrolled": true
   },
   "outputs": [
    {
     "name": "stdout",
     "output_type": "stream",
     "text": [
      "LotFrontage:[ 65.  80.  68.  60.  84.  85.  75.  nan  51.  50.  70.  91.  72.  66.\n",
      " 101.  57.  44. 110.  98.  47. 108. 112.  74. 115.  61.  48.  33.  52.\n",
      " 100.  89.  63.  76.  81.  95.  69.  21.  32.  78. 121. 122.  73.  77.\n",
      "  64.  94. 105.  90.  55.  88.  82.  71.  24. 120. 107.  92. 134.  40.\n",
      "  62.  86. 141.  97.  54.  41.  79. 174.  99.  67.  83.  43. 103.  93.\n",
      "  30. 129. 140.  34.  37. 118.  87. 116. 150. 111.  49.  96.  59.  36.\n",
      "  56.  58.  38. 109. 130.  53. 137.  35.  45. 106. 104.  42.  39. 144.\n",
      " 114. 102. 128. 149. 313. 168. 182. 138. 160. 152. 124. 153.  46.]\n",
      "MasVnrType:['BrkFace' 'None' 'Stone' 'BrkCmn' nan]\n",
      "MasVnrArea:[1.960e+02 0.000e+00 1.620e+02 3.500e+02 1.860e+02 2.400e+02 2.860e+02\n",
      " 3.060e+02 2.120e+02 1.800e+02 3.800e+02 2.810e+02 6.400e+02 2.000e+02\n",
      " 2.460e+02 1.320e+02 6.500e+02 1.010e+02 4.120e+02 2.720e+02 1.031e+03\n",
      " 1.780e+02 5.730e+02 3.440e+02 2.870e+02 1.670e+02 1.115e+03 4.000e+01\n",
      " 1.040e+02 5.760e+02 4.430e+02 4.680e+02 6.600e+01 2.200e+01 2.840e+02\n",
      " 2.030e+02 6.800e+01 1.830e+02 4.800e+01 2.800e+01 3.360e+02 6.000e+02\n",
      " 4.800e+02 2.200e+02 1.840e+02 1.160e+02 1.350e+02 2.660e+02 8.500e+01\n",
      " 3.090e+02 1.360e+02 2.880e+02 7.000e+01 3.200e+02 5.000e+01 1.200e+02\n",
      " 4.360e+02 2.520e+02 8.400e+01 4.560e+02 6.640e+02 2.260e+02 3.000e+02\n",
      " 6.530e+02 1.120e+02 4.910e+02 2.680e+02 7.480e+02 9.800e+01 2.750e+02\n",
      " 1.380e+02 2.050e+02 2.620e+02 1.280e+02 2.600e+02 1.530e+02 6.400e+01\n",
      " 3.120e+02 1.600e+01 9.220e+02 1.420e+02 2.900e+02 1.270e+02 5.060e+02\n",
      " 2.970e+02       nan 6.040e+02 2.540e+02 1.020e+02 4.720e+02 4.810e+02\n",
      " 1.080e+02 3.020e+02 1.720e+02 3.990e+02 2.700e+02 4.600e+01 2.100e+02\n",
      " 1.740e+02 3.480e+02 3.150e+02 2.990e+02 3.400e+02 1.660e+02 7.200e+01\n",
      " 3.100e+01 3.400e+01 2.380e+02 3.650e+02 5.600e+01 1.500e+02 2.780e+02\n",
      " 2.560e+02 2.250e+02 3.700e+02 3.880e+02 1.750e+02 2.960e+02 1.460e+02\n",
      " 1.130e+02 1.760e+02 6.160e+02 3.000e+01 1.060e+02 8.700e+02 3.620e+02\n",
      " 5.300e+02 5.000e+02 5.100e+02 2.470e+02 3.050e+02 2.550e+02 1.250e+02\n",
      " 1.260e+02 4.730e+02 7.400e+01 1.450e+02 2.320e+02 3.760e+02 4.200e+01\n",
      " 1.610e+02 1.800e+01 2.240e+02 2.480e+02 8.000e+01 3.040e+02 2.150e+02\n",
      " 7.720e+02 4.350e+02 3.780e+02 5.620e+02 1.680e+02 8.900e+01 2.850e+02\n",
      " 3.600e+02 9.400e+01 3.330e+02 9.210e+02 7.620e+02 5.940e+02 2.190e+02\n",
      " 1.880e+02 4.790e+02 5.840e+02 1.820e+02 2.500e+02 2.920e+02 2.450e+02\n",
      " 2.070e+02 8.200e+01 9.700e+01 3.350e+02 2.080e+02 4.200e+02 1.700e+02\n",
      " 4.590e+02 2.800e+02 9.900e+01 1.920e+02 2.040e+02 2.330e+02 1.560e+02\n",
      " 4.520e+02 2.610e+02 1.640e+02 2.590e+02 2.090e+02 2.630e+02 2.160e+02\n",
      " 3.510e+02 6.600e+02 3.810e+02 5.400e+01 5.280e+02 2.580e+02 4.640e+02\n",
      " 5.700e+01 1.470e+02 1.170e+03 2.930e+02 6.300e+02 4.660e+02 1.090e+02\n",
      " 4.100e+01 1.600e+02 2.890e+02 6.510e+02 1.690e+02 9.500e+01 4.420e+02\n",
      " 2.020e+02 3.380e+02 3.280e+02 5.130e+02 6.730e+02 6.030e+02 1.000e+00\n",
      " 3.750e+02 9.000e+01 3.800e+01 1.570e+02 1.100e+01 1.400e+02 1.300e+02\n",
      " 1.480e+02 8.600e+02 4.240e+02 1.047e+03 2.430e+02 8.160e+02 3.870e+02\n",
      " 2.230e+02 1.580e+02 1.370e+02 1.150e+02 1.890e+02 7.600e+01 2.740e+02\n",
      " 1.170e+02 6.000e+01 1.220e+02 9.200e+01 4.150e+02 7.600e+02 2.700e+01\n",
      " 7.500e+01 1.100e+02 3.610e+02 1.050e+02 3.420e+02 2.980e+02 5.410e+02\n",
      " 2.360e+02 1.440e+02 4.230e+02 4.400e+01 1.510e+02 9.750e+02 4.500e+02\n",
      " 2.300e+02 5.710e+02 2.400e+01 5.300e+01 2.060e+02 1.400e+01 3.240e+02\n",
      " 2.950e+02 3.960e+02 6.700e+01 1.540e+02 1.000e+02 4.250e+02 4.500e+01\n",
      " 1.378e+03 3.370e+02 1.490e+02 1.430e+02 5.100e+01 1.710e+02 2.340e+02\n",
      " 6.300e+01 7.660e+02 3.200e+01 8.100e+01 1.630e+02 5.540e+02 6.320e+02\n",
      " 1.140e+02 5.670e+02 3.590e+02 4.510e+02 6.210e+02 7.880e+02 8.600e+01\n",
      " 7.960e+02 3.910e+02 2.280e+02 8.800e+01 1.650e+02 4.280e+02 4.100e+02\n",
      " 5.640e+02 3.680e+02 3.180e+02 5.790e+02 6.500e+01 7.050e+02 4.080e+02\n",
      " 2.440e+02 1.230e+02 3.660e+02 7.310e+02 4.480e+02 2.940e+02 3.100e+02\n",
      " 2.370e+02 4.260e+02 9.600e+01 4.380e+02 1.940e+02 1.190e+02]\n",
      "BsmtQual:['Gd' 'TA' 'Ex' nan 'Fa']\n",
      "BsmtCond:['TA' 'Gd' nan 'Fa' 'Po']\n",
      "BsmtExposure:['No' 'Gd' 'Mn' 'Av' nan]\n",
      "BsmtFinType1:['GLQ' 'ALQ' 'Unf' 'Rec' 'BLQ' nan 'LwQ']\n",
      "BsmtFinType2:['Unf' 'BLQ' nan 'ALQ' 'Rec' 'LwQ' 'GLQ']\n",
      "Electrical:['SBrkr' 'FuseF' 'FuseA' 'FuseP' 'Mix' nan]\n",
      "FireplaceQu:[nan 'TA' 'Gd' 'Fa' 'Ex' 'Po']\n",
      "GarageType:['Attchd' 'Detchd' 'BuiltIn' 'CarPort' nan 'Basment' '2Types']\n",
      "GarageYrBlt:[2003. 1976. 2001. 1998. 2000. 1993. 2004. 1973. 1931. 1939. 1965. 2005.\n",
      " 1962. 2006. 1960. 1991. 1970. 1967. 1958. 1930. 2002. 1968. 2007. 2008.\n",
      " 1957. 1920. 1966. 1959. 1995. 1954. 1953.   nan 1983. 1977. 1997. 1985.\n",
      " 1963. 1981. 1964. 1935. 1990. 1945. 1987. 1989. 1915. 1956. 1948. 1974.\n",
      " 1950. 1961. 1921. 1999. 1979. 2009. 1951. 1969. 1936. 1975. 1971. 1923.\n",
      " 1984. 1926. 1955. 1986. 1988. 1916. 1932. 1972. 1918. 1980. 1924. 1996.\n",
      " 1940. 1949. 1994. 1910. 1978. 1982. 1992. 1925. 1941. 2010. 1927. 1947.\n",
      " 1937. 1942. 1938. 1952. 1928. 1922. 1934. 1906. 1914. 1946. 1908. 1929.\n",
      " 1933.]\n",
      "GarageFinish:['RFn' 'Unf' 'Fin' nan]\n",
      "GarageQual:['TA' 'Fa' 'Gd' nan 'Ex' 'Po']\n",
      "GarageCond:['TA' nan 'Gd' 'Fa' 'Po' 'Ex']\n"
     ]
    }
   ],
   "source": [
    "for column in list(house_R.columns[house_R.isnull().sum()>0]):\n",
    "    print(\"{}:{}\".format(column,house_R[column].unique()))"
   ]
  },
  {
   "cell_type": "code",
   "execution_count": 55,
   "metadata": {},
   "outputs": [],
   "source": [
    "## Fill GarageYrBlt with YearBuild, assumption: garage year build same as original construction date\n",
    "house_R['GarageYrBlt'].fillna(house_R['YearBuilt'], inplace=True)"
   ]
  },
  {
   "cell_type": "code",
   "execution_count": 56,
   "metadata": {},
   "outputs": [],
   "source": [
    "## Handling categorical missing data\n",
    "missing_cat = ['GarageType', 'GarageFinish', 'GarageQual', 'GarageCond', 'BsmtFinType1', 'BsmtFinType2', \n",
    "      'BsmtExposure', 'BsmtCond', 'BsmtCond', 'BsmtQual'\n",
    "     ,'MasVnrType','Electrical','FireplaceQu']\n",
    "\n",
    "house_R[missing_cat]=house_R[missing_cat].fillna('None')"
   ]
  },
  {
   "cell_type": "code",
   "execution_count": 57,
   "metadata": {
    "scrolled": false
   },
   "outputs": [
    {
     "name": "stdout",
     "output_type": "stream",
     "text": [
      "LotFrontage:[ 65.  80.  68.  60.  84.  85.  75.  nan  51.  50.  70.  91.  72.  66.\n",
      " 101.  57.  44. 110.  98.  47. 108. 112.  74. 115.  61.  48.  33.  52.\n",
      " 100.  89.  63.  76.  81.  95.  69.  21.  32.  78. 121. 122.  73.  77.\n",
      "  64.  94. 105.  90.  55.  88.  82.  71.  24. 120. 107.  92. 134.  40.\n",
      "  62.  86. 141.  97.  54.  41.  79. 174.  99.  67.  83.  43. 103.  93.\n",
      "  30. 129. 140.  34.  37. 118.  87. 116. 150. 111.  49.  96.  59.  36.\n",
      "  56.  58.  38. 109. 130.  53. 137.  35.  45. 106. 104.  42.  39. 144.\n",
      " 114. 102. 128. 149. 313. 168. 182. 138. 160. 152. 124. 153.  46.]\n",
      "MasVnrArea:[1.960e+02 0.000e+00 1.620e+02 3.500e+02 1.860e+02 2.400e+02 2.860e+02\n",
      " 3.060e+02 2.120e+02 1.800e+02 3.800e+02 2.810e+02 6.400e+02 2.000e+02\n",
      " 2.460e+02 1.320e+02 6.500e+02 1.010e+02 4.120e+02 2.720e+02 1.031e+03\n",
      " 1.780e+02 5.730e+02 3.440e+02 2.870e+02 1.670e+02 1.115e+03 4.000e+01\n",
      " 1.040e+02 5.760e+02 4.430e+02 4.680e+02 6.600e+01 2.200e+01 2.840e+02\n",
      " 2.030e+02 6.800e+01 1.830e+02 4.800e+01 2.800e+01 3.360e+02 6.000e+02\n",
      " 4.800e+02 2.200e+02 1.840e+02 1.160e+02 1.350e+02 2.660e+02 8.500e+01\n",
      " 3.090e+02 1.360e+02 2.880e+02 7.000e+01 3.200e+02 5.000e+01 1.200e+02\n",
      " 4.360e+02 2.520e+02 8.400e+01 4.560e+02 6.640e+02 2.260e+02 3.000e+02\n",
      " 6.530e+02 1.120e+02 4.910e+02 2.680e+02 7.480e+02 9.800e+01 2.750e+02\n",
      " 1.380e+02 2.050e+02 2.620e+02 1.280e+02 2.600e+02 1.530e+02 6.400e+01\n",
      " 3.120e+02 1.600e+01 9.220e+02 1.420e+02 2.900e+02 1.270e+02 5.060e+02\n",
      " 2.970e+02       nan 6.040e+02 2.540e+02 1.020e+02 4.720e+02 4.810e+02\n",
      " 1.080e+02 3.020e+02 1.720e+02 3.990e+02 2.700e+02 4.600e+01 2.100e+02\n",
      " 1.740e+02 3.480e+02 3.150e+02 2.990e+02 3.400e+02 1.660e+02 7.200e+01\n",
      " 3.100e+01 3.400e+01 2.380e+02 3.650e+02 5.600e+01 1.500e+02 2.780e+02\n",
      " 2.560e+02 2.250e+02 3.700e+02 3.880e+02 1.750e+02 2.960e+02 1.460e+02\n",
      " 1.130e+02 1.760e+02 6.160e+02 3.000e+01 1.060e+02 8.700e+02 3.620e+02\n",
      " 5.300e+02 5.000e+02 5.100e+02 2.470e+02 3.050e+02 2.550e+02 1.250e+02\n",
      " 1.260e+02 4.730e+02 7.400e+01 1.450e+02 2.320e+02 3.760e+02 4.200e+01\n",
      " 1.610e+02 1.800e+01 2.240e+02 2.480e+02 8.000e+01 3.040e+02 2.150e+02\n",
      " 7.720e+02 4.350e+02 3.780e+02 5.620e+02 1.680e+02 8.900e+01 2.850e+02\n",
      " 3.600e+02 9.400e+01 3.330e+02 9.210e+02 7.620e+02 5.940e+02 2.190e+02\n",
      " 1.880e+02 4.790e+02 5.840e+02 1.820e+02 2.500e+02 2.920e+02 2.450e+02\n",
      " 2.070e+02 8.200e+01 9.700e+01 3.350e+02 2.080e+02 4.200e+02 1.700e+02\n",
      " 4.590e+02 2.800e+02 9.900e+01 1.920e+02 2.040e+02 2.330e+02 1.560e+02\n",
      " 4.520e+02 2.610e+02 1.640e+02 2.590e+02 2.090e+02 2.630e+02 2.160e+02\n",
      " 3.510e+02 6.600e+02 3.810e+02 5.400e+01 5.280e+02 2.580e+02 4.640e+02\n",
      " 5.700e+01 1.470e+02 1.170e+03 2.930e+02 6.300e+02 4.660e+02 1.090e+02\n",
      " 4.100e+01 1.600e+02 2.890e+02 6.510e+02 1.690e+02 9.500e+01 4.420e+02\n",
      " 2.020e+02 3.380e+02 3.280e+02 5.130e+02 6.730e+02 6.030e+02 1.000e+00\n",
      " 3.750e+02 9.000e+01 3.800e+01 1.570e+02 1.100e+01 1.400e+02 1.300e+02\n",
      " 1.480e+02 8.600e+02 4.240e+02 1.047e+03 2.430e+02 8.160e+02 3.870e+02\n",
      " 2.230e+02 1.580e+02 1.370e+02 1.150e+02 1.890e+02 7.600e+01 2.740e+02\n",
      " 1.170e+02 6.000e+01 1.220e+02 9.200e+01 4.150e+02 7.600e+02 2.700e+01\n",
      " 7.500e+01 1.100e+02 3.610e+02 1.050e+02 3.420e+02 2.980e+02 5.410e+02\n",
      " 2.360e+02 1.440e+02 4.230e+02 4.400e+01 1.510e+02 9.750e+02 4.500e+02\n",
      " 2.300e+02 5.710e+02 2.400e+01 5.300e+01 2.060e+02 1.400e+01 3.240e+02\n",
      " 2.950e+02 3.960e+02 6.700e+01 1.540e+02 1.000e+02 4.250e+02 4.500e+01\n",
      " 1.378e+03 3.370e+02 1.490e+02 1.430e+02 5.100e+01 1.710e+02 2.340e+02\n",
      " 6.300e+01 7.660e+02 3.200e+01 8.100e+01 1.630e+02 5.540e+02 6.320e+02\n",
      " 1.140e+02 5.670e+02 3.590e+02 4.510e+02 6.210e+02 7.880e+02 8.600e+01\n",
      " 7.960e+02 3.910e+02 2.280e+02 8.800e+01 1.650e+02 4.280e+02 4.100e+02\n",
      " 5.640e+02 3.680e+02 3.180e+02 5.790e+02 6.500e+01 7.050e+02 4.080e+02\n",
      " 2.440e+02 1.230e+02 3.660e+02 7.310e+02 4.480e+02 2.940e+02 3.100e+02\n",
      " 2.370e+02 4.260e+02 9.600e+01 4.380e+02 1.940e+02 1.190e+02]\n"
     ]
    }
   ],
   "source": [
    "for column in list(house_R.columns[house_R.isnull().sum()>0]):\n",
    "    print(\"{}:{}\".format(column,house_R[column].unique()))"
   ]
  },
  {
   "cell_type": "code",
   "execution_count": 58,
   "metadata": {},
   "outputs": [],
   "source": [
    "## Handling numerical missing data\n",
    "house_R['MasVnrArea']=house_R['MasVnrArea'].fillna(0)\n",
    "house_R['LotFrontage']=house_R.groupby(\"Neighborhood\")[\"LotFrontage\"].transform(\n",
    "    lambda x: x.fillna(x.median()))"
   ]
  },
  {
   "cell_type": "code",
   "execution_count": 59,
   "metadata": {
    "scrolled": true
   },
   "outputs": [
    {
     "data": {
      "text/plain": [
       "Id               0\n",
       "MSSubClass       0\n",
       "MSZoning         0\n",
       "LotFrontage      0\n",
       "LotArea          0\n",
       "Street           0\n",
       "LotShape         0\n",
       "LandContour      0\n",
       "Utilities        0\n",
       "LotConfig        0\n",
       "LandSlope        0\n",
       "Neighborhood     0\n",
       "Condition1       0\n",
       "Condition2       0\n",
       "BldgType         0\n",
       "HouseStyle       0\n",
       "OverallQual      0\n",
       "OverallCond      0\n",
       "YearBuilt        0\n",
       "YearRemodAdd     0\n",
       "RoofStyle        0\n",
       "RoofMatl         0\n",
       "Exterior1st      0\n",
       "Exterior2nd      0\n",
       "MasVnrType       0\n",
       "MasVnrArea       0\n",
       "ExterQual        0\n",
       "ExterCond        0\n",
       "Foundation       0\n",
       "BsmtQual         0\n",
       "                ..\n",
       "BsmtHalfBath     0\n",
       "FullBath         0\n",
       "HalfBath         0\n",
       "BedroomAbvGr     0\n",
       "KitchenAbvGr     0\n",
       "KitchenQual      0\n",
       "TotRmsAbvGrd     0\n",
       "Functional       0\n",
       "Fireplaces       0\n",
       "FireplaceQu      0\n",
       "GarageType       0\n",
       "GarageYrBlt      0\n",
       "GarageFinish     0\n",
       "GarageCars       0\n",
       "GarageArea       0\n",
       "GarageQual       0\n",
       "GarageCond       0\n",
       "PavedDrive       0\n",
       "WoodDeckSF       0\n",
       "OpenPorchSF      0\n",
       "EnclosedPorch    0\n",
       "3SsnPorch        0\n",
       "ScreenPorch      0\n",
       "PoolArea         0\n",
       "MiscVal          0\n",
       "MoSold           0\n",
       "YrSold           0\n",
       "SaleType         0\n",
       "SaleCondition    0\n",
       "SalePrice        0\n",
       "Length: 77, dtype: int64"
      ]
     },
     "execution_count": 59,
     "metadata": {},
     "output_type": "execute_result"
    }
   ],
   "source": [
    "house_R.isnull().sum() #no missing values"
   ]
  },
  {
   "cell_type": "markdown",
   "metadata": {},
   "source": [
    "#### Finding correlation"
   ]
  },
  {
   "cell_type": "code",
   "execution_count": 60,
   "metadata": {
    "scrolled": true
   },
   "outputs": [
    {
     "data": {
      "image/png": "[encoded data removed]",
      "text/plain": [
       "<matplotlib.figure.Figure at 0x1a1bf53d68>"
      ]
     },
     "metadata": {
      "image/png": {
       "height": 304,
       "width": 354
      }
     },
     "output_type": "display_data"
    }
   ],
   "source": [
    "corrmat=house_R.corr()\n",
    "cols=corrmat.nlargest(10,'SalePrice')['SalePrice'].index\n",
    "cm=np.corrcoef(house_R[cols].values.T)\n",
    "mask=np.array(cm)\n",
    "mask[np.tril_indices_from(mask)]=False\n",
    "sns.heatmap(cm,cbar=True,mask=mask,annot=True,square=True,yticklabels=cols.values, xticklabels=cols.values)\n",
    "plt.show()"
   ]
  },
  {
   "cell_type": "code",
   "execution_count": 61,
   "metadata": {},
   "outputs": [
    {
     "data": {
      "text/plain": [
       "[('SalePrice', 1.0),\n",
       " ('OverallQual', 0.7909855412380942),\n",
       " ('GrLivArea', 0.7084991311351478),\n",
       " ('GarageCars', 0.6409538645755157),\n",
       " ('GarageArea', 0.6290484378586559),\n",
       " ('TotalBsmtSF', 0.6175360502833686),\n",
       " ('1stFlrSF', 0.6170591324139125),\n",
       " ('FullBath', 0.5570767274948868),\n",
       " ('TotRmsAbvGrd', 0.5362497505040258),\n",
       " ('YearBuilt', 0.5174661781053502)]"
      ]
     },
     "execution_count": 61,
     "metadata": {},
     "output_type": "execute_result"
    }
   ],
   "source": [
    "list(zip(list(cols),list(cm[0])))"
   ]
  },
  {
   "cell_type": "markdown",
   "metadata": {},
   "source": [
    "From heatmap/table, these are the variables most correlated with \"SalePrice\"<br>\n",
    "OverallQual,GrLivArea, GarageCars are strongly correlated with SalePrice"
   ]
  },
  {
   "cell_type": "markdown",
   "metadata": {},
   "source": [
    "#### Analyzing target variable : SalePrice"
   ]
  },
  {
   "cell_type": "code",
   "execution_count": 62,
   "metadata": {},
   "outputs": [
    {
     "name": "stderr",
     "output_type": "stream",
     "text": [
      "/anaconda3/lib/python3.6/site-packages/scipy/stats/stats.py:1706: FutureWarning: Using a non-tuple sequence for multidimensional indexing is deprecated; use `arr[tuple(seq)]` instead of `arr[seq]`. In the future this will be interpreted as an array index, `arr[np.array(seq)]`, which will result either in an error or a different result.\n",
      "  return np.add.reduce(sorted[indexer] * weights, axis=axis) / sumval\n"
     ]
    },
    {
     "data": {
      "image/png": "[encoded data removed]",
      "text/plain": [
       "<matplotlib.figure.Figure at 0x1c21633f98>"
      ]
     },
     "metadata": {
      "image/png": {
       "height": 273,
       "width": 408
      }
     },
     "output_type": "display_data"
    },
    {
     "data": {
      "image/png": "[encoded data removed]",
      "text/plain": [
       "<matplotlib.figure.Figure at 0x1a1c248eb8>"
      ]
     },
     "metadata": {
      "image/png": {
       "height": 273,
       "width": 399
      }
     },
     "output_type": "display_data"
    }
   ],
   "source": [
    "from scipy import stats\n",
    "sns.distplot(house_R['SalePrice'])\n",
    "\n",
    "plt.legend(['mu = {:.2f} and sigma = {:.2f}\\n'.format(house_R['SalePrice'].mean(), house_R['SalePrice'].std())],\n",
    "          loc='best')\n",
    "plt.ylabel('Frequency')\n",
    "plt.xlabel('Sale Price')\n",
    "plt.title('SalePrice distribution')\n",
    "\n",
    "house_R['SalePrice'].skew()\n",
    "\n",
    "# Plot Q-Q plot \n",
    "fig=plt.figure()\n",
    "stats.probplot(house_R['SalePrice'],plot=plt)\n",
    "plt.show()"
   ]
  },
  {
   "cell_type": "markdown",
   "metadata": {},
   "source": [
    "We can clearly see that the 'SalePrice' distribution is right-skewed"
   ]
  },
  {
   "cell_type": "code",
   "execution_count": 63,
   "metadata": {},
   "outputs": [
    {
     "name": "stderr",
     "output_type": "stream",
     "text": [
      "/anaconda3/lib/python3.6/site-packages/scipy/stats/stats.py:1706: FutureWarning: Using a non-tuple sequence for multidimensional indexing is deprecated; use `arr[tuple(seq)]` instead of `arr[seq]`. In the future this will be interpreted as an array index, `arr[np.array(seq)]`, which will result either in an error or a different result.\n",
      "  return np.add.reduce(sorted[indexer] * weights, axis=axis) / sumval\n"
     ]
    },
    {
     "data": {
      "image/png": "[encoded data removed]",
      "text/plain": [
       "<matplotlib.figure.Figure at 0x1a1bf822e8>"
      ]
     },
     "metadata": {
      "image/png": {
       "height": 258,
       "width": 366
      }
     },
     "output_type": "display_data"
    },
    {
     "data": {
      "image/png": "[encoded data removed]",
      "text/plain": [
       "<matplotlib.figure.Figure at 0x1a1bf82a90>"
      ]
     },
     "metadata": {
      "image/png": {
       "height": 273,
       "width": 385
      }
     },
     "output_type": "display_data"
    }
   ],
   "source": [
    "### Transforming Sale Price\n",
    "house_R['SalePrice']=np.log(house_R['SalePrice'])\n",
    "sns.distplot(house_R['SalePrice']);\n",
    "fig=plt.figure()\n",
    "res=stats.probplot(house_R['SalePrice'],plot=plt)"
   ]
  },
  {
   "cell_type": "markdown",
   "metadata": {},
   "source": [
    "#### Getting Fixed Feature columns based on heatmap"
   ]
  },
  {
   "cell_type": "code",
   "execution_count": 64,
   "metadata": {
    "scrolled": true
   },
   "outputs": [
    {
     "data": {
      "text/plain": [
       "(1221, 8)"
      ]
     },
     "execution_count": 64,
     "metadata": {},
     "output_type": "execute_result"
    }
   ],
   "source": [
    "#getting top fixed variables most correlated with \"SalePrice\"\n",
    "#['OverallQual' 'GrLivArea' 'GarageCars' 'GarageArea' 'TotalBsmtSF'\n",
    " #'1stFlrSF' 'FullBath' 'TotRmsAbvGrd' 'YearBuilt']\n",
    "#getting 2010 dataset\n",
    "\n",
    "\n",
    "top10=cols.values[1:]\n",
    "import patsy\n",
    "\n",
    "#getting \n",
    "\n",
    "house_pre2010 = house_R[house_R.YrSold < 2010]\n",
    "house_2010 = house_R[house_R.YrSold == 2010]\n",
    "\n",
    "f='SalePrice ~'+' + '.join(['GrLivArea','GarageCars', 'GarageArea','TotalBsmtSF','FullBath', 'TotRmsAbvGrd', 'YearBuilt','YrSold'])+' -1'\n",
    "y_train,X_train=patsy.dmatrices(f,data=house_pre2010,return_type='dataframe')\n",
    "y_train=y_train.values.ravel()\n",
    "X_train.shape"
   ]
  },
  {
   "cell_type": "code",
   "execution_count": 22,
   "metadata": {},
   "outputs": [
    {
     "data": {
      "text/plain": [
       "(164,)"
      ]
     },
     "execution_count": 22,
     "metadata": {},
     "output_type": "execute_result"
    }
   ],
   "source": [
    "f='SalePrice ~'+' + '.join(['GrLivArea','GarageCars', 'GarageArea','TotalBsmtSF','FullBath', 'TotRmsAbvGrd', 'YearBuilt','YrSold'])+' -1'\n",
    "y_test,X_test=patsy.dmatrices(f,data=house_2010,return_type='dataframe')\n",
    "y_test=y_test.values.ravel()\n",
    "X_test.shape\n",
    "y_test.shape\n",
    "\n",
    "print(X_test.columns)"
   ]
  },
  {
   "cell_type": "markdown",
   "metadata": {},
   "source": [
    "#### Standardize the predictors"
   ]
  },
  {
   "cell_type": "code",
   "execution_count": 23,
   "metadata": {},
   "outputs": [
    {
     "name": "stdout",
     "output_type": "stream",
     "text": [
      "(1221, 8)\n"
     ]
    }
   ],
   "source": [
    "# Standardize the predictors\n",
    "from sklearn.preprocessing import StandardScaler\n",
    "ss = StandardScaler()\n",
    "Xs_train = ss.fit_transform(X_train)\n",
    "Xs_test = ss.fit_transform(X_test)\n",
    "print(Xs_train.shape)"
   ]
  },
  {
   "cell_type": "markdown",
   "metadata": {},
   "source": [
    "#### Try stats model to exclude not significant features"
   ]
  },
  {
   "cell_type": "code",
   "execution_count": 24,
   "metadata": {},
   "outputs": [
    {
     "name": "stderr",
     "output_type": "stream",
     "text": [
      "/anaconda3/lib/python3.6/site-packages/statsmodels/compat/pandas.py:56: FutureWarning: The pandas.core.datetools module is deprecated and will be removed in a future version. Please use the pandas.tseries module instead.\n",
      "  from pandas.core import datetools\n"
     ]
    },
    {
     "name": "stdout",
     "output_type": "stream",
     "text": [
      "MSE: 0.027955593523099915\n"
     ]
    },
    {
     "data": {
      "image/png": "[encoded data removed]",
      "text/plain": [
       "<matplotlib.figure.Figure at 0x1a1b545828>"
      ]
     },
     "metadata": {
      "image/png": {
       "height": 370,
       "width": 499
      }
     },
     "output_type": "display_data"
    },
    {
     "data": {
      "text/html": [
       "<table class=\"simpletable\">\n",
       "<caption>OLS Regression Results</caption>\n",
       "<tr>\n",
       "  <th>Dep. Variable:</th>            <td>y</td>        <th>  R-squared:         </th> <td>   0.758</td>\n",
       "</tr>\n",
       "<tr>\n",
       "  <th>Model:</th>                   <td>OLS</td>       <th>  Adj. R-squared:    </th> <td>   0.756</td>\n",
       "</tr>\n",
       "<tr>\n",
       "  <th>Method:</th>             <td>Least Squares</td>  <th>  F-statistic:       </th> <td>   473.3</td>\n",
       "</tr>\n",
       "<tr>\n",
       "  <th>Date:</th>             <td>Thu, 11 Oct 2018</td> <th>  Prob (F-statistic):</th>  <td>  0.00</td> \n",
       "</tr>\n",
       "<tr>\n",
       "  <th>Time:</th>                 <td>13:01:21</td>     <th>  Log-Likelihood:    </th> <td>  268.92</td>\n",
       "</tr>\n",
       "<tr>\n",
       "  <th>No. Observations:</th>      <td>  1221</td>      <th>  AIC:               </th> <td>  -519.8</td>\n",
       "</tr>\n",
       "<tr>\n",
       "  <th>Df Residuals:</th>          <td>  1212</td>      <th>  BIC:               </th> <td>  -473.9</td>\n",
       "</tr>\n",
       "<tr>\n",
       "  <th>Df Model:</th>              <td>     8</td>      <th>                     </th>     <td> </td>   \n",
       "</tr>\n",
       "<tr>\n",
       "  <th>Covariance Type:</th>      <td>nonrobust</td>    <th>                     </th>     <td> </td>   \n",
       "</tr>\n",
       "</table>\n",
       "<table class=\"simpletable\">\n",
       "<tr>\n",
       "    <td></td>       <th>coef</th>     <th>std err</th>      <th>t</th>      <th>P>|t|</th>  <th>[0.025</th>    <th>0.975]</th>  \n",
       "</tr>\n",
       "<tr>\n",
       "  <th>x1</th>    <td>    0.1822</td> <td>    0.012</td> <td>   15.528</td> <td> 0.000</td> <td>    0.159</td> <td>    0.205</td>\n",
       "</tr>\n",
       "<tr>\n",
       "  <th>x2</th>    <td>    0.0872</td> <td>    0.013</td> <td>    6.869</td> <td> 0.000</td> <td>    0.062</td> <td>    0.112</td>\n",
       "</tr>\n",
       "<tr>\n",
       "  <th>x3</th>    <td>    0.0083</td> <td>    0.013</td> <td>    0.658</td> <td> 0.511</td> <td>   -0.016</td> <td>    0.033</td>\n",
       "</tr>\n",
       "<tr>\n",
       "  <th>x4</th>    <td>    0.0688</td> <td>    0.007</td> <td>    9.622</td> <td> 0.000</td> <td>    0.055</td> <td>    0.083</td>\n",
       "</tr>\n",
       "<tr>\n",
       "  <th>x5</th>    <td>    0.0056</td> <td>    0.008</td> <td>    0.689</td> <td> 0.491</td> <td>   -0.010</td> <td>    0.022</td>\n",
       "</tr>\n",
       "<tr>\n",
       "  <th>x6</th>    <td>   -0.0073</td> <td>    0.010</td> <td>   -0.707</td> <td> 0.480</td> <td>   -0.027</td> <td>    0.013</td>\n",
       "</tr>\n",
       "<tr>\n",
       "  <th>x7</th>    <td>    0.1105</td> <td>    0.007</td> <td>   14.785</td> <td> 0.000</td> <td>    0.096</td> <td>    0.125</td>\n",
       "</tr>\n",
       "<tr>\n",
       "  <th>x8</th>    <td>   -0.0050</td> <td>    0.006</td> <td>   -0.887</td> <td> 0.375</td> <td>   -0.016</td> <td>    0.006</td>\n",
       "</tr>\n",
       "<tr>\n",
       "  <th>const</th> <td>   12.0222</td> <td>    0.006</td> <td> 2155.879</td> <td> 0.000</td> <td>   12.011</td> <td>   12.033</td>\n",
       "</tr>\n",
       "</table>\n",
       "<table class=\"simpletable\">\n",
       "<tr>\n",
       "  <th>Omnibus:</th>       <td>759.451</td> <th>  Durbin-Watson:     </th> <td>   1.955</td> \n",
       "</tr>\n",
       "<tr>\n",
       "  <th>Prob(Omnibus):</th> <td> 0.000</td>  <th>  Jarque-Bera (JB):  </th> <td>28090.582</td>\n",
       "</tr>\n",
       "<tr>\n",
       "  <th>Skew:</th>          <td>-2.291</td>  <th>  Prob(JB):          </th> <td>    0.00</td> \n",
       "</tr>\n",
       "<tr>\n",
       "  <th>Kurtosis:</th>      <td>26.047</td>  <th>  Cond. No.          </th> <td>    6.04</td> \n",
       "</tr>\n",
       "</table>"
      ],
      "text/plain": [
       "<class 'statsmodels.iolib.summary.Summary'>\n",
       "\"\"\"\n",
       "                            OLS Regression Results                            \n",
       "==============================================================================\n",
       "Dep. Variable:                      y   R-squared:                       0.758\n",
       "Model:                            OLS   Adj. R-squared:                  0.756\n",
       "Method:                 Least Squares   F-statistic:                     473.3\n",
       "Date:                Thu, 11 Oct 2018   Prob (F-statistic):               0.00\n",
       "Time:                        13:01:21   Log-Likelihood:                 268.92\n",
       "No. Observations:                1221   AIC:                            -519.8\n",
       "Df Residuals:                    1212   BIC:                            -473.9\n",
       "Df Model:                           8                                         \n",
       "Covariance Type:            nonrobust                                         \n",
       "==============================================================================\n",
       "                 coef    std err          t      P>|t|      [0.025      0.975]\n",
       "------------------------------------------------------------------------------\n",
       "x1             0.1822      0.012     15.528      0.000       0.159       0.205\n",
       "x2             0.0872      0.013      6.869      0.000       0.062       0.112\n",
       "x3             0.0083      0.013      0.658      0.511      -0.016       0.033\n",
       "x4             0.0688      0.007      9.622      0.000       0.055       0.083\n",
       "x5             0.0056      0.008      0.689      0.491      -0.010       0.022\n",
       "x6            -0.0073      0.010     -0.707      0.480      -0.027       0.013\n",
       "x7             0.1105      0.007     14.785      0.000       0.096       0.125\n",
       "x8            -0.0050      0.006     -0.887      0.375      -0.016       0.006\n",
       "const         12.0222      0.006   2155.879      0.000      12.011      12.033\n",
       "==============================================================================\n",
       "Omnibus:                      759.451   Durbin-Watson:                   1.955\n",
       "Prob(Omnibus):                  0.000   Jarque-Bera (JB):            28090.582\n",
       "Skew:                          -2.291   Prob(JB):                         0.00\n",
       "Kurtosis:                      26.047   Cond. No.                         6.04\n",
       "==============================================================================\n",
       "\n",
       "Warnings:\n",
       "[1] Standard Errors assume that the covariance matrix of the errors is correctly specified.\n",
       "\"\"\""
      ]
     },
     "execution_count": 24,
     "metadata": {},
     "output_type": "execute_result"
    }
   ],
   "source": [
    "import statsmodels.api as sm\n",
    "from sklearn import metrics\n",
    "X_train_OLS=np.concatenate([Xs_train, np.ones((X_train.shape[0], 1))], axis=1)\n",
    "X_test_OLS=np.concatenate([Xs_test, np.ones((X_test.shape[0], 1))], axis=1)\n",
    "\n",
    "model=sm.OLS(y_train,X_train_OLS)\n",
    "model=model.fit()\n",
    "predictions_OLS=model.predict(X_test_OLS)\n",
    "\n",
    "# Plot the model\n",
    "print(\"MSE:\", metrics.mean_squared_error(y_test, predictions_OLS))\n",
    "\n",
    "plt.figure(figsize=(8,6))\n",
    "plt.scatter(predictions_OLS, y_test, s=30, c='r', marker='+', zorder=10)\n",
    "plt.xlabel(\"Predicted Values - $\\hat{y}$\")\n",
    "plt.ylabel(\"Actual Values - $y$\")\n",
    "plt.show()\n",
    "\n",
    "model.summary()"
   ]
  },
  {
   "cell_type": "markdown",
   "metadata": {},
   "source": [
    "R square=0.758, the model quite good <br>\n",
    "Features x3, x5, x6 ,x8 greater than 0.05 which indicates they are not statistically significant <br>\n",
    "x3='GarageArea' <br>\n",
    "x5='FullBath' <br>\n",
    "x6='TotRmsAbvGrd' <br>\n",
    "x8='YrSold' <br>"
   ]
  },
  {
   "cell_type": "markdown",
   "metadata": {},
   "source": [
    "#### removing 'GarageArea','FullBath','TotRmsAbvGrd','YrSold'"
   ]
  },
  {
   "cell_type": "code",
   "execution_count": 25,
   "metadata": {},
   "outputs": [],
   "source": [
    "f='SalePrice ~'+' + '.join(['GrLivArea','GarageCars','TotalBsmtSF','YearBuilt'])+' -1'\n",
    "y_train,X_train=patsy.dmatrices(f,data=house_pre2010,return_type='dataframe')\n",
    "y_train=y_train.values.ravel()\n",
    "X_train.shape\n",
    "f='SalePrice ~'+' + '.join(['GrLivArea','GarageCars','TotalBsmtSF', 'YearBuilt'])+' -1'\n",
    "y_test,X_test=patsy.dmatrices(f,data=house_2010,return_type='dataframe')\n",
    "y_test=y_test.values.ravel()\n",
    "X_test.shape\n",
    "y_test.shape\n",
    "\n",
    "# Standardize the predictors\n",
    "from sklearn.preprocessing import StandardScaler\n",
    "ss = StandardScaler()\n",
    "Xs_train = ss.fit_transform(X_train)\n",
    "Xs_test = ss.fit_transform(X_test)"
   ]
  },
  {
   "cell_type": "markdown",
   "metadata": {},
   "source": [
    "#### Building linear regression model"
   ]
  },
  {
   "cell_type": "code",
   "execution_count": 26,
   "metadata": {},
   "outputs": [
    {
     "name": "stdout",
     "output_type": "stream",
     "text": [
      "Average CV score 0.8021389249925939\n",
      "Score: 0.824213355345988\n",
      "RMSE: 0.1669152749478773\n",
      "[0.17955454 0.09400648 0.07025419 0.11255311]\n",
      "12.022180875538245\n"
     ]
    },
    {
     "data": {
      "image/png": "[encoded data removed]",
      "text/plain": [
       "<matplotlib.figure.Figure at 0x1c1dd05588>"
      ]
     },
     "metadata": {
      "image/png": {
       "height": 258,
       "width": 391
      }
     },
     "output_type": "display_data"
    }
   ],
   "source": [
    "from sklearn import linear_model\n",
    "from sklearn.model_selection import cross_val_score\n",
    "\n",
    "lm = linear_model.LinearRegression(normalize=True)\n",
    "\n",
    "model = lm.fit(Xs_train, y_train)\n",
    "predictions = lm.predict(Xs_test)\n",
    "\n",
    "lm_scores = cross_val_score(model, Xs_test, y_test, cv=10)\n",
    "print(\"Average CV score\",np.mean(lm_scores))\n",
    "\n",
    "print(\"Score:\", model.score(Xs_test, y_test))\n",
    "\n",
    "# calculate RMSE\n",
    "print(\"RMSE:\", np.sqrt(metrics.mean_squared_error(y_test, predictions)))\n",
    "\n",
    "# examine the coefficients\n",
    "print(lm.coef_)\n",
    "print(lm.intercept_)\n",
    "\n",
    "## The line / model\n",
    "plt.scatter(y_test, predictions)\n",
    "plt.xlabel(\"True Values\")\n",
    "plt.ylabel(\"Predictions\")\n",
    "plt.show()"
   ]
  },
  {
   "cell_type": "markdown",
   "metadata": {},
   "source": [
    "Score =  0.8021 is slighty better than stats_model (R2=0.758)"
   ]
  },
  {
   "cell_type": "markdown",
   "metadata": {},
   "source": [
    "#### Using Lasso Regression"
   ]
  },
  {
   "cell_type": "code",
   "execution_count": 27,
   "metadata": {},
   "outputs": [
    {
     "name": "stdout",
     "output_type": "stream",
     "text": [
      "Score:  0.7983308563416669\n",
      "RMSE :  0.17878162111788437\n"
     ]
    }
   ],
   "source": [
    "from sklearn.linear_model import Lasso\n",
    "lassoreg = Lasso(alpha=0.001, normalize=True)\n",
    "lassoreg.fit(Xs_train, y_train)\n",
    "y_pred = lassoreg.predict(Xs_test)\n",
    "\n",
    "print(\"Score: \",lassoreg.score(Xs_test, y_test))\n",
    "print(\"RMSE : \", np.sqrt(metrics.mean_squared_error(y_test, y_pred)))"
   ]
  },
  {
   "cell_type": "markdown",
   "metadata": {},
   "source": [
    "#### Finding optimal value with LassoCV"
   ]
  },
  {
   "cell_type": "code",
   "execution_count": 28,
   "metadata": {
    "scrolled": true
   },
   "outputs": [
    {
     "name": "stderr",
     "output_type": "stream",
     "text": [
      ".................................................................................................................................................................................................................................................................................................................................................................................................................................................................................................................................................................................................................................................................................................................................................................................................................................................................................................................................................................................................................................................................................................................................................................................................................................................................................................................................................................................................................................................................................................................................................................................................................................................................................................................................................................................................................................................................................................................................................................................................................................................................................................................................................................................................................................................................................................................................................................................................................................................................................................................................................................................................................................................................................................................................................................................................................................................................................................................................................................................................................................................................................................................................................................................................................................................................................................................................................................................................................................................................................................................................................................................................................................................................................................................................................................................................................................................................................................................................................................................................................................................................................................................................................................................................................................................................................................................................................................................................................................................................................................................................................................................................................................................................................."
     ]
    },
    {
     "name": "stdout",
     "output_type": "stream",
     "text": [
      "0.0051586325872008156\n"
     ]
    },
    {
     "name": "stderr",
     "output_type": "stream",
     "text": [
      "......................................................................................................................................................................................................................................................................................................................................................................................................................................................................................................................[Parallel(n_jobs=1)]: Done  10 out of  10 | elapsed:    1.7s finished\n"
     ]
    }
   ],
   "source": [
    "from sklearn.linear_model import LassoCV\n",
    "optimal_lasso = LassoCV(n_alphas=500, cv=10, verbose=1)\n",
    "optimal_lasso.fit(Xs_train, y_train)\n",
    "y_pred =optimal_lasso.predict(Xs_test)\n",
    "\n",
    "print(optimal_lasso.alpha_)"
   ]
  },
  {
   "cell_type": "code",
   "execution_count": 29,
   "metadata": {},
   "outputs": [
    {
     "name": "stdout",
     "output_type": "stream",
     "text": [
      "Best alpha:  0.0051586325872008156\n",
      "Score : 0.8221835862279122\n",
      "RMSE:  0.16787617577925257\n"
     ]
    }
   ],
   "source": [
    "print(\"Best alpha: \",optimal_lasso.alpha_)\n",
    "print(\"Score :\", optimal_lasso.score(Xs_test, y_test))\n",
    "print(\"RMSE: \", np.sqrt(metrics.mean_squared_error(y_test, y_pred)))"
   ]
  },
  {
   "cell_type": "code",
   "execution_count": 30,
   "metadata": {},
   "outputs": [
    {
     "data": {
      "text/html": [
       "<div>\n",
       "<style scoped>\n",
       "    .dataframe tbody tr th:only-of-type {\n",
       "        vertical-align: middle;\n",
       "    }\n",
       "\n",
       "    .dataframe tbody tr th {\n",
       "        vertical-align: top;\n",
       "    }\n",
       "\n",
       "    .dataframe thead th {\n",
       "        text-align: right;\n",
       "    }\n",
       "</style>\n",
       "<table border=\"1\" class=\"dataframe\">\n",
       "  <thead>\n",
       "    <tr style=\"text-align: right;\">\n",
       "      <th></th>\n",
       "      <th>abs_coef</th>\n",
       "      <th>coef</th>\n",
       "      <th>variable</th>\n",
       "    </tr>\n",
       "  </thead>\n",
       "  <tbody>\n",
       "    <tr>\n",
       "      <th>0</th>\n",
       "      <td>0.176432</td>\n",
       "      <td>0.176432</td>\n",
       "      <td>GrLivArea</td>\n",
       "    </tr>\n",
       "    <tr>\n",
       "      <th>3</th>\n",
       "      <td>0.109389</td>\n",
       "      <td>0.109389</td>\n",
       "      <td>YearBuilt</td>\n",
       "    </tr>\n",
       "    <tr>\n",
       "      <th>1</th>\n",
       "      <td>0.092843</td>\n",
       "      <td>0.092843</td>\n",
       "      <td>GarageCars</td>\n",
       "    </tr>\n",
       "    <tr>\n",
       "      <th>2</th>\n",
       "      <td>0.068362</td>\n",
       "      <td>0.068362</td>\n",
       "      <td>TotalBsmtSF</td>\n",
       "    </tr>\n",
       "  </tbody>\n",
       "</table>\n",
       "</div>"
      ],
      "text/plain": [
       "   abs_coef      coef     variable\n",
       "0  0.176432  0.176432    GrLivArea\n",
       "3  0.109389  0.109389    YearBuilt\n",
       "1  0.092843  0.092843   GarageCars\n",
       "2  0.068362  0.068362  TotalBsmtSF"
      ]
     },
     "execution_count": 30,
     "metadata": {},
     "output_type": "execute_result"
    }
   ],
   "source": [
    "# examine the coefficients\n",
    "lasso_coefs = pd.DataFrame({'variable':['GrLivArea','GarageCars','TotalBsmtSF','YearBuilt'],\n",
    "                            'coef':optimal_lasso.coef_,\n",
    "                            'abs_coef':np.abs(optimal_lasso.coef_)})\n",
    "\n",
    "lasso_coefs.sort_values('abs_coef', inplace=True, ascending=False)\n",
    "\n",
    "lasso_coefs.head()"
   ]
  },
  {
   "cell_type": "markdown",
   "metadata": {},
   "source": [
    "#### Ridge Regression Model"
   ]
  },
  {
   "cell_type": "code",
   "execution_count": 31,
   "metadata": {},
   "outputs": [
    {
     "name": "stdout",
     "output_type": "stream",
     "text": [
      "Score: 0.8242133553459879\n",
      "RMSE alpha=0:  0.16691527494787733\n"
     ]
    }
   ],
   "source": [
    "from sklearn.linear_model import Ridge\n",
    "ridgereg = Ridge(alpha=0, normalize=True)\n",
    "ridgereg.fit(Xs_train, y_train)\n",
    "y_pred = ridgereg.predict(Xs_test)\n",
    "print(\"Score:\", ridgereg.score(Xs_test, y_test))\n",
    "print(\"RMSE alpha=0: \", np.sqrt(metrics.mean_squared_error(y_test, y_pred)))"
   ]
  },
  {
   "cell_type": "code",
   "execution_count": 32,
   "metadata": {},
   "outputs": [
    {
     "name": "stdout",
     "output_type": "stream",
     "text": [
      "Best alpha:  0.1\n",
      "Best intercept:  12.022180875538245\n",
      "Score: 0.8224921100295046\n",
      "RMSE:  0.1677304741513291\n"
     ]
    }
   ],
   "source": [
    "from sklearn.linear_model import RidgeCV\n",
    "alpha_range = [0.001, 0.1, 1, 10, 25, 50, 100, 200]\n",
    "ridgeregcv = RidgeCV(alphas=alpha_range, normalize=True, scoring='neg_mean_squared_error')\n",
    "ridgeregcv.fit(Xs_train, y_train)\n",
    "# predict method uses the best alpha value\n",
    "y_pred = ridgeregcv.predict(Xs_test)\n",
    "\n",
    "print(\"Best alpha: \", ridgeregcv.alpha_)\n",
    "print(\"Best intercept: \", ridgeregcv.intercept_)\n",
    "print(\"Score:\", ridgeregcv.score(Xs_test, y_test))\n",
    "print(\"RMSE: \",np.sqrt(metrics.mean_squared_error(y_test, y_pred)))"
   ]
  },
  {
   "cell_type": "markdown",
   "metadata": {},
   "source": [
    "### comparison of ridge, lasso regression and linear regression\n",
    "Linear Regression, Score:  0.8021389249925939 <br>\n",
    "Lasso Regression,Score : 0.8221835862279121 <br>\n",
    "Ridge Regression,Score : 0.8224921100295037 <br><br>\n",
    "    \n",
    "Ridge Regression gave me better model\n",
    "    "
   ]
  },
  {
   "cell_type": "markdown",
   "metadata": {},
   "source": [
    "<img src=\"http://imgur.com/l5NasQj.png\" style=\"float: left; margin: 25px 15px 0px 0px; height: 25px\">\n",
    "\n",
    "## 2. Determine any value of *changeable* property characteristics unexplained by the *fixed* ones.\n",
    "\n",
    "---\n",
    "\n",
    "Now that you have a model that estimates the price of a house based on its static characteristics, we can move forward with part 2 and 3 of the plan: what are the costs/benefits of quality, condition, and renovations?\n",
    "\n",
    "There are two specific requirements for these estimates:\n",
    "1. The estimates of effects must be in terms of dollars added or subtracted from the house value. \n",
    "2. The effects must be on the variance in price remaining from the first model.\n",
    "\n",
    "The residuals from the first model (training and testing) represent the variance in price unexplained by the fixed characteristics. Of that variance in price remaining, how much of it can be explained by the easy-to-change aspects of the property?\n",
    "\n",
    "---\n",
    "\n",
    "**Your goals:**\n",
    "1. Evaluate the effect in dollars of the renovate-able features. \n",
    "- How would your company use this second model and its coefficients to determine whether they should buy a property or not? Explain how the company can use the two models you have built to determine if they can make money. \n",
    "- Investigate how much of the variance in price remaining is explained by these features.\n",
    "- Do you trust your model? Should it be used to evaluate which properties to buy and fix up?"
   ]
  },
  {
   "cell_type": "code",
   "execution_count": 33,
   "metadata": {},
   "outputs": [
    {
     "name": "stdout",
     "output_type": "stream",
     "text": [
      "   Id  MSSubClass MSZoning  LotFrontage  LotArea Street LotShape LandContour  \\\n",
      "0   1          60       RL         65.0     8450   Pave      Reg         Lvl   \n",
      "1   2          20       RL         80.0     9600   Pave      Reg         Lvl   \n",
      "2   3          60       RL         68.0    11250   Pave      IR1         Lvl   \n",
      "3   4          70       RL         60.0     9550   Pave      IR1         Lvl   \n",
      "4   5          60       RL         84.0    14260   Pave      IR1         Lvl   \n",
      "\n",
      "  Utilities LotConfig    ...     EnclosedPorch 3SsnPorch  ScreenPorch  \\\n",
      "0    AllPub    Inside    ...                 0         0            0   \n",
      "1    AllPub       FR2    ...                 0         0            0   \n",
      "2    AllPub    Inside    ...                 0         0            0   \n",
      "3    AllPub    Corner    ...               272         0            0   \n",
      "4    AllPub       FR2    ...                 0         0            0   \n",
      "\n",
      "   PoolArea MiscVal MoSold  YrSold  SaleType  SaleCondition  SalePrice  \n",
      "0         0       0      2    2008        WD              4  12.247694  \n",
      "1         0       0      5    2007        WD              4  12.109011  \n",
      "2         0       0      9    2008        WD              4  12.317167  \n",
      "3         0       0      2    2006        WD              0  11.849398  \n",
      "4         0       0     12    2008        WD              4  12.429216  \n",
      "\n",
      "[5 rows x 77 columns]\n"
     ]
    }
   ],
   "source": [
    "#### Converting categorical to numerical variable\n",
    "from sklearn.preprocessing import LabelEncoder\n",
    "le = LabelEncoder()\n",
    "for i in ['Condition1', 'Condition2', 'OverallQual', 'OverallCond', 'RoofStyle', 'RoofMatl', \n",
    "                       'Exterior1st', 'Exterior2nd', 'MasVnrType', 'ExterQual', 'ExterCond', 'BsmtQual', 'BsmtCond', \n",
    "                       'BsmtFinType1', 'BsmtFinType2', 'BsmtUnfSF', 'Heating', 'HeatingQC', \n",
    "                       'CentralAir', 'Electrical', 'LowQualFinSF', 'KitchenQual', 'Functional',  \n",
    "                       'GarageFinish', 'GarageQual', 'GarageCond','SaleCondition']:\n",
    "    house_R[i] = le.fit_transform(house_R[i])\n",
    "\n",
    "print(house_R.head())"
   ]
  },
  {
   "cell_type": "code",
   "execution_count": 34,
   "metadata": {},
   "outputs": [
    {
     "data": {
      "text/plain": [
       "(1221, 27)"
      ]
     },
     "execution_count": 34,
     "metadata": {},
     "output_type": "execute_result"
    }
   ],
   "source": [
    "import patsy\n",
    "\n",
    "house_pre2010 = house_R[house_R.YrSold < 2010]\n",
    "house_2010 = house_R[house_R.YrSold == 2010]\n",
    "\n",
    "f='SalePrice ~'+' + '.join(['Condition1', 'Condition2', 'OverallQual', 'OverallCond', 'RoofStyle', 'RoofMatl', \n",
    "                       'Exterior1st', 'Exterior2nd', 'MasVnrType', 'ExterQual', 'ExterCond', 'BsmtQual', 'BsmtCond', \n",
    "                       'BsmtFinType1', 'BsmtFinType2', 'BsmtUnfSF', 'Heating', 'HeatingQC', \n",
    "                       'CentralAir', 'Electrical', 'LowQualFinSF', 'KitchenQual', 'Functional',  \n",
    "                       'GarageFinish', 'GarageQual', 'GarageCond','SaleCondition'])+' -1'\n",
    "y_train,X_train=patsy.dmatrices(f,data=house_pre2010,return_type='dataframe')\n",
    "y_train=y_train.values.ravel()\n",
    "X_train.shape"
   ]
  },
  {
   "cell_type": "code",
   "execution_count": 35,
   "metadata": {},
   "outputs": [
    {
     "data": {
      "text/plain": [
       "(164,)"
      ]
     },
     "execution_count": 35,
     "metadata": {},
     "output_type": "execute_result"
    }
   ],
   "source": [
    "f='SalePrice ~'+' + '.join(['Condition1', 'Condition2', 'OverallQual', 'OverallCond', 'RoofStyle', 'RoofMatl', \n",
    "                       'Exterior1st', 'Exterior2nd', 'MasVnrType', 'ExterQual', 'ExterCond', 'BsmtQual', 'BsmtCond', \n",
    "                       'BsmtFinType1', 'BsmtFinType2', 'BsmtUnfSF', 'Heating', 'HeatingQC', \n",
    "                       'CentralAir', 'Electrical', 'LowQualFinSF', 'KitchenQual', 'Functional',  \n",
    "                       'GarageFinish', 'GarageQual', 'GarageCond','SaleCondition'])+' -1'\n",
    "y_test,X_test=patsy.dmatrices(f,data=house_2010,return_type='dataframe')\n",
    "y_test=y_test.values.ravel()\n",
    "X_test.shape\n",
    "y_test.shape"
   ]
  },
  {
   "cell_type": "markdown",
   "metadata": {},
   "source": [
    "#### Try stats model to exclude not significant features"
   ]
  },
  {
   "cell_type": "code",
   "execution_count": 36,
   "metadata": {},
   "outputs": [
    {
     "name": "stdout",
     "output_type": "stream",
     "text": [
      "MSE: 0.03815579976564722\n"
     ]
    },
    {
     "data": {
      "image/png": "[encoded data removed]",
      "text/plain": [
       "<matplotlib.figure.Figure at 0x1c1d081da0>"
      ]
     },
     "metadata": {
      "image/png": {
       "height": 370,
       "width": 499
      }
     },
     "output_type": "display_data"
    },
    {
     "data": {
      "text/html": [
       "<table class=\"simpletable\">\n",
       "<caption>OLS Regression Results</caption>\n",
       "<tr>\n",
       "  <th>Dep. Variable:</th>            <td>y</td>        <th>  R-squared:         </th> <td>   0.745</td>\n",
       "</tr>\n",
       "<tr>\n",
       "  <th>Model:</th>                   <td>OLS</td>       <th>  Adj. R-squared:    </th> <td>   0.739</td>\n",
       "</tr>\n",
       "<tr>\n",
       "  <th>Method:</th>             <td>Least Squares</td>  <th>  F-statistic:       </th> <td>   128.9</td>\n",
       "</tr>\n",
       "<tr>\n",
       "  <th>Date:</th>             <td>Thu, 11 Oct 2018</td> <th>  Prob (F-statistic):</th>  <td>  0.00</td> \n",
       "</tr>\n",
       "<tr>\n",
       "  <th>Time:</th>                 <td>13:01:54</td>     <th>  Log-Likelihood:    </th> <td>  237.65</td>\n",
       "</tr>\n",
       "<tr>\n",
       "  <th>No. Observations:</th>      <td>  1221</td>      <th>  AIC:               </th> <td>  -419.3</td>\n",
       "</tr>\n",
       "<tr>\n",
       "  <th>Df Residuals:</th>          <td>  1193</td>      <th>  BIC:               </th> <td>  -276.3</td>\n",
       "</tr>\n",
       "<tr>\n",
       "  <th>Df Model:</th>              <td>    27</td>      <th>                     </th>     <td> </td>   \n",
       "</tr>\n",
       "<tr>\n",
       "  <th>Covariance Type:</th>      <td>nonrobust</td>    <th>                     </th>     <td> </td>   \n",
       "</tr>\n",
       "</table>\n",
       "<table class=\"simpletable\">\n",
       "<tr>\n",
       "    <td></td>       <th>coef</th>     <th>std err</th>      <th>t</th>      <th>P>|t|</th>  <th>[0.025</th>    <th>0.975]</th>  \n",
       "</tr>\n",
       "<tr>\n",
       "  <th>x1</th>    <td>    0.0087</td> <td>    0.007</td> <td>    1.284</td> <td> 0.199</td> <td>   -0.005</td> <td>    0.022</td>\n",
       "</tr>\n",
       "<tr>\n",
       "  <th>x2</th>    <td>   -0.0229</td> <td>    0.021</td> <td>   -1.099</td> <td> 0.272</td> <td>   -0.064</td> <td>    0.018</td>\n",
       "</tr>\n",
       "<tr>\n",
       "  <th>x3</th>    <td>    0.1598</td> <td>    0.007</td> <td>   23.781</td> <td> 0.000</td> <td>    0.147</td> <td>    0.173</td>\n",
       "</tr>\n",
       "<tr>\n",
       "  <th>x4</th>    <td>    0.0173</td> <td>    0.006</td> <td>    2.982</td> <td> 0.003</td> <td>    0.006</td> <td>    0.029</td>\n",
       "</tr>\n",
       "<tr>\n",
       "  <th>x5</th>    <td>    0.0206</td> <td>    0.007</td> <td>    2.852</td> <td> 0.004</td> <td>    0.006</td> <td>    0.035</td>\n",
       "</tr>\n",
       "<tr>\n",
       "  <th>x6</th>    <td>    0.0414</td> <td>    0.009</td> <td>    4.369</td> <td> 0.000</td> <td>    0.023</td> <td>    0.060</td>\n",
       "</tr>\n",
       "<tr>\n",
       "  <th>x7</th>    <td>   -0.0079</td> <td>    0.004</td> <td>   -2.189</td> <td> 0.029</td> <td>   -0.015</td> <td>   -0.001</td>\n",
       "</tr>\n",
       "<tr>\n",
       "  <th>x8</th>    <td>    0.0063</td> <td>    0.003</td> <td>    1.898</td> <td> 0.058</td> <td>   -0.000</td> <td>    0.013</td>\n",
       "</tr>\n",
       "<tr>\n",
       "  <th>x9</th>    <td>   -0.0140</td> <td>    0.010</td> <td>   -1.445</td> <td> 0.149</td> <td>   -0.033</td> <td>    0.005</td>\n",
       "</tr>\n",
       "<tr>\n",
       "  <th>x10</th>   <td>   -0.0203</td> <td>    0.013</td> <td>   -1.559</td> <td> 0.119</td> <td>   -0.046</td> <td>    0.005</td>\n",
       "</tr>\n",
       "<tr>\n",
       "  <th>x11</th>   <td>    0.0152</td> <td>    0.008</td> <td>    1.801</td> <td> 0.072</td> <td>   -0.001</td> <td>    0.032</td>\n",
       "</tr>\n",
       "<tr>\n",
       "  <th>x12</th>   <td>   -0.0341</td> <td>    0.006</td> <td>   -5.365</td> <td> 0.000</td> <td>   -0.047</td> <td>   -0.022</td>\n",
       "</tr>\n",
       "<tr>\n",
       "  <th>x13</th>   <td>    0.0036</td> <td>    0.006</td> <td>    0.570</td> <td> 0.569</td> <td>   -0.009</td> <td>    0.016</td>\n",
       "</tr>\n",
       "<tr>\n",
       "  <th>x14</th>   <td>   -0.0197</td> <td>    0.003</td> <td>   -6.241</td> <td> 0.000</td> <td>   -0.026</td> <td>   -0.013</td>\n",
       "</tr>\n",
       "<tr>\n",
       "  <th>x15</th>   <td>   -0.0140</td> <td>    0.005</td> <td>   -2.746</td> <td> 0.006</td> <td>   -0.024</td> <td>   -0.004</td>\n",
       "</tr>\n",
       "<tr>\n",
       "  <th>x16</th>   <td> 6.827e-05</td> <td> 3.41e-05</td> <td>    1.999</td> <td> 0.046</td> <td> 1.27e-06</td> <td>    0.000</td>\n",
       "</tr>\n",
       "<tr>\n",
       "  <th>x17</th>   <td>   -0.0060</td> <td>    0.021</td> <td>   -0.293</td> <td> 0.770</td> <td>   -0.046</td> <td>    0.034</td>\n",
       "</tr>\n",
       "<tr>\n",
       "  <th>x18</th>   <td>   -0.0128</td> <td>    0.004</td> <td>   -3.187</td> <td> 0.001</td> <td>   -0.021</td> <td>   -0.005</td>\n",
       "</tr>\n",
       "<tr>\n",
       "  <th>x19</th>   <td>    0.1058</td> <td>    0.029</td> <td>    3.679</td> <td> 0.000</td> <td>    0.049</td> <td>    0.162</td>\n",
       "</tr>\n",
       "<tr>\n",
       "  <th>x20</th>   <td>    0.0105</td> <td>    0.005</td> <td>    2.248</td> <td> 0.025</td> <td>    0.001</td> <td>    0.020</td>\n",
       "</tr>\n",
       "<tr>\n",
       "  <th>x21</th>   <td>    0.0055</td> <td>    0.004</td> <td>    1.502</td> <td> 0.133</td> <td>   -0.002</td> <td>    0.013</td>\n",
       "</tr>\n",
       "<tr>\n",
       "  <th>x22</th>   <td>   -0.0403</td> <td>    0.009</td> <td>   -4.267</td> <td> 0.000</td> <td>   -0.059</td> <td>   -0.022</td>\n",
       "</tr>\n",
       "<tr>\n",
       "  <th>x23</th>   <td>    0.0049</td> <td>    0.006</td> <td>    0.834</td> <td> 0.405</td> <td>   -0.007</td> <td>    0.016</td>\n",
       "</tr>\n",
       "<tr>\n",
       "  <th>x24</th>   <td>   -0.0145</td> <td>    0.006</td> <td>   -2.515</td> <td> 0.012</td> <td>   -0.026</td> <td>   -0.003</td>\n",
       "</tr>\n",
       "<tr>\n",
       "  <th>x25</th>   <td>    0.0218</td> <td>    0.008</td> <td>    2.740</td> <td> 0.006</td> <td>    0.006</td> <td>    0.037</td>\n",
       "</tr>\n",
       "<tr>\n",
       "  <th>x26</th>   <td>    0.0290</td> <td>    0.009</td> <td>    3.168</td> <td> 0.002</td> <td>    0.011</td> <td>    0.047</td>\n",
       "</tr>\n",
       "<tr>\n",
       "  <th>x27</th>   <td>    0.0172</td> <td>    0.005</td> <td>    3.131</td> <td> 0.002</td> <td>    0.006</td> <td>    0.028</td>\n",
       "</tr>\n",
       "<tr>\n",
       "  <th>const</th> <td>   10.9844</td> <td>    0.107</td> <td>  102.978</td> <td> 0.000</td> <td>   10.775</td> <td>   11.194</td>\n",
       "</tr>\n",
       "</table>\n",
       "<table class=\"simpletable\">\n",
       "<tr>\n",
       "  <th>Omnibus:</th>       <td>31.974</td> <th>  Durbin-Watson:     </th> <td>   1.974</td>\n",
       "</tr>\n",
       "<tr>\n",
       "  <th>Prob(Omnibus):</th> <td> 0.000</td> <th>  Jarque-Bera (JB):  </th> <td>  68.030</td>\n",
       "</tr>\n",
       "<tr>\n",
       "  <th>Skew:</th>          <td>-0.092</td> <th>  Prob(JB):          </th> <td>1.69e-15</td>\n",
       "</tr>\n",
       "<tr>\n",
       "  <th>Kurtosis:</th>      <td> 4.142</td> <th>  Cond. No.          </th> <td>7.22e+03</td>\n",
       "</tr>\n",
       "</table>"
      ],
      "text/plain": [
       "<class 'statsmodels.iolib.summary.Summary'>\n",
       "\"\"\"\n",
       "                            OLS Regression Results                            \n",
       "==============================================================================\n",
       "Dep. Variable:                      y   R-squared:                       0.745\n",
       "Model:                            OLS   Adj. R-squared:                  0.739\n",
       "Method:                 Least Squares   F-statistic:                     128.9\n",
       "Date:                Thu, 11 Oct 2018   Prob (F-statistic):               0.00\n",
       "Time:                        13:01:54   Log-Likelihood:                 237.65\n",
       "No. Observations:                1221   AIC:                            -419.3\n",
       "Df Residuals:                    1193   BIC:                            -276.3\n",
       "Df Model:                          27                                         \n",
       "Covariance Type:            nonrobust                                         \n",
       "==============================================================================\n",
       "                 coef    std err          t      P>|t|      [0.025      0.975]\n",
       "------------------------------------------------------------------------------\n",
       "x1             0.0087      0.007      1.284      0.199      -0.005       0.022\n",
       "x2            -0.0229      0.021     -1.099      0.272      -0.064       0.018\n",
       "x3             0.1598      0.007     23.781      0.000       0.147       0.173\n",
       "x4             0.0173      0.006      2.982      0.003       0.006       0.029\n",
       "x5             0.0206      0.007      2.852      0.004       0.006       0.035\n",
       "x6             0.0414      0.009      4.369      0.000       0.023       0.060\n",
       "x7            -0.0079      0.004     -2.189      0.029      -0.015      -0.001\n",
       "x8             0.0063      0.003      1.898      0.058      -0.000       0.013\n",
       "x9            -0.0140      0.010     -1.445      0.149      -0.033       0.005\n",
       "x10           -0.0203      0.013     -1.559      0.119      -0.046       0.005\n",
       "x11            0.0152      0.008      1.801      0.072      -0.001       0.032\n",
       "x12           -0.0341      0.006     -5.365      0.000      -0.047      -0.022\n",
       "x13            0.0036      0.006      0.570      0.569      -0.009       0.016\n",
       "x14           -0.0197      0.003     -6.241      0.000      -0.026      -0.013\n",
       "x15           -0.0140      0.005     -2.746      0.006      -0.024      -0.004\n",
       "x16         6.827e-05   3.41e-05      1.999      0.046    1.27e-06       0.000\n",
       "x17           -0.0060      0.021     -0.293      0.770      -0.046       0.034\n",
       "x18           -0.0128      0.004     -3.187      0.001      -0.021      -0.005\n",
       "x19            0.1058      0.029      3.679      0.000       0.049       0.162\n",
       "x20            0.0105      0.005      2.248      0.025       0.001       0.020\n",
       "x21            0.0055      0.004      1.502      0.133      -0.002       0.013\n",
       "x22           -0.0403      0.009     -4.267      0.000      -0.059      -0.022\n",
       "x23            0.0049      0.006      0.834      0.405      -0.007       0.016\n",
       "x24           -0.0145      0.006     -2.515      0.012      -0.026      -0.003\n",
       "x25            0.0218      0.008      2.740      0.006       0.006       0.037\n",
       "x26            0.0290      0.009      3.168      0.002       0.011       0.047\n",
       "x27            0.0172      0.005      3.131      0.002       0.006       0.028\n",
       "const         10.9844      0.107    102.978      0.000      10.775      11.194\n",
       "==============================================================================\n",
       "Omnibus:                       31.974   Durbin-Watson:                   1.974\n",
       "Prob(Omnibus):                  0.000   Jarque-Bera (JB):               68.030\n",
       "Skew:                          -0.092   Prob(JB):                     1.69e-15\n",
       "Kurtosis:                       4.142   Cond. No.                     7.22e+03\n",
       "==============================================================================\n",
       "\n",
       "Warnings:\n",
       "[1] Standard Errors assume that the covariance matrix of the errors is correctly specified.\n",
       "[2] The condition number is large, 7.22e+03. This might indicate that there are\n",
       "strong multicollinearity or other numerical problems.\n",
       "\"\"\""
      ]
     },
     "execution_count": 36,
     "metadata": {},
     "output_type": "execute_result"
    }
   ],
   "source": [
    "import statsmodels.api as sm\n",
    "from sklearn import metrics\n",
    "X_train_OLS=np.concatenate([X_train, np.ones((X_train.shape[0], 1))], axis=1)\n",
    "X_test_OLS=np.concatenate([X_test, np.ones((X_test.shape[0], 1))], axis=1)\n",
    "\n",
    "model=sm.OLS(y_train,X_train_OLS)\n",
    "model=model.fit()\n",
    "predictions_OLS=model.predict(X_test_OLS)\n",
    "\n",
    "# Plot the model\n",
    "print(\"MSE:\", metrics.mean_squared_error(y_test, predictions_OLS))\n",
    "\n",
    "plt.figure(figsize=(8,6))\n",
    "plt.scatter(predictions_OLS, y_test, s=30, c='r', marker='+', zorder=10)\n",
    "plt.xlabel(\"Predicted Values - $\\hat{y}$\")\n",
    "plt.ylabel(\"Actual Values - $y$\")\n",
    "plt.show()\n",
    "\n",
    "model.summary()"
   ]
  },
  {
   "cell_type": "markdown",
   "metadata": {},
   "source": [
    "#### Exclude those features p values greater than 0.05"
   ]
  },
  {
   "cell_type": "code",
   "execution_count": 37,
   "metadata": {},
   "outputs": [
    {
     "data": {
      "text/plain": [
       "(164,)"
      ]
     },
     "execution_count": 37,
     "metadata": {},
     "output_type": "execute_result"
    }
   ],
   "source": [
    "f='SalePrice ~'+' + '.join(['OverallQual', 'OverallCond', 'RoofStyle', 'RoofMatl', \n",
    "                       'BsmtQual',  \n",
    "                       'BsmtFinType1', 'BsmtFinType2', 'BsmtUnfSF', 'HeatingQC', \n",
    "                       'CentralAir',  'KitchenQual',   \n",
    "                       'GarageFinish', 'GarageQual', 'GarageCond','SaleCondition'])+' -1'\n",
    "y_train,X_train=patsy.dmatrices(f,data=house_pre2010,return_type='dataframe')\n",
    "y_train=y_train.values.ravel()\n",
    "X_train.shape\n",
    "f='SalePrice ~'+' + '.join(['OverallQual', 'OverallCond', 'RoofStyle', 'RoofMatl', \n",
    "                       'BsmtQual',  \n",
    "                       'BsmtFinType1', 'BsmtFinType2', 'BsmtUnfSF', 'HeatingQC', \n",
    "                       'CentralAir',  'KitchenQual',   \n",
    "                       'GarageFinish', 'GarageQual', 'GarageCond','SaleCondition'])+' -1'\n",
    "y_test,X_test=patsy.dmatrices(f,data=house_2010,return_type='dataframe')\n",
    "y_test=y_test.values.ravel()\n",
    "X_test.shape\n",
    "y_test.shape"
   ]
  },
  {
   "cell_type": "markdown",
   "metadata": {},
   "source": [
    "#### Building linear regression model"
   ]
  },
  {
   "cell_type": "code",
   "execution_count": 38,
   "metadata": {},
   "outputs": [
    {
     "name": "stdout",
     "output_type": "stream",
     "text": [
      "Average CV score 0.6930547606406079\n",
      "Score: 0.7583658322288376\n",
      "RMSE: 0.19569616557357009\n",
      "[ 1.66167560e-01  1.62017895e-02  2.07266968e-02  4.05074679e-02\n",
      " -3.60359345e-02 -2.12682941e-02 -1.42506623e-02  7.97881569e-05\n",
      " -1.26984700e-02  1.26218929e-01 -4.22307506e-02 -1.69614503e-02\n",
      "  2.29780625e-02  2.90889281e-02  1.77650000e-02]\n",
      "10.971936116160563\n"
     ]
    },
    {
     "data": {
      "image/png": "[encoded data removed]",
      "text/plain": [
       "<matplotlib.figure.Figure at 0x1c1d0a40b8>"
      ]
     },
     "metadata": {
      "image/png": {
       "height": 258,
       "width": 391
      }
     },
     "output_type": "display_data"
    }
   ],
   "source": [
    "from sklearn import linear_model\n",
    "from sklearn.model_selection import cross_val_score\n",
    "\n",
    "lm = linear_model.LinearRegression(normalize=True)\n",
    "\n",
    "model = lm.fit(X_train, y_train)\n",
    "predictions = lm.predict(X_test)\n",
    "\n",
    "lm_scores = cross_val_score(model, X_test, y_test, cv=10)\n",
    "print(\"Average CV score\",np.mean(lm_scores))\n",
    "\n",
    "print(\"Score:\", model.score(X_test, y_test))\n",
    "\n",
    "# calculate RMSE\n",
    "print(\"RMSE:\", np.sqrt(metrics.mean_squared_error(y_test, predictions)))\n",
    "\n",
    "# examine the coefficients\n",
    "print(lm.coef_)\n",
    "print(lm.intercept_)\n",
    "\n",
    "## The line / model\n",
    "plt.scatter(y_test, predictions)\n",
    "plt.xlabel(\"True Values\")\n",
    "plt.ylabel(\"Predictions\")\n",
    "plt.show()"
   ]
  },
  {
   "cell_type": "markdown",
   "metadata": {},
   "source": [
    "#### building lasso regression"
   ]
  },
  {
   "cell_type": "code",
   "execution_count": 39,
   "metadata": {},
   "outputs": [
    {
     "name": "stdout",
     "output_type": "stream",
     "text": [
      "Score:  0.6994489471992509\n",
      "RMSE :  0.21825402954747233\n"
     ]
    }
   ],
   "source": [
    "from sklearn.linear_model import Lasso\n",
    "lassoreg = Lasso(alpha=0.001, normalize=True)\n",
    "lassoreg.fit(X_train, y_train)\n",
    "y_pred = lassoreg.predict(X_test)\n",
    "\n",
    "print(\"Score: \",lassoreg.score(X_test, y_test))\n",
    "print(\"RMSE : \", np.sqrt(metrics.mean_squared_error(y_test, y_pred)))"
   ]
  },
  {
   "cell_type": "code",
   "execution_count": 40,
   "metadata": {},
   "outputs": [
    {
     "name": "stderr",
     "output_type": "stream",
     "text": [
      "........................................................................................................................................................................................................................................................................................................................................................................................................................................................................................................................................................................................................................................................................................................................................................................................................................................................................................................................................................................................................................................................................................................................................................................................................................................................................................................................................................................................................................................................................................................................................................................................................................................................................................................................................................................................................................................................................................................................................................................................................................................................................................................................................................................................................................................................................................................................................................................................................................................................................................................................................................................................................................................................................................................................................................................................................................................................................................................................................................................................................................................................................................................................................................................................................................................................................................................................................................................................................................................................................................................................................................................................................................................................................................................................................................................................................................................................................................................................................................................................................................................................................................................................................................................................................................................................................................................................................................................................................................."
     ]
    },
    {
     "name": "stdout",
     "output_type": "stream",
     "text": [
      "0.015361870788313749\n"
     ]
    },
    {
     "name": "stderr",
     "output_type": "stream",
     "text": [
      "...............................................................................................................................................................................................................................................................................................................................................................................................................................................................................................................................................................................................................................................................................................................................................................................[Parallel(n_jobs=1)]: Done  10 out of  10 | elapsed:    1.5s finished\n"
     ]
    }
   ],
   "source": [
    "### Finding optimal alpha value\n",
    "from sklearn.linear_model import LassoCV\n",
    "optimal_lasso = LassoCV(n_alphas=500, cv=10, verbose=1)\n",
    "optimal_lasso.fit(X_train, y_train)\n",
    "y_pred =optimal_lasso.predict(X_test)\n",
    "\n",
    "print(optimal_lasso.alpha_)"
   ]
  },
  {
   "cell_type": "code",
   "execution_count": 41,
   "metadata": {},
   "outputs": [
    {
     "name": "stdout",
     "output_type": "stream",
     "text": [
      "Best alpha:  0.015361870788313749\n",
      "Score : 0.7239387981465378\n",
      "RMSE:  0.20917309916246646\n"
     ]
    }
   ],
   "source": [
    "print(\"Best alpha: \",optimal_lasso.alpha_)\n",
    "print(\"Score :\", optimal_lasso.score(X_test, y_test))\n",
    "print(\"RMSE: \", np.sqrt(metrics.mean_squared_error(y_test, y_pred)))"
   ]
  },
  {
   "cell_type": "code",
   "execution_count": 42,
   "metadata": {},
   "outputs": [
    {
     "data": {
      "text/html": [
       "<div>\n",
       "<style scoped>\n",
       "    .dataframe tbody tr th:only-of-type {\n",
       "        vertical-align: middle;\n",
       "    }\n",
       "\n",
       "    .dataframe tbody tr th {\n",
       "        vertical-align: top;\n",
       "    }\n",
       "\n",
       "    .dataframe thead th {\n",
       "        text-align: right;\n",
       "    }\n",
       "</style>\n",
       "<table border=\"1\" class=\"dataframe\">\n",
       "  <thead>\n",
       "    <tr style=\"text-align: right;\">\n",
       "      <th></th>\n",
       "      <th>abs_coef</th>\n",
       "      <th>coef</th>\n",
       "      <th>variable</th>\n",
       "    </tr>\n",
       "  </thead>\n",
       "  <tbody>\n",
       "    <tr>\n",
       "      <th>0</th>\n",
       "      <td>0.184651</td>\n",
       "      <td>0.184651</td>\n",
       "      <td>OverallQual</td>\n",
       "    </tr>\n",
       "    <tr>\n",
       "      <th>4</th>\n",
       "      <td>0.029922</td>\n",
       "      <td>-0.029922</td>\n",
       "      <td>BsmtQual</td>\n",
       "    </tr>\n",
       "    <tr>\n",
       "      <th>5</th>\n",
       "      <td>0.021790</td>\n",
       "      <td>-0.021790</td>\n",
       "      <td>BsmtFinType1</td>\n",
       "    </tr>\n",
       "    <tr>\n",
       "      <th>10</th>\n",
       "      <td>0.019689</td>\n",
       "      <td>-0.019689</td>\n",
       "      <td>KitchenQual</td>\n",
       "    </tr>\n",
       "    <tr>\n",
       "      <th>12</th>\n",
       "      <td>0.018492</td>\n",
       "      <td>0.018492</td>\n",
       "      <td>GarageQual</td>\n",
       "    </tr>\n",
       "    <tr>\n",
       "      <th>13</th>\n",
       "      <td>0.016288</td>\n",
       "      <td>0.016288</td>\n",
       "      <td>GarageCond</td>\n",
       "    </tr>\n",
       "    <tr>\n",
       "      <th>8</th>\n",
       "      <td>0.012348</td>\n",
       "      <td>-0.012348</td>\n",
       "      <td>HeatingQC</td>\n",
       "    </tr>\n",
       "    <tr>\n",
       "      <th>11</th>\n",
       "      <td>0.010085</td>\n",
       "      <td>-0.010085</td>\n",
       "      <td>GarageFinish</td>\n",
       "    </tr>\n",
       "    <tr>\n",
       "      <th>14</th>\n",
       "      <td>0.007712</td>\n",
       "      <td>0.007712</td>\n",
       "      <td>SaleCondition</td>\n",
       "    </tr>\n",
       "    <tr>\n",
       "      <th>1</th>\n",
       "      <td>0.004532</td>\n",
       "      <td>0.004532</td>\n",
       "      <td>OverallCond</td>\n",
       "    </tr>\n",
       "    <tr>\n",
       "      <th>6</th>\n",
       "      <td>0.003754</td>\n",
       "      <td>-0.003754</td>\n",
       "      <td>BsmtFinType2</td>\n",
       "    </tr>\n",
       "    <tr>\n",
       "      <th>7</th>\n",
       "      <td>0.000055</td>\n",
       "      <td>0.000055</td>\n",
       "      <td>BsmtUnfSF</td>\n",
       "    </tr>\n",
       "    <tr>\n",
       "      <th>2</th>\n",
       "      <td>0.000000</td>\n",
       "      <td>0.000000</td>\n",
       "      <td>RoofStyle</td>\n",
       "    </tr>\n",
       "    <tr>\n",
       "      <th>3</th>\n",
       "      <td>0.000000</td>\n",
       "      <td>0.000000</td>\n",
       "      <td>RoofMatl</td>\n",
       "    </tr>\n",
       "    <tr>\n",
       "      <th>9</th>\n",
       "      <td>0.000000</td>\n",
       "      <td>0.000000</td>\n",
       "      <td>CentralAir</td>\n",
       "    </tr>\n",
       "  </tbody>\n",
       "</table>\n",
       "</div>"
      ],
      "text/plain": [
       "    abs_coef      coef       variable\n",
       "0   0.184651  0.184651    OverallQual\n",
       "4   0.029922 -0.029922       BsmtQual\n",
       "5   0.021790 -0.021790   BsmtFinType1\n",
       "10  0.019689 -0.019689    KitchenQual\n",
       "12  0.018492  0.018492     GarageQual\n",
       "13  0.016288  0.016288     GarageCond\n",
       "8   0.012348 -0.012348      HeatingQC\n",
       "11  0.010085 -0.010085   GarageFinish\n",
       "14  0.007712  0.007712  SaleCondition\n",
       "1   0.004532  0.004532    OverallCond\n",
       "6   0.003754 -0.003754   BsmtFinType2\n",
       "7   0.000055  0.000055      BsmtUnfSF\n",
       "2   0.000000  0.000000      RoofStyle\n",
       "3   0.000000  0.000000       RoofMatl\n",
       "9   0.000000  0.000000     CentralAir"
      ]
     },
     "execution_count": 42,
     "metadata": {},
     "output_type": "execute_result"
    }
   ],
   "source": [
    "lasso_coefs = pd.DataFrame({'variable':X_test.columns,\n",
    "                            'coef':optimal_lasso.coef_,\n",
    "                            'abs_coef':np.abs(optimal_lasso.coef_)})\n",
    "\n",
    "lasso_coefs.sort_values('abs_coef', inplace=True, ascending=False)\n",
    "\n",
    "lasso_coefs.head(20)\n"
   ]
  },
  {
   "cell_type": "markdown",
   "metadata": {},
   "source": [
    "The score for second model (2nd Question)-0.7583 is lower than first model (1st Question)-0.82 .<br>\n",
    "Therefore, second model is not considered as good model for prediction of Sale Price"
   ]
  },
  {
   "cell_type": "markdown",
   "metadata": {},
   "source": [
    "<img src=\"http://imgur.com/GCAf1UX.png\" style=\"float: left; margin: 25px 15px 0px 0px; height: 25px\">\n",
    "\n",
    "## 3. What property characteristics predict an \"abnormal\" sale?\n",
    "\n",
    "---\n",
    "\n",
    "The `SaleCondition` feature indicates the circumstances of the house sale. From the data file, we can see that the possibilities are:\n",
    "\n",
    "       Normal\tNormal Sale\n",
    "       Abnorml\tAbnormal Sale -  trade, foreclosure, short sale\n",
    "       AdjLand\tAdjoining Land Purchase\n",
    "       Alloca\tAllocation - two linked properties with separate deeds, typically condo with a garage unit\t\n",
    "       Family\tSale between family members\n",
    "       Partial\tHome was not completed when last assessed (associated with New Homes)\n",
    "       \n",
    "One of the executives at your company has an \"in\" with higher-ups at the major regional bank. His friends at the bank have made him a proposal: if he can reliably indicate what features, if any, predict \"abnormal\" sales (foreclosures, short sales, etc.), then in return the bank will give him first dibs on the pre-auction purchase of those properties (at a dirt-cheap price).\n",
    "\n",
    "He has tasked you with determining (and adequately validating) which features of a property predict this type of sale. \n",
    "\n",
    "---\n",
    "\n",
    "**Your task:**\n",
    "1. Determine which features predict the `Abnorml` category in the `SaleCondition` feature.\n",
    "- Justify your results.\n",
    "\n",
    "This is a challenging task that tests your ability to perform classification analysis in the face of severe class imbalance. You may find that simply running a classifier on the full dataset to predict the category ends up useless: when there is bad class imbalance classifiers often tend to simply guess the majority class.\n",
    "\n",
    "It is up to you to determine how you will tackle this problem. I recommend doing some research to find out how others have dealt with the problem in the past. Make sure to justify your solution. Don't worry about it being \"the best\" solution, but be rigorous.\n",
    "\n",
    "Be sure to indicate which features are predictive (if any) and whether they are positive or negative predictors of abnormal sales."
   ]
  },
  {
   "cell_type": "code",
   "execution_count": 43,
   "metadata": {},
   "outputs": [],
   "source": [
    "# A:"
   ]
  },
  {
   "cell_type": "code",
   "execution_count": null,
   "metadata": {},
   "outputs": [],
   "source": []
  }
 ],
 "metadata": {
  "kernelspec": {
   "display_name": "Python 3",
   "language": "python",
   "name": "python3"
  },
  "language_info": {
   "codemirror_mode": {
    "name": "ipython",
    "version": 3
   },
   "file_extension": ".py",
   "mimetype": "text/x-python",
   "name": "python",
   "nbconvert_exporter": "python",
   "pygments_lexer": "ipython3",
   "version": "3.6.4"
  }
 },
 "nbformat": 4,
 "nbformat_minor": 2
}
