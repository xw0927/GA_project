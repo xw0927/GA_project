{
 "cells": [
  {
   "cell_type": "markdown",
   "metadata": {},
   "source": [
    "#### QUESTION 1: Factors that impact salary \n",
    "To predict salary you will be building either a classification or regression model, using features like the location, title, and summary of the job. If framing this as a regression problem, you will be estimating the listed salary amounts. You may instead choose to frame this as a classification problem, in which case you will create labels from these salaries (high vs. low salary, for example) according to thresholds (such as median salary).\n",
    "You have learned a variety of new skills and models that may be useful for this problem:\n",
    "NLP Unsupervised learning and dimensionality reduction techniques (PCA, clustering) Ensemble methods and decision tree models SVM models Whatever you decide to use, the most important thing is to justify your choices and interpret your results. Communication of your process is key. Note that most listings DO NOT come with salary information. You'll need to able to extrapolate or predict the expected salaries for these listings."
   ]
  },
  {
   "cell_type": "code",
   "execution_count": 1,
   "metadata": {},
   "outputs": [],
   "source": [
    "import pandas as pd\n",
    "import numpy as np\n"
   ]
  },
  {
   "cell_type": "markdown",
   "metadata": {},
   "source": [
    "## EDA/Data Cleaning"
   ]
  },
  {
   "cell_type": "markdown",
   "metadata": {},
   "source": [
    "### Eliminating duplicate job posting"
   ]
  },
  {
   "cell_type": "code",
   "execution_count": 2,
   "metadata": {},
   "outputs": [
    {
     "name": "stdout",
     "output_type": "stream",
     "text": [
      "Before:(2088, 15)\n",
      "After:(1432, 15)\n"
     ]
    }
   ],
   "source": [
    "df=pd.read_csv(\"./analyst_scientist.csv\")\n",
    "print(\"Before:{}\".format(df.shape))\n",
    "df=df.drop_duplicates(subset='job_id',keep=\"last\")\n",
    "df.reset_index(drop=True,inplace=True)\n",
    "print(\"After:{}\".format(df.shape))"
   ]
  },
  {
   "cell_type": "markdown",
   "metadata": {},
   "source": [
    "Total unique 1432 jobs were crawled from indeed.com website. "
   ]
  },
  {
   "cell_type": "code",
   "execution_count": 3,
   "metadata": {},
   "outputs": [
    {
     "data": {
      "text/html": [
       "<div>\n",
       "<style scoped>\n",
       "    .dataframe tbody tr th:only-of-type {\n",
       "        vertical-align: middle;\n",
       "    }\n",
       "\n",
       "    .dataframe tbody tr th {\n",
       "        vertical-align: top;\n",
       "    }\n",
       "\n",
       "    .dataframe thead th {\n",
       "        text-align: right;\n",
       "    }\n",
       "</style>\n",
       "<table border=\"1\" class=\"dataframe\">\n",
       "  <thead>\n",
       "    <tr style=\"text-align: right;\">\n",
       "      <th></th>\n",
       "      <th>Unnamed: 0</th>\n",
       "      <th>job_id</th>\n",
       "      <th>job_title</th>\n",
       "      <th>job_company</th>\n",
       "      <th>location</th>\n",
       "      <th>salaries</th>\n",
       "      <th>job_type</th>\n",
       "      <th>summary</th>\n",
       "      <th>job_link</th>\n",
       "      <th>job_desc</th>\n",
       "      <th>skill</th>\n",
       "      <th>programming</th>\n",
       "      <th>analysis</th>\n",
       "      <th>hadoop</th>\n",
       "      <th>database</th>\n",
       "    </tr>\n",
       "  </thead>\n",
       "  <tbody>\n",
       "    <tr>\n",
       "      <th>0</th>\n",
       "      <td>19</td>\n",
       "      <td>jl_acfda7b4da84a59d</td>\n",
       "      <td>Data analyst – automation enablement</td>\n",
       "      <td>UBS</td>\n",
       "      <td>Singapore</td>\n",
       "      <td>None</td>\n",
       "      <td>fulltime</td>\n",
       "      <td>Integrate data from various data sources to pr...</td>\n",
       "      <td>https://www.indeed.com.sg/rc/clk?jk=acfda7b4da...</td>\n",
       "      <td>Data Analyst – Automation Enablement - Singapo...</td>\n",
       "      <td>analysis</td>\n",
       "      <td>None</td>\n",
       "      <td>tableau</td>\n",
       "      <td>None</td>\n",
       "      <td>None</td>\n",
       "    </tr>\n",
       "    <tr>\n",
       "      <th>1</th>\n",
       "      <td>21</td>\n",
       "      <td>jl_b767c888c82bafdc</td>\n",
       "      <td>Analyst- data processing</td>\n",
       "      <td>J.D. Power</td>\n",
       "      <td>Singapore</td>\n",
       "      <td>None</td>\n",
       "      <td>fulltime</td>\n",
       "      <td>Data Processing team provides services such as...</td>\n",
       "      <td>https://www.indeed.com.sg/company/J.D.-Power/j...</td>\n",
       "      <td>Analyst- Data Processing - Singapore - Indeed....</td>\n",
       "      <td>analysis</td>\n",
       "      <td>None</td>\n",
       "      <td>spss</td>\n",
       "      <td>None</td>\n",
       "      <td>None</td>\n",
       "    </tr>\n",
       "    <tr>\n",
       "      <th>2</th>\n",
       "      <td>25</td>\n",
       "      <td>jl_303f44761404a23c</td>\n",
       "      <td>Advanced data analyst</td>\n",
       "      <td>Boehringer Ingelheim</td>\n",
       "      <td>Singapore</td>\n",
       "      <td>None</td>\n",
       "      <td>fulltime</td>\n",
       "      <td>Data modelling, data cleansing, handling schem...</td>\n",
       "      <td>https://www.indeed.com.sg/rc/clk?jk=303f447614...</td>\n",
       "      <td>Advanced Data Analyst - Singapore - Indeed.com...</td>\n",
       "      <td>programming</td>\n",
       "      <td>java_r</td>\n",
       "      <td>None</td>\n",
       "      <td>None</td>\n",
       "      <td>None</td>\n",
       "    </tr>\n",
       "  </tbody>\n",
       "</table>\n",
       "</div>"
      ],
      "text/plain": [
       "   Unnamed: 0               job_id                             job_title  \\\n",
       "0          19  jl_acfda7b4da84a59d  Data analyst – automation enablement   \n",
       "1          21  jl_b767c888c82bafdc              Analyst- data processing   \n",
       "2          25  jl_303f44761404a23c                 Advanced data analyst   \n",
       "\n",
       "            job_company   location salaries  job_type  \\\n",
       "0                   UBS  Singapore     None  fulltime   \n",
       "1            J.D. Power  Singapore     None  fulltime   \n",
       "2  Boehringer Ingelheim  Singapore     None  fulltime   \n",
       "\n",
       "                                             summary  \\\n",
       "0  Integrate data from various data sources to pr...   \n",
       "1  Data Processing team provides services such as...   \n",
       "2  Data modelling, data cleansing, handling schem...   \n",
       "\n",
       "                                            job_link  \\\n",
       "0  https://www.indeed.com.sg/rc/clk?jk=acfda7b4da...   \n",
       "1  https://www.indeed.com.sg/company/J.D.-Power/j...   \n",
       "2  https://www.indeed.com.sg/rc/clk?jk=303f447614...   \n",
       "\n",
       "                                            job_desc        skill programming  \\\n",
       "0  Data Analyst – Automation Enablement - Singapo...     analysis        None   \n",
       "1  Analyst- Data Processing - Singapore - Indeed....     analysis        None   \n",
       "2  Advanced Data Analyst - Singapore - Indeed.com...  programming      java_r   \n",
       "\n",
       "  analysis hadoop database  \n",
       "0  tableau   None     None  \n",
       "1     spss   None     None  \n",
       "2     None   None     None  "
      ]
     },
     "execution_count": 3,
     "metadata": {},
     "output_type": "execute_result"
    }
   ],
   "source": [
    "df.head(3)"
   ]
  },
  {
   "cell_type": "markdown",
   "metadata": {},
   "source": [
    "#### Formatting Salary"
   ]
  },
  {
   "cell_type": "code",
   "execution_count": 4,
   "metadata": {},
   "outputs": [
    {
     "data": {
      "text/plain": [
       "None                         1355\n",
       "$5,000 - $7,000 a month         7\n",
       "$5,000 - $8,000 a month         4\n",
       "$5,000 - $9,000 a month         3\n",
       "$4,500 - $6,000 a month         2\n",
       "$3,000 - $4,000 a month         2\n",
       "$6,000 - $12,000 a month        2\n",
       "$5,500 - $8,000 a month         2\n",
       "$6,000 - $8,000 a month         2\n",
       "$7,000 - $9,000 a month         2\n",
       "$2,500 - $4,000 a month         2\n",
       "$3,500 - $5,500 a month         1\n",
       "$2,000 - $3,000 a month         1\n",
       "$2,300 - $4,000 a month         1\n",
       "$8,000 - $17,000 a month        1\n",
       "$2,900 - $3,600 a month         1\n",
       "$3,600 - $4,600 a month         1\n",
       "$2,284 - $5,270 a month         1\n",
       "$3,000 - $4,500 a month         1\n",
       "$2,500 - $3,500 a month         1\n",
       "$6,500 - $7,500 a month         1\n",
       "$3,500 - $4,000 a month         1\n",
       "$1,800 - $2,700 a month         1\n",
       "$7,000 - $8,300 a month         1\n",
       "$42,000 - $60,000 a year        1\n",
       "$12,000 - $15,000 a month       1\n",
       "$5,800 - $7,500 a month         1\n",
       "$3,600 - $4,000 a month         1\n",
       "$3,000 - $5,000 a month         1\n",
       "$4,000 - $8,000 a month         1\n",
       "$3,000 - $3,900 a month         1\n",
       "$4,000 - $6,000 a month         1\n",
       "$5,000 - $7,500 a month         1\n",
       "$2,000 - $3,500 a month         1\n",
       "$4,000 - $6,500 a month         1\n",
       "$80,000 - $100,000 a year       1\n",
       "$4,000 - $5,000 a month         1\n",
       "$8,000 - $10,000 a month        1\n",
       "$3,500 - $4,500 a month         1\n",
       "$3,500 - $6,000 a month         1\n",
       "$3,500 - $5,300 a month         1\n",
       "$4,500 - $6,500 a month         1\n",
       "$2,900 - $3,000 a month         1\n",
       "$4,000 - $4,500 a month         1\n",
       "$4,000 - $7,000 a month         1\n",
       "$5,500 - $6,500 a month         1\n",
       "$6,000 - $9,000 a month         1\n",
       "$3,500 - $4,200 a month         1\n",
       "$6,000 - $7,500 a month         1\n",
       "$7,000 - $8,000 a month         1\n",
       "$5,000 - $6,500 a month         1\n",
       "$3,200 - $3,500 a month         1\n",
       "$3,500 - $5,000 a month         1\n",
       "$8,000 - $15,000 a month        1\n",
       "$2,200 - $2,500 a month         1\n",
       "$3,000 - $5,500 a month         1\n",
       "$2,400 - $2,800 a month         1\n",
       "$5,800 - $6,500 a month         1\n",
       "$8,000 - $9,000 a month         1\n",
       "$6,000 - $10,000 a month        1\n",
       "Name: salaries, dtype: int64"
      ]
     },
     "execution_count": 4,
     "metadata": {},
     "output_type": "execute_result"
    }
   ],
   "source": [
    "df[\"salaries\"].value_counts()"
   ]
  },
  {
   "cell_type": "markdown",
   "metadata": {},
   "source": [
    "two rows salary is yearly salary, min=42000"
   ]
  },
  {
   "cell_type": "code",
   "execution_count": 5,
   "metadata": {},
   "outputs": [],
   "source": [
    "#### removing non-digit\n",
    "df.salaries= df.salaries.map(lambda x : str(x).replace('\\n',''))\n",
    "df.salaries= df.salaries.map(lambda x : str(x).replace(',',''))\n",
    "df.salaries= df.salaries.map(lambda x : str(x).replace('$',''))\n",
    "\n",
    "df['period']=df[\"salaries\"].apply(lambda x: 'year' if any(pd.Series(x).str.contains('year')) else 'month')\n",
    "\n",
    "df[\"salaries\"] = df[\"salaries\"].str.replace(\" a year\", \"\")\n",
    "df[\"salaries\"] = df[\"salaries\"].str.replace(\" a month\", \"\")"
   ]
  },
  {
   "cell_type": "code",
   "execution_count": 6,
   "metadata": {},
   "outputs": [],
   "source": [
    "### replace \"NONE value to np.nan\"\n",
    "df['salaries'].replace(\"None\",np.nan,inplace=True)\n",
    "\n",
    "def mean_salary(x):\n",
    "    try:\n",
    "        split=x.split(' - ')\n",
    "        low_salary=float(split[0])\n",
    "        high_salary=float(split[1])\n",
    "        return (low_salary+high_salary)/2\n",
    "    except:\n",
    "        return float(x)\n",
    "\n",
    "#### getting average salary\n",
    "df['salary_avg']=df['salaries'].apply(mean_salary)\n",
    "df['salary_avg'].astype('float')\n",
    "df['salary_avg'].value_counts()\n",
    "df[\"salary_avg\"] = df[\"salary_avg\"].apply(lambda x: x*12 if x<40000 else x)\n"
   ]
  },
  {
   "cell_type": "markdown",
   "metadata": {},
   "source": [
    "### Target analysis: Salary"
   ]
  },
  {
   "cell_type": "code",
   "execution_count": 7,
   "metadata": {},
   "outputs": [],
   "source": [
    "import seaborn as sns\n",
    "import matplotlib.pyplot as plt\n",
    "%matplotlib inline\n",
    "plt.rcParams[\"figure.figsize\"] = (8, 6)\n",
    "plt.rcParams[\"font.size\"] = 17"
   ]
  },
  {
   "cell_type": "markdown",
   "metadata": {},
   "source": [
    "#### finding mean & median for average salary"
   ]
  },
  {
   "cell_type": "code",
   "execution_count": 8,
   "metadata": {},
   "outputs": [
    {
     "name": "stderr",
     "output_type": "stream",
     "text": [
      "/anaconda3/lib/python3.6/site-packages/scipy/stats/stats.py:1706: FutureWarning: Using a non-tuple sequence for multidimensional indexing is deprecated; use `arr[tuple(seq)]` instead of `arr[seq]`. In the future this will be interpreted as an array index, `arr[np.array(seq)]`, which will result either in an error or a different result.\n",
      "  return np.add.reduce(sorted[indexer] * weights, axis=axis) / sumval\n"
     ]
    },
    {
     "data": {
      "image/png": "[encoded data removed]",
      "text/plain": [
       "<matplotlib.figure.Figure at 0x1a18591128>"
      ]
     },
     "metadata": {},
     "output_type": "display_data"
    }
   ],
   "source": [
    "median=df['salary_avg'].median()\n",
    "mean=df['salary_avg'].mean()\n",
    "df_t=df[~df[\"salary_avg\"].isnull()]\n",
    "\n",
    "#print(\"total number of rows with salary info:{}\".format(df_t.shape[0]))\n",
    "ax=sns.distplot(df_t[\"salary_avg\"])\n",
    "ax.axvline(median, lw=2.5, ls='dashed', color='black')\n",
    "ax.axvline(mean, lw=2.5, ls='dashed', color='red')\n",
    "plt.show()"
   ]
  },
  {
   "cell_type": "markdown",
   "metadata": {},
   "source": [
    "From distplot, we can tell teh data is in left-skewed distribution (median>mean)"
   ]
  },
  {
   "cell_type": "code",
   "execution_count": 9,
   "metadata": {},
   "outputs": [
    {
     "name": "stderr",
     "output_type": "stream",
     "text": [
      "/anaconda3/lib/python3.6/site-packages/ipykernel_launcher.py:4: DeprecationWarning: \n",
      ".ix is deprecated. Please use\n",
      ".loc for label based indexing or\n",
      ".iloc for positional indexing\n",
      "\n",
      "See the documentation here:\n",
      "http://pandas.pydata.org/pandas-docs/stable/indexing.html#ix-indexer-is-deprecated\n",
      "  after removing the cwd from sys.path.\n"
     ]
    },
    {
     "name": "stdout",
     "output_type": "stream",
     "text": [
      "0.0    47\n",
      "1.0    30\n",
      "Name: salary_gt_med, dtype: int64\n"
     ]
    },
    {
     "data": {
      "text/plain": [
       "<matplotlib.axes._subplots.AxesSubplot at 0x1a1a6a2358>"
      ]
     },
     "execution_count": 9,
     "metadata": {},
     "output_type": "execute_result"
    },
    {
     "data": {
      "image/png": "[encoded data removed]",
      "text/plain": [
       "<matplotlib.figure.Figure at 0x1a1a5e9860>"
      ]
     },
     "metadata": {},
     "output_type": "display_data"
    }
   ],
   "source": [
    "### creating new column if avg greater then median, then 1\n",
    "\n",
    "df['salary_gt_med']=np.nan\n",
    "df.ix[df[\"salary_avg\"] > df[\"salary_avg\"].median(), \"salary_gt_med\"] = 1\n",
    "df.ix[df[\"salary_avg\"] <= df[\"salary_avg\"].median(), \"salary_gt_med\"] = 0\n",
    "print(df[\"salary_gt_med\"].value_counts())\n",
    "sns.countplot(df[\"salary_gt_med\"])"
   ]
  },
  {
   "cell_type": "code",
   "execution_count": 10,
   "metadata": {},
   "outputs": [],
   "source": [
    "###Drop those rows with no salary information\n",
    "\n",
    "salary_analysis=df[df.salary_gt_med.notnull()]\n",
    "salary_analysis.shape\n",
    "### dropping job_id \n",
    "\n",
    "###splitting X and y variables\n",
    "\n",
    "salary_x=salary_analysis[['job_title','job_company','location','job_type','job_desc','skill']]\n",
    "salary_y=pd.DataFrame(salary_analysis[\"salary_gt_med\"])\n",
    "salary_x.reset_index(drop=True, inplace=True)\n",
    "salary_y.reset_index(drop=True, inplace=True)"
   ]
  },
  {
   "cell_type": "markdown",
   "metadata": {},
   "source": [
    "#### Feature analysis"
   ]
  },
  {
   "cell_type": "markdown",
   "metadata": {},
   "source": [
    "i. Examine job title feature"
   ]
  },
  {
   "cell_type": "code",
   "execution_count": 11,
   "metadata": {},
   "outputs": [
    {
     "data": {
      "text/html": [
       "<div>\n",
       "<style scoped>\n",
       "    .dataframe tbody tr th:only-of-type {\n",
       "        vertical-align: middle;\n",
       "    }\n",
       "\n",
       "    .dataframe tbody tr th {\n",
       "        vertical-align: top;\n",
       "    }\n",
       "\n",
       "    .dataframe thead th {\n",
       "        text-align: right;\n",
       "    }\n",
       "</style>\n",
       "<table border=\"1\" class=\"dataframe\">\n",
       "  <thead>\n",
       "    <tr style=\"text-align: right;\">\n",
       "      <th></th>\n",
       "      <th>188072</th>\n",
       "      <th>3000</th>\n",
       "      <th>3500</th>\n",
       "      <th>3500 4200</th>\n",
       "      <th>4200</th>\n",
       "      <th>4200 mon</th>\n",
       "      <th>acquisitions</th>\n",
       "      <th>administrator</th>\n",
       "      <th>administrator consulting</th>\n",
       "      <th>ai</th>\n",
       "      <th>...</th>\n",
       "      <th>transportation analyst</th>\n",
       "      <th>utility</th>\n",
       "      <th>utility monitoring</th>\n",
       "      <th>vista</th>\n",
       "      <th>vista 3000</th>\n",
       "      <th>vp</th>\n",
       "      <th>vp enterprise</th>\n",
       "      <th>warehouse</th>\n",
       "      <th>west</th>\n",
       "      <th>salary_gt_med</th>\n",
       "    </tr>\n",
       "  </thead>\n",
       "  <tbody>\n",
       "    <tr>\n",
       "      <th>0</th>\n",
       "      <td>0</td>\n",
       "      <td>0</td>\n",
       "      <td>0</td>\n",
       "      <td>0</td>\n",
       "      <td>0</td>\n",
       "      <td>0</td>\n",
       "      <td>0</td>\n",
       "      <td>0</td>\n",
       "      <td>0</td>\n",
       "      <td>0</td>\n",
       "      <td>...</td>\n",
       "      <td>0</td>\n",
       "      <td>0</td>\n",
       "      <td>0</td>\n",
       "      <td>0</td>\n",
       "      <td>0</td>\n",
       "      <td>0</td>\n",
       "      <td>0</td>\n",
       "      <td>0</td>\n",
       "      <td>0</td>\n",
       "      <td>0.0</td>\n",
       "    </tr>\n",
       "    <tr>\n",
       "      <th>1</th>\n",
       "      <td>0</td>\n",
       "      <td>0</td>\n",
       "      <td>0</td>\n",
       "      <td>0</td>\n",
       "      <td>0</td>\n",
       "      <td>0</td>\n",
       "      <td>0</td>\n",
       "      <td>0</td>\n",
       "      <td>0</td>\n",
       "      <td>0</td>\n",
       "      <td>...</td>\n",
       "      <td>0</td>\n",
       "      <td>0</td>\n",
       "      <td>0</td>\n",
       "      <td>0</td>\n",
       "      <td>0</td>\n",
       "      <td>0</td>\n",
       "      <td>0</td>\n",
       "      <td>0</td>\n",
       "      <td>0</td>\n",
       "      <td>0.0</td>\n",
       "    </tr>\n",
       "    <tr>\n",
       "      <th>2</th>\n",
       "      <td>0</td>\n",
       "      <td>0</td>\n",
       "      <td>0</td>\n",
       "      <td>0</td>\n",
       "      <td>0</td>\n",
       "      <td>0</td>\n",
       "      <td>0</td>\n",
       "      <td>0</td>\n",
       "      <td>0</td>\n",
       "      <td>0</td>\n",
       "      <td>...</td>\n",
       "      <td>0</td>\n",
       "      <td>0</td>\n",
       "      <td>0</td>\n",
       "      <td>0</td>\n",
       "      <td>0</td>\n",
       "      <td>0</td>\n",
       "      <td>0</td>\n",
       "      <td>0</td>\n",
       "      <td>0</td>\n",
       "      <td>0.0</td>\n",
       "    </tr>\n",
       "    <tr>\n",
       "      <th>3</th>\n",
       "      <td>0</td>\n",
       "      <td>0</td>\n",
       "      <td>0</td>\n",
       "      <td>0</td>\n",
       "      <td>0</td>\n",
       "      <td>0</td>\n",
       "      <td>0</td>\n",
       "      <td>0</td>\n",
       "      <td>0</td>\n",
       "      <td>0</td>\n",
       "      <td>...</td>\n",
       "      <td>0</td>\n",
       "      <td>0</td>\n",
       "      <td>0</td>\n",
       "      <td>0</td>\n",
       "      <td>0</td>\n",
       "      <td>0</td>\n",
       "      <td>0</td>\n",
       "      <td>0</td>\n",
       "      <td>0</td>\n",
       "      <td>0.0</td>\n",
       "    </tr>\n",
       "    <tr>\n",
       "      <th>4</th>\n",
       "      <td>0</td>\n",
       "      <td>0</td>\n",
       "      <td>0</td>\n",
       "      <td>0</td>\n",
       "      <td>0</td>\n",
       "      <td>0</td>\n",
       "      <td>0</td>\n",
       "      <td>0</td>\n",
       "      <td>0</td>\n",
       "      <td>0</td>\n",
       "      <td>...</td>\n",
       "      <td>0</td>\n",
       "      <td>0</td>\n",
       "      <td>0</td>\n",
       "      <td>0</td>\n",
       "      <td>0</td>\n",
       "      <td>0</td>\n",
       "      <td>0</td>\n",
       "      <td>0</td>\n",
       "      <td>0</td>\n",
       "      <td>0.0</td>\n",
       "    </tr>\n",
       "  </tbody>\n",
       "</table>\n",
       "<p>5 rows × 364 columns</p>\n",
       "</div>"
      ],
      "text/plain": [
       "   188072  3000  3500  3500 4200  4200  4200 mon  acquisitions  administrator  \\\n",
       "0       0     0     0          0     0         0             0              0   \n",
       "1       0     0     0          0     0         0             0              0   \n",
       "2       0     0     0          0     0         0             0              0   \n",
       "3       0     0     0          0     0         0             0              0   \n",
       "4       0     0     0          0     0         0             0              0   \n",
       "\n",
       "   administrator consulting  ai      ...        transportation analyst  \\\n",
       "0                         0   0      ...                             0   \n",
       "1                         0   0      ...                             0   \n",
       "2                         0   0      ...                             0   \n",
       "3                         0   0      ...                             0   \n",
       "4                         0   0      ...                             0   \n",
       "\n",
       "   utility  utility monitoring  vista  vista 3000  vp  vp enterprise  \\\n",
       "0        0                   0      0           0   0              0   \n",
       "1        0                   0      0           0   0              0   \n",
       "2        0                   0      0           0   0              0   \n",
       "3        0                   0      0           0   0              0   \n",
       "4        0                   0      0           0   0              0   \n",
       "\n",
       "   warehouse  west  salary_gt_med  \n",
       "0          0     0            0.0  \n",
       "1          0     0            0.0  \n",
       "2          0     0            0.0  \n",
       "3          0     0            0.0  \n",
       "4          0     0            0.0  \n",
       "\n",
       "[5 rows x 364 columns]"
      ]
     },
     "execution_count": 11,
     "metadata": {},
     "output_type": "execute_result"
    }
   ],
   "source": [
    "#### Using count vectorizer to examine job title from train data\n",
    "\n",
    "from sklearn.feature_extraction.text import CountVectorizer\n",
    "cvz = CountVectorizer(stop_words='english',ngram_range=(1, 2))\n",
    "cvz.fit(salary_x['job_title'])\n",
    "\n",
    "title_train = pd.DataFrame(cvz.transform(salary_x[\"job_title\"]).todense(),\n",
    "                       columns=cvz.get_feature_names())\n",
    "\n",
    "title=pd.concat([title_train,salary_y],axis=1)\n",
    "title.head()"
   ]
  },
  {
   "cell_type": "code",
   "execution_count": 12,
   "metadata": {},
   "outputs": [
    {
     "data": {
      "text/plain": [
       "<matplotlib.axes._subplots.AxesSubplot at 0x1a1a9d0358>"
      ]
     },
     "execution_count": 12,
     "metadata": {},
     "output_type": "execute_result"
    },
    {
     "data": {
      "image/png": "[encoded data removed]",
      "text/plain": [
       "<matplotlib.figure.Figure at 0x1a1857a630>"
      ]
     },
     "metadata": {},
     "output_type": "display_data"
    }
   ],
   "source": [
    "#### print top10 common title for salary_gt_median\n",
    "title_freq=title[title[\"salary_gt_med\"]==1.0].sum(axis=0)\n",
    "#title_freq.sort_values(ascending = False)\n",
    "title_freq.sort_values(ascending = False).iloc[1:20].sort_values().plot(kind='barh')\n",
    "#plt.title('most common word in job title for above median jobs')\n",
    "#plt.show()"
   ]
  },
  {
   "cell_type": "markdown",
   "metadata": {},
   "source": [
    "job title terms like senior, scientist, banking, engineer are the most common words.  "
   ]
  },
  {
   "cell_type": "code",
   "execution_count": 13,
   "metadata": {},
   "outputs": [
    {
     "data": {
      "image/png": "[encoded data removed]",
      "text/plain": [
       "<matplotlib.figure.Figure at 0x1a1aa54d68>"
      ]
     },
     "metadata": {},
     "output_type": "display_data"
    }
   ],
   "source": [
    "title_freq=title[title[\"salary_gt_med\"]==0.0].sum(axis=0)\n",
    "title_freq.sort_values(ascending = False).head(20).sort_values().plot(kind='barh')\n",
    "plt.title('most common word in job title for below median jobs')\n",
    "plt.show()"
   ]
  },
  {
   "cell_type": "markdown",
   "metadata": {},
   "source": [
    "job title term like analyst appears the most frequenty in below-median jobs"
   ]
  },
  {
   "cell_type": "markdown",
   "metadata": {},
   "source": [
    "iii. Examine location feature"
   ]
  },
  {
   "cell_type": "code",
   "execution_count": 14,
   "metadata": {},
   "outputs": [
    {
     "data": {
      "text/plain": [
       "Singapore                    66\n",
       "Buona Vista                   3\n",
       "Tuas                          2\n",
       "Outram                        1\n",
       "Queenstown                    1\n",
       "Bukit Merah                   1\n",
       "West Singapore                1\n",
       "Central Business District     1\n",
       "Woodlands                     1\n",
       "Name: location, dtype: int64"
      ]
     },
     "execution_count": 14,
     "metadata": {},
     "output_type": "execute_result"
    }
   ],
   "source": [
    "salary_analysis.location.value_counts()"
   ]
  },
  {
   "cell_type": "markdown",
   "metadata": {},
   "source": [
    "Based on result above, >90% jobs are Singapore, decided not to include location to predict salary"
   ]
  },
  {
   "cell_type": "markdown",
   "metadata": {},
   "source": [
    "iv. Examine company name feature"
   ]
  },
  {
   "cell_type": "code",
   "execution_count": 15,
   "metadata": {},
   "outputs": [
    {
     "data": {
      "text/plain": [
       "job_company                                    salary_gt_med\n",
       "A Very Normal Company Pte Ltd                  0.0              1\n",
       "APBA Pte Ltd                                   0.0              1\n",
       "Aim Recruit Pte Ltd                            0.0              1\n",
       "Ancient Greenfields Pte Ltd                    0.0              1\n",
       "BGC Group                                      0.0              1\n",
       "BGC Group Pte Ltd                              1.0              1\n",
       "Bladestone ONE                                 1.0              1\n",
       "Capita Pte Ltd                                 0.0              1\n",
       "                                               1.0              1\n",
       "Career Connex Pte Ltd                          0.0              1\n",
       "Chris Consulting Pte Ltd                       1.0              1\n",
       "City HR Group                                  0.0              1\n",
       "ClearSK Healthcare Pte Ltd                     0.0              1\n",
       "Concord International Hospital                 0.0              1\n",
       "Davy Omega (SEA) Pte Ltd                       0.0              1\n",
       "Dow Technologies and Systems                   1.0              1\n",
       "FDM Group                                      0.0              1\n",
       "Fortech Creative                               0.0              1\n",
       "Gateway Search                                 1.0              1\n",
       "Gateway Search Pte Ltd                         1.0              1\n",
       "HR Factors Personnel Pte Ltd (EA No: 00C5393)  0.0              1\n",
       "IGENE LABORATORY                               0.0              1\n",
       "IIM PTE LTD                                    1.0              1\n",
       "Independent Project Analysis                   0.0              1\n",
       "InfoDrive Solutions                            1.0              3\n",
       "IoTalents Pte Ltd                              1.0              1\n",
       "JC Hire                                        0.0              1\n",
       "JMC Group Employment Agency                    1.0              1\n",
       "Keyrus South East Asia                         0.0              6\n",
       "                                               1.0              9\n",
       "Luxury Ventures Pte Ltd                        0.0              1\n",
       "M Plus services                                0.0              1\n",
       "MHR                                            0.0              1\n",
       "MSHR                                           0.0              2\n",
       "Machspeed Human Resource                       0.0              1\n",
       "Merries Employment Executive Search            0.0              1\n",
       "MoneySmart Group                               1.0              1\n",
       "Overlay Technologies                           0.0              1\n",
       "Precious Medical Centre                        0.0              1\n",
       "Rakuten Asia Pte Ltd                           1.0              4\n",
       "Recruit Express                                0.0              1\n",
       "Sanmina-SCI Systems Singapore Pte. Ltd         0.0              1\n",
       "Snaphunt                                       0.0              1\n",
       "                                               1.0              1\n",
       "Softenger Pvt. Limited Singapore               0.0              3\n",
       "Structo Pte Ltd                                0.0              1\n",
       "Talen Spark Pte Ltd                            0.0              1\n",
       "Taurus Firm Pte Ltd                            1.0              1\n",
       "The VITO Consulting Group Inc.                 0.0              1\n",
       "Thermo Fisher Scientific                       0.0              1\n",
       "Toshiba TEC Singapore Pte Ltd                  0.0              1\n",
       "Trakomatic Pte Ltd                             0.0              1\n",
       "UpCode Academy                                 1.0              1\n",
       "Vishuo Biomedical PTE LTD                      0.0              1\n",
       "Web Professional House                         0.0              1\n",
       "bitwallet Pte. Ltd.                            0.0              1\n",
       "dtype: int64"
      ]
     },
     "execution_count": 15,
     "metadata": {},
     "output_type": "execute_result"
    }
   ],
   "source": [
    "salary_analysis.groupby(['job_company','salary_gt_med']).size()"
   ]
  },
  {
   "cell_type": "markdown",
   "metadata": {},
   "source": [
    "From the result above, company name doesn't seem like a good predictor "
   ]
  },
  {
   "cell_type": "markdown",
   "metadata": {},
   "source": [
    "iiv. Examine job_type feature"
   ]
  },
  {
   "cell_type": "code",
   "execution_count": 16,
   "metadata": {},
   "outputs": [
    {
     "data": {
      "text/plain": [
       "<matplotlib.axes._subplots.AxesSubplot at 0x1a1ac2c828>"
      ]
     },
     "execution_count": 16,
     "metadata": {},
     "output_type": "execute_result"
    },
    {
     "data": {
      "image/png": "[encoded data removed]",
      "text/plain": [
       "<matplotlib.figure.Figure at 0x1a1ab4c550>"
      ]
     },
     "metadata": {},
     "output_type": "display_data"
    }
   ],
   "source": [
    "salary_analysis.groupby(['salary_gt_med','job_type']).size().unstack().plot(kind='bar')"
   ]
  },
  {
   "cell_type": "markdown",
   "metadata": {},
   "source": [
    "From the bar graph, temporary job type can be categorized as below median salary, while the rest of job types are categorized as above median salary"
   ]
  },
  {
   "cell_type": "markdown",
   "metadata": {},
   "source": [
    "vi. Examine skill feature"
   ]
  },
  {
   "cell_type": "code",
   "execution_count": 17,
   "metadata": {},
   "outputs": [
    {
     "data": {
      "text/plain": [
       "<matplotlib.axes._subplots.AxesSubplot at 0x1a1ab51908>"
      ]
     },
     "execution_count": 17,
     "metadata": {},
     "output_type": "execute_result"
    },
    {
     "data": {
      "image/png": "[encoded data removed]",
      "text/plain": [
       "<matplotlib.figure.Figure at 0x1a1aa5e7f0>"
      ]
     },
     "metadata": {},
     "output_type": "display_data"
    }
   ],
   "source": [
    "salary_analysis.groupby(['salary_gt_med','skill']).size().unstack().plot(kind='bar')"
   ]
  },
  {
   "cell_type": "markdown",
   "metadata": {},
   "source": [
    "#### Modeling"
   ]
  },
  {
   "cell_type": "code",
   "execution_count": 18,
   "metadata": {},
   "outputs": [],
   "source": [
    "salary_x=salary_analysis[[\"job_title\",\"job_type\",\"skill\"]].copy() ## based on feature analysis above, decided only to include these two features for modeling\n",
    "salary_y=salary_y.values.ravel()\n",
    "\n",
    "#salary_x[\"good_job_title\"] = salary_x[\"job_title\"].apply(lambda x: 1 if x in ([\"senior\", \"scientist\", \"banking\", \"engineer\"]) else 0)\n",
    "#salary_x[\"bad_job_title\"]= salary_x[\"job_title\"].apply(lambda x: 1 if x in([\"bussiness\",\"analyst\"]) else 0)\n",
    "\n",
    "salary_x[\"good_job_title\"] = 0\n",
    "salary_x.loc[(salary_x[\"job_title\"].str.contains(\"senior\") | \n",
    "             salary_x[\"job_title\"].str.contains(\"scientist\")|\n",
    "             salary_x[\"job_title\"].str.contains(\"banking\")|\n",
    "             salary_x[\"job_title\"].str.contains(\"engineer\")) ,\"good_job_title\"] = 1\n",
    "\n",
    "salary_x[\"bad_job_title\"] = 0\n",
    "salary_x.loc[(salary_x[\"job_title\"].str.contains(\"analyst\") | \n",
    "            salary_x[\"job_title\"].str.contains(\"bussiness\")) ,\"bad_job_title\"] = 1\n",
    "\n",
    "\n",
    "salary_x[\"good_skills\"] =salary_x[\"skill\"].apply(lambda x: 1 if x in ['analysis'] else 0)\n",
    "salary_x[\"bad_skills\"] =salary_x[\"skill\"].apply(lambda x: 1 if x not in ['analysis'] else 0)\n",
    "\n",
    "salary_x[\"bad_job_type\"] =salary_x[\"job_type\"].apply(lambda x: 1 if x=='temporary' else 0)\n",
    "salary_x[\"good_job_type\"] =salary_x[\"job_type\"].apply(lambda x: 1 if x!='temporary' else 0)\n",
    "\n",
    "salary_x.drop([\"job_title\",\"job_type\",\"skill\"],axis=1,inplace=True)\n",
    "salary_x=salary_x.astype('float')\n",
    "#salary_x[\"bad_job_type\"].value_counts()"
   ]
  },
  {
   "cell_type": "code",
   "execution_count": 19,
   "metadata": {},
   "outputs": [],
   "source": [
    "### train-test data\n",
    "from sklearn.model_selection import train_test_split\n",
    "X_train, X_test, y_train, y_test = train_test_split(salary_x, salary_y, test_size=0.3, stratify=salary_y, random_state=10)"
   ]
  },
  {
   "cell_type": "markdown",
   "metadata": {},
   "source": [
    "#### Model 1: Logistic Regression"
   ]
  },
  {
   "cell_type": "code",
   "execution_count": 20,
   "metadata": {},
   "outputs": [
    {
     "name": "stdout",
     "output_type": "stream",
     "text": [
      "Score for train set: 0.7924528301886793\n",
      "Cross-validated scores for train set: [0.91666667 0.81818182 0.6        0.8        0.8       ]\n",
      "Score for test set: 0.5833333333333334\n",
      "[[12  3]\n",
      " [ 7  2]]\n",
      "             precision    recall  f1-score   support\n",
      "\n",
      "        0.0       0.63      0.80      0.71        15\n",
      "        1.0       0.40      0.22      0.29         9\n",
      "\n",
      "avg / total       0.54      0.58      0.55        24\n",
      "\n"
     ]
    }
   ],
   "source": [
    "from sklearn.model_selection import cross_val_score\n",
    "from sklearn import metrics\n",
    "from sklearn.linear_model import LogisticRegression\n",
    "from sklearn.metrics import classification_report, confusion_matrix, accuracy_score\n",
    "\n",
    "logreg = LogisticRegression()\n",
    "logreg.fit(X_train, y_train)\n",
    "print(\"Score for train set:\", logreg.score(X_train, y_train))    \n",
    "scores = cross_val_score(logreg, X_train, y_train, cv=5)\n",
    "print(\"Cross-validated scores for train set:\", scores)\n",
    "\n",
    "# Predictions/probs on the test dataset\n",
    "predicted = pd.DataFrame(logreg.predict(X_test))  \n",
    "probs = pd.DataFrame(logreg.predict_proba(X_test))\n",
    "print(\"Score for test set:\", logreg.score(X_test, y_test))\n",
    "print(confusion_matrix(y_test,predicted))\n",
    "\n",
    "print(classification_report(y_test, predicted))\n",
    "logreg_accuracy=metrics.accuracy_score(y_test, predicted) \n",
    "logreg_precision= metrics.precision_score(y_test, predicted,probs[1]) \n",
    "logreg_recall= metrics.recall_score(y_test, predicted,probs[1] ) \n",
    "logreg_f1= metrics.f1_score(y_test, predicted,probs[1])"
   ]
  },
  {
   "cell_type": "markdown",
   "metadata": {},
   "source": [
    "The logistic model score quite well for train set, 79% accurate with a range between 60% to 92% <br>\n",
    "For the test set, the logistic model score quite well, 58% accurate. <br>\n",
    "For the confusion matrix, 7 (33%) below median job salary were incorrectly predicted as above median job, whereas 2 (40%) above median job salary were incorrectly predicted as below median job. <br> Therefore, the model performs well for jobs with below median job salary as compared to above median job salary. \n",
    "\n",
    "\n",
    "\n"
   ]
  },
  {
   "cell_type": "markdown",
   "metadata": {},
   "source": [
    "### Model 2: Random Forest"
   ]
  },
  {
   "cell_type": "code",
   "execution_count": 21,
   "metadata": {},
   "outputs": [
    {
     "name": "stdout",
     "output_type": "stream",
     "text": [
      "Score for train set: 0.8113207547169812\n",
      "accuray score for test set: 0.5833333333333334\n",
      "[[12  3]\n",
      " [ 7  2]]\n",
      "             precision    recall  f1-score   support\n",
      "\n",
      "        0.0       0.63      0.80      0.71        15\n",
      "        1.0       0.40      0.22      0.29         9\n",
      "\n",
      "avg / total       0.54      0.58      0.55        24\n",
      "\n"
     ]
    },
    {
     "name": "stderr",
     "output_type": "stream",
     "text": [
      "/anaconda3/lib/python3.6/site-packages/sklearn/ensemble/weight_boosting.py:29: DeprecationWarning: numpy.core.umath_tests is an internal NumPy module and should not be imported. It will be removed in a future NumPy release.\n",
      "  from numpy.core.umath_tests import inner1d\n"
     ]
    }
   ],
   "source": [
    "from sklearn.ensemble import RandomForestClassifier \n",
    "\n",
    "rf = RandomForestClassifier()  \n",
    "\n",
    "rfm = rf.fit(X_train, y_train)  \n",
    "print(\"Score for train set:\", rfm.score(X_train, y_train))\n",
    "\n",
    "# Predictions/probs on the test dataset\n",
    "predicted = pd.DataFrame(rfm.predict(X_test))  \n",
    "probs = pd.DataFrame(rfm.predict_proba(X_test))\n",
    "\n",
    "# Store metrics\n",
    "rf_accuracy = accuracy_score(y_test, predicted)  \n",
    "print(\"accuray score for test set:\",rf_accuracy)\n",
    "print(confusion_matrix(y_test, predicted))\n",
    "print(classification_report(y_test, predicted))\n"
   ]
  },
  {
   "cell_type": "code",
   "execution_count": 22,
   "metadata": {},
   "outputs": [
    {
     "name": "stdout",
     "output_type": "stream",
     "text": [
      "AUC for test set: 0.6185185185185185\n"
     ]
    },
    {
     "data": {
      "image/png": "[encoded data removed]",
      "text/plain": [
       "<matplotlib.figure.Figure at 0x1a2127b5c0>"
      ]
     },
     "metadata": {},
     "output_type": "display_data"
    }
   ],
   "source": [
    "fpr, tpr, _ = metrics.roc_curve(y_test, probs[1])\n",
    "roc_auc = metrics.auc(fpr, tpr)\n",
    "rf_roc_auc = metrics.roc_auc_score(y_test, probs[1])  \n",
    "print(\"AUC for test set:\",rf_roc_auc)\n",
    "\n",
    "rf_precision= metrics.precision_score(y_test, predicted,probs[1]) \n",
    "rf_recall= metrics.recall_score(y_test, predicted,probs[1] ) \n",
    "rf_f1= metrics.f1_score(y_test, predicted,probs[1])\n",
    "\n",
    "# Plot of a ROC curve for class 1 (has_cancer).\n",
    "plt.figure(figsize=[8,8])\n",
    "plt.plot(fpr, tpr, label='ROC curve (area = %0.2f)' % roc_auc, linewidth=4)\n",
    "plt.plot([0, 1], [0, 1], 'k--', linewidth=4)\n",
    "plt.xlim([-0.05, 1.0])\n",
    "plt.ylim([-0.05, 1.05])\n",
    "plt.xlabel('False Positive Rate', fontsize=18)\n",
    "plt.ylabel('True Positive Rate', fontsize=18)\n",
    "plt.title('Receiver operating characteristic', fontsize=18)\n",
    "plt.legend(loc=\"lower right\")\n",
    "plt.show()"
   ]
  },
  {
   "cell_type": "code",
   "execution_count": 23,
   "metadata": {},
   "outputs": [
    {
     "name": "stdout",
     "output_type": "stream",
     "text": [
      "good_job_title = 0.6544723078673733\n",
      "bad_job_title = 0.27599892702258433\n",
      "good_skills = 0.016498934748033777\n",
      "bad_skills = 0.021476390799005676\n",
      "bad_job_type = 0.017396423296474905\n",
      "good_job_type = 0.014157016266527983\n"
     ]
    },
    {
     "data": {
      "image/png": "[encoded data removed]",
      "text/plain": [
       "<matplotlib.figure.Figure at 0x1a1af96128>"
      ]
     },
     "metadata": {},
     "output_type": "display_data"
    }
   ],
   "source": [
    "##feature_importances\n",
    "for name, importance in zip(list(X_train.columns), rfm.feature_importances_):\n",
    "    print(name, \"=\", importance)\n",
    "\n",
    "features=list(X_train.columns)\n",
    "importances = rfm.feature_importances_\n",
    "indices = np.argsort(importances)\n",
    "\n",
    "plt.title('Feature Importances')\n",
    "plt.barh(range(len(indices)), importances[indices], color='b', align='center')\n",
    "plt.yticks(range(len(indices)), [features[i] for i in indices])\n",
    "plt.xlabel('Relative Importance')\n",
    "plt.show()"
   ]
  },
  {
   "cell_type": "markdown",
   "metadata": {},
   "source": [
    "good job title (such as: senior, scientist, banking, engineer ) is an important feature to predict salary"
   ]
  },
  {
   "cell_type": "markdown",
   "metadata": {},
   "source": [
    "#### Model 3: Decision Tree"
   ]
  },
  {
   "cell_type": "code",
   "execution_count": 24,
   "metadata": {},
   "outputs": [
    {
     "name": "stdout",
     "output_type": "stream",
     "text": [
      "Score for train set: 0.8113207547169812\n",
      "accuray score for test set: 0.5833333333333334\n",
      "[[12  3]\n",
      " [ 7  2]]\n",
      "             precision    recall  f1-score   support\n",
      "\n",
      "        0.0       0.63      0.80      0.71        15\n",
      "        1.0       0.40      0.22      0.29         9\n",
      "\n",
      "avg / total       0.54      0.58      0.55        24\n",
      "\n"
     ]
    },
    {
     "data": {
      "image/png": "[encoded data removed]",
      "text/plain": [
       "<IPython.core.display.Image object>"
      ]
     },
     "execution_count": 24,
     "metadata": {},
     "output_type": "execute_result"
    }
   ],
   "source": [
    "from sklearn import tree  \n",
    "from sklearn.externals.six import StringIO  \n",
    "from IPython.display import Image  \n",
    "from sklearn.tree import export_graphviz\n",
    "import pydotplus\n",
    "\n",
    "tree_model = tree.DecisionTreeClassifier(max_depth=3)  \n",
    "# Fit a decision tree\n",
    "tree_model = tree_model.fit(X_train, y_train)  \n",
    "print(\"Score for train set:\",tree_model.score(X_train, y_train) )\n",
    "predicted = pd.DataFrame(tree_model.predict(X_test))  \n",
    "probs = pd.DataFrame(tree_model.predict_proba(X_test))  \n",
    "tree_roc_auc = metrics.roc_auc_score(y_test, probs[1]) \n",
    "tree_accuracy = accuracy_score(y_test, predicted)\n",
    "print(\"accuray score for test set:\",tree_accuracy)\n",
    "print(metrics.confusion_matrix(y_test, predicted) ) \n",
    "print(metrics.classification_report(y_test, predicted)) \n",
    "\n",
    "tree_precision= metrics.precision_score(y_test, predicted,probs[1]) \n",
    "tree_recall= metrics.recall_score(y_test, predicted,probs[1] ) \n",
    "tree_f1= metrics.f1_score(y_test, predicted,probs[1])\n",
    "# output decision plot\n",
    "dot_data = StringIO() \n",
    "export_graphviz(tree_model, out_file=dot_data,  \n",
    "                filled=True, rounded=True,\n",
    "                special_characters=True)  \n",
    "\n",
    "graph = pydotplus.graph_from_dot_data(dot_data.getvalue())  \n",
    "Image(graph.create_png())  "
   ]
  },
  {
   "cell_type": "markdown",
   "metadata": {},
   "source": [
    "#### Model 4: SVM"
   ]
  },
  {
   "cell_type": "code",
   "execution_count": 25,
   "metadata": {},
   "outputs": [
    {
     "name": "stdout",
     "output_type": "stream",
     "text": [
      "Score for train set: 0.7735849056603774\n",
      "auc_score: 0.6481481481481481\n",
      "accuray score for test set: 0.5416666666666666\n",
      "[[10  5]\n",
      " [ 6  3]]\n",
      "             precision    recall  f1-score   support\n",
      "\n",
      "        0.0       0.62      0.67      0.65        15\n",
      "        1.0       0.38      0.33      0.35         9\n",
      "\n",
      "avg / total       0.53      0.54      0.54        24\n",
      "\n"
     ]
    }
   ],
   "source": [
    "from sklearn.svm import SVC  \n",
    "svm_model = SVC(probability=True)  \n",
    "svm = svm_model.fit(X_train, y_train)  \n",
    "print(\"Score for train set:\",svm.score(X_train, y_train))\n",
    "predicted = pd.DataFrame(svm_model.predict(X_test))  \n",
    "probs = pd.DataFrame(svm_model.predict_proba(X_test))\n",
    "svm_accuracy = metrics.accuracy_score(y_test, predicted)  \n",
    "print(\"auc_score:\",metrics.roc_auc_score(y_test, probs[1]))\n",
    "print(\"accuray score for test set:\",svm_accuracy)\n",
    "print(metrics.confusion_matrix(y_test, predicted) ) \n",
    "print(metrics.classification_report(y_test, predicted)) \n",
    "svm_precision = metrics.precision_score(y_test, predicted,probs[1])  \n",
    "svm_recall = metrics.recall_score(y_test, predicted,probs[1] )  \n",
    "svm_f1 = metrics.f1_score(y_test, predicted,probs[1]  )\n"
   ]
  },
  {
   "cell_type": "markdown",
   "metadata": {},
   "source": [
    "#### Comparison of different results\n"
   ]
  },
  {
   "cell_type": "code",
   "execution_count": 26,
   "metadata": {},
   "outputs": [
    {
     "data": {
      "text/html": [
       "<div>\n",
       "<style scoped>\n",
       "    .dataframe tbody tr th:only-of-type {\n",
       "        vertical-align: middle;\n",
       "    }\n",
       "\n",
       "    .dataframe tbody tr th {\n",
       "        vertical-align: top;\n",
       "    }\n",
       "\n",
       "    .dataframe thead th {\n",
       "        text-align: right;\n",
       "    }\n",
       "</style>\n",
       "<table border=\"1\" class=\"dataframe\">\n",
       "  <thead>\n",
       "    <tr style=\"text-align: right;\">\n",
       "      <th></th>\n",
       "      <th>Accuracy</th>\n",
       "      <th>F1</th>\n",
       "      <th>Precision</th>\n",
       "      <th>recall</th>\n",
       "    </tr>\n",
       "    <tr>\n",
       "      <th>Model</th>\n",
       "      <th></th>\n",
       "      <th></th>\n",
       "      <th></th>\n",
       "      <th></th>\n",
       "    </tr>\n",
       "  </thead>\n",
       "  <tbody>\n",
       "    <tr>\n",
       "      <th>Logistic</th>\n",
       "      <td>0.583333</td>\n",
       "      <td>0.285714</td>\n",
       "      <td>0.400</td>\n",
       "      <td>0.222222</td>\n",
       "    </tr>\n",
       "    <tr>\n",
       "      <th>random_forest</th>\n",
       "      <td>0.583333</td>\n",
       "      <td>0.285714</td>\n",
       "      <td>0.400</td>\n",
       "      <td>0.222222</td>\n",
       "    </tr>\n",
       "    <tr>\n",
       "      <th>Decision_Tree</th>\n",
       "      <td>0.583333</td>\n",
       "      <td>0.285714</td>\n",
       "      <td>0.400</td>\n",
       "      <td>0.222222</td>\n",
       "    </tr>\n",
       "    <tr>\n",
       "      <th>SVM</th>\n",
       "      <td>0.541667</td>\n",
       "      <td>0.352941</td>\n",
       "      <td>0.375</td>\n",
       "      <td>0.333333</td>\n",
       "    </tr>\n",
       "  </tbody>\n",
       "</table>\n",
       "</div>"
      ],
      "text/plain": [
       "               Accuracy        F1  Precision    recall\n",
       "Model                                                 \n",
       "Logistic       0.583333  0.285714      0.400  0.222222\n",
       "random_forest  0.583333  0.285714      0.400  0.222222\n",
       "Decision_Tree  0.583333  0.285714      0.400  0.222222\n",
       "SVM            0.541667  0.352941      0.375  0.333333"
      ]
     },
     "execution_count": 26,
     "metadata": {},
     "output_type": "execute_result"
    }
   ],
   "source": [
    "# Model comparison\n",
    "models = pd.DataFrame({  \n",
    "  'Model': ['Logistic','random_forest','Decision_Tree', 'SVM'],\n",
    "  'Accuracy' : [logreg_accuracy,rf_accuracy, tree_accuracy,  svm_accuracy],\n",
    "  'Precision': [logreg_precision, rf_precision, tree_precision, svm_precision],\n",
    "  'recall' : [logreg_recall, rf_recall,tree_recall,  svm_recall],\n",
    "  'F1' : [logreg_f1, rf_f1,tree_f1, svm_f1],\n",
    "})\n",
    "\n",
    "models.set_index('Model', inplace=True)\n",
    "models.sort_values(by='Accuracy',ascending=False)"
   ]
  },
  {
   "cell_type": "markdown",
   "metadata": {},
   "source": [
    "From the result, it is clear that logistic, random_forest and decision tree models giving same scores on accuracy, F1 score, precision, and recall metric. "
   ]
  },
  {
   "cell_type": "markdown",
   "metadata": {},
   "source": [
    "#### Applyiing Decision Tree model to predict salary of job posting with no salary information"
   ]
  },
  {
   "cell_type": "code",
   "execution_count": 27,
   "metadata": {},
   "outputs": [
    {
     "data": {
      "text/plain": [
       "(1355, 18)"
      ]
     },
     "execution_count": 27,
     "metadata": {},
     "output_type": "execute_result"
    }
   ],
   "source": [
    "job_nsalary = df[df.salary_gt_med.isnull()].copy()\n",
    "job_nsalary.shape"
   ]
  },
  {
   "cell_type": "code",
   "execution_count": 28,
   "metadata": {},
   "outputs": [],
   "source": [
    "nsalary_x=job_nsalary[[\"job_title\",\"job_type\",\"skill\"]].copy()\n",
    "nsalary_x[\"good_job_title\"] = 0\n",
    "nsalary_x.loc[(nsalary_x[\"job_title\"].str.contains(\"senior\") | \n",
    "             nsalary_x[\"job_title\"].str.contains(\"scientist\")|\n",
    "             nsalary_x[\"job_title\"].str.contains(\"banking\")|\n",
    "             nsalary_x[\"job_title\"].str.contains(\"engineer\")) ,\"good_job_title\"] = 1\n",
    "\n",
    "nsalary_x[\"bad_job_title\"] = 0\n",
    "nsalary_x.loc[(nsalary_x[\"job_title\"].str.contains(\"analyst\") | \n",
    "            nsalary_x[\"job_title\"].str.contains(\"bussiness\")) ,\"bad_job_title\"] = 1\n",
    "\n",
    "\n",
    "nsalary_x[\"good_skills\"] =nsalary_x[\"skill\"].apply(lambda x: 1 if x in ['analysis'] else 0)\n",
    "nsalary_x[\"bad_skills\"] =nsalary_x[\"skill\"].apply(lambda x: 1 if x not in ['analysis'] else 0)\n",
    "\n",
    "nsalary_x[\"bad_job_type\"] =nsalary_x[\"job_type\"].apply(lambda x: 1 if x=='temporary' else 0)\n",
    "nsalary_x[\"good_job_type\"] =nsalary_x[\"job_type\"].apply(lambda x: 1 if x!='temporary' else 0)\n",
    "\n",
    "nsalary_x.head()\n",
    "nsalary_x.drop([\"job_title\",\"job_type\",\"skill\"],axis=1,inplace=True)\n",
    "nsalary_x=nsalary_x.astype('float')"
   ]
  },
  {
   "cell_type": "code",
   "execution_count": 29,
   "metadata": {},
   "outputs": [
    {
     "data": {
      "text/plain": [
       "(1355, 6)"
      ]
     },
     "execution_count": 29,
     "metadata": {},
     "output_type": "execute_result"
    }
   ],
   "source": [
    "nsalary_x.shape"
   ]
  },
  {
   "cell_type": "code",
   "execution_count": 30,
   "metadata": {},
   "outputs": [
    {
     "data": {
      "text/html": [
       "<div>\n",
       "<style scoped>\n",
       "    .dataframe tbody tr th:only-of-type {\n",
       "        vertical-align: middle;\n",
       "    }\n",
       "\n",
       "    .dataframe tbody tr th {\n",
       "        vertical-align: top;\n",
       "    }\n",
       "\n",
       "    .dataframe thead th {\n",
       "        text-align: right;\n",
       "    }\n",
       "</style>\n",
       "<table border=\"1\" class=\"dataframe\">\n",
       "  <thead>\n",
       "    <tr style=\"text-align: right;\">\n",
       "      <th></th>\n",
       "      <th>Unnamed: 0</th>\n",
       "      <th>job_id</th>\n",
       "      <th>job_title</th>\n",
       "      <th>job_company</th>\n",
       "      <th>location</th>\n",
       "      <th>salaries</th>\n",
       "      <th>job_type</th>\n",
       "      <th>summary</th>\n",
       "      <th>job_link</th>\n",
       "      <th>job_desc</th>\n",
       "      <th>skill</th>\n",
       "      <th>programming</th>\n",
       "      <th>analysis</th>\n",
       "      <th>hadoop</th>\n",
       "      <th>database</th>\n",
       "      <th>period</th>\n",
       "      <th>salary_avg</th>\n",
       "      <th>salary_gt_med</th>\n",
       "      <th>salary_prediction</th>\n",
       "    </tr>\n",
       "  </thead>\n",
       "  <tbody>\n",
       "    <tr>\n",
       "      <th>0</th>\n",
       "      <td>19</td>\n",
       "      <td>jl_acfda7b4da84a59d</td>\n",
       "      <td>Data analyst – automation enablement</td>\n",
       "      <td>UBS</td>\n",
       "      <td>Singapore</td>\n",
       "      <td>NaN</td>\n",
       "      <td>fulltime</td>\n",
       "      <td>Integrate data from various data sources to pr...</td>\n",
       "      <td>https://www.indeed.com.sg/rc/clk?jk=acfda7b4da...</td>\n",
       "      <td>Data Analyst – Automation Enablement - Singapo...</td>\n",
       "      <td>analysis</td>\n",
       "      <td>None</td>\n",
       "      <td>tableau</td>\n",
       "      <td>None</td>\n",
       "      <td>None</td>\n",
       "      <td>month</td>\n",
       "      <td>NaN</td>\n",
       "      <td>NaN</td>\n",
       "      <td>0.0</td>\n",
       "    </tr>\n",
       "    <tr>\n",
       "      <th>1</th>\n",
       "      <td>21</td>\n",
       "      <td>jl_b767c888c82bafdc</td>\n",
       "      <td>Analyst- data processing</td>\n",
       "      <td>J.D. Power</td>\n",
       "      <td>Singapore</td>\n",
       "      <td>NaN</td>\n",
       "      <td>fulltime</td>\n",
       "      <td>Data Processing team provides services such as...</td>\n",
       "      <td>https://www.indeed.com.sg/company/J.D.-Power/j...</td>\n",
       "      <td>Analyst- Data Processing - Singapore - Indeed....</td>\n",
       "      <td>analysis</td>\n",
       "      <td>None</td>\n",
       "      <td>spss</td>\n",
       "      <td>None</td>\n",
       "      <td>None</td>\n",
       "      <td>month</td>\n",
       "      <td>NaN</td>\n",
       "      <td>NaN</td>\n",
       "      <td>0.0</td>\n",
       "    </tr>\n",
       "    <tr>\n",
       "      <th>2</th>\n",
       "      <td>25</td>\n",
       "      <td>jl_303f44761404a23c</td>\n",
       "      <td>Advanced data analyst</td>\n",
       "      <td>Boehringer Ingelheim</td>\n",
       "      <td>Singapore</td>\n",
       "      <td>NaN</td>\n",
       "      <td>fulltime</td>\n",
       "      <td>Data modelling, data cleansing, handling schem...</td>\n",
       "      <td>https://www.indeed.com.sg/rc/clk?jk=303f447614...</td>\n",
       "      <td>Advanced Data Analyst - Singapore - Indeed.com...</td>\n",
       "      <td>programming</td>\n",
       "      <td>java_r</td>\n",
       "      <td>None</td>\n",
       "      <td>None</td>\n",
       "      <td>None</td>\n",
       "      <td>month</td>\n",
       "      <td>NaN</td>\n",
       "      <td>NaN</td>\n",
       "      <td>0.0</td>\n",
       "    </tr>\n",
       "    <tr>\n",
       "      <th>3</th>\n",
       "      <td>27</td>\n",
       "      <td>jl_8409fff609317cd8</td>\n",
       "      <td>Marketing analyst</td>\n",
       "      <td>UPS</td>\n",
       "      <td>Singapore</td>\n",
       "      <td>NaN</td>\n",
       "      <td>fulltime</td>\n",
       "      <td>We are looking for a Marketing Analyst to supp...</td>\n",
       "      <td>https://www.indeed.com.sg/rc/clk?jk=8409fff609...</td>\n",
       "      <td>Marketing Analyst - Singapore - Indeed.com.sg ...</td>\n",
       "      <td>analysis</td>\n",
       "      <td>None</td>\n",
       "      <td>excel</td>\n",
       "      <td>None</td>\n",
       "      <td>None</td>\n",
       "      <td>month</td>\n",
       "      <td>NaN</td>\n",
       "      <td>NaN</td>\n",
       "      <td>0.0</td>\n",
       "    </tr>\n",
       "    <tr>\n",
       "      <th>4</th>\n",
       "      <td>28</td>\n",
       "      <td>jl_c555b86ad10769b4</td>\n",
       "      <td>Data analyst (data integrity)</td>\n",
       "      <td>JLL</td>\n",
       "      <td>Singapore</td>\n",
       "      <td>NaN</td>\n",
       "      <td>fulltime</td>\n",
       "      <td>We are looking for a Data Analyst (Data Integr...</td>\n",
       "      <td>https://www.indeed.com.sg/rc/clk?jk=c555b86ad1...</td>\n",
       "      <td>Data Analyst (Data Integrity) - Singapore - In...</td>\n",
       "      <td>analysis</td>\n",
       "      <td>None</td>\n",
       "      <td>tableau</td>\n",
       "      <td>None</td>\n",
       "      <td>None</td>\n",
       "      <td>month</td>\n",
       "      <td>NaN</td>\n",
       "      <td>NaN</td>\n",
       "      <td>0.0</td>\n",
       "    </tr>\n",
       "  </tbody>\n",
       "</table>\n",
       "</div>"
      ],
      "text/plain": [
       "   Unnamed: 0               job_id                             job_title  \\\n",
       "0          19  jl_acfda7b4da84a59d  Data analyst – automation enablement   \n",
       "1          21  jl_b767c888c82bafdc              Analyst- data processing   \n",
       "2          25  jl_303f44761404a23c                 Advanced data analyst   \n",
       "3          27  jl_8409fff609317cd8                     Marketing analyst   \n",
       "4          28  jl_c555b86ad10769b4         Data analyst (data integrity)   \n",
       "\n",
       "            job_company   location salaries  job_type  \\\n",
       "0                   UBS  Singapore      NaN  fulltime   \n",
       "1            J.D. Power  Singapore      NaN  fulltime   \n",
       "2  Boehringer Ingelheim  Singapore      NaN  fulltime   \n",
       "3                   UPS  Singapore      NaN  fulltime   \n",
       "4                   JLL  Singapore      NaN  fulltime   \n",
       "\n",
       "                                             summary  \\\n",
       "0  Integrate data from various data sources to pr...   \n",
       "1  Data Processing team provides services such as...   \n",
       "2  Data modelling, data cleansing, handling schem...   \n",
       "3  We are looking for a Marketing Analyst to supp...   \n",
       "4  We are looking for a Data Analyst (Data Integr...   \n",
       "\n",
       "                                            job_link  \\\n",
       "0  https://www.indeed.com.sg/rc/clk?jk=acfda7b4da...   \n",
       "1  https://www.indeed.com.sg/company/J.D.-Power/j...   \n",
       "2  https://www.indeed.com.sg/rc/clk?jk=303f447614...   \n",
       "3  https://www.indeed.com.sg/rc/clk?jk=8409fff609...   \n",
       "4  https://www.indeed.com.sg/rc/clk?jk=c555b86ad1...   \n",
       "\n",
       "                                            job_desc        skill programming  \\\n",
       "0  Data Analyst – Automation Enablement - Singapo...     analysis        None   \n",
       "1  Analyst- Data Processing - Singapore - Indeed....     analysis        None   \n",
       "2  Advanced Data Analyst - Singapore - Indeed.com...  programming      java_r   \n",
       "3  Marketing Analyst - Singapore - Indeed.com.sg ...     analysis        None   \n",
       "4  Data Analyst (Data Integrity) - Singapore - In...     analysis        None   \n",
       "\n",
       "  analysis hadoop database period  salary_avg  salary_gt_med  \\\n",
       "0  tableau   None     None  month         NaN            NaN   \n",
       "1     spss   None     None  month         NaN            NaN   \n",
       "2     None   None     None  month         NaN            NaN   \n",
       "3    excel   None     None  month         NaN            NaN   \n",
       "4  tableau   None     None  month         NaN            NaN   \n",
       "\n",
       "   salary_prediction  \n",
       "0                0.0  \n",
       "1                0.0  \n",
       "2                0.0  \n",
       "3                0.0  \n",
       "4                0.0  "
      ]
     },
     "execution_count": 30,
     "metadata": {},
     "output_type": "execute_result"
    }
   ],
   "source": [
    "predict_y_nsalary = tree_model.predict(nsalary_x)  \n",
    "job_nsalary[\"salary_prediction\"] = predict_y_nsalary\n",
    "job_nsalary.head()"
   ]
  },
  {
   "cell_type": "code",
   "execution_count": 31,
   "metadata": {},
   "outputs": [
    {
     "data": {
      "text/plain": [
       "0.0    80.811808\n",
       "1.0    19.188192\n",
       "Name: salary_prediction, dtype: float64"
      ]
     },
     "execution_count": 31,
     "metadata": {},
     "output_type": "execute_result"
    },
    {
     "data": {
      "image/png": "[encoded data removed]",
      "text/plain": [
       "<matplotlib.figure.Figure at 0x1a215f3fd0>"
      ]
     },
     "metadata": {},
     "output_type": "display_data"
    }
   ],
   "source": [
    "job_nsalary.salary_prediction.value_counts().plot(kind='bar')\n",
    "\n",
    "job_nsalary.salary_prediction.value_counts()/len(job_nsalary)*100"
   ]
  },
  {
   "cell_type": "markdown",
   "metadata": {},
   "source": [
    "Total 1355 job postings without salary information: <br>\n",
    "80% of jobs were predicted to have salary below median whereas only 19.1% were prediccted to be above median after with decision tree model"
   ]
  },
  {
   "cell_type": "markdown",
   "metadata": {},
   "source": [
    "## Q2: Determine the factors that distinguish job categories and titles from each other"
   ]
  },
  {
   "cell_type": "code",
   "execution_count": 32,
   "metadata": {},
   "outputs": [],
   "source": [
    "df_q2=df[['job_title','job_desc']]"
   ]
  },
  {
   "cell_type": "code",
   "execution_count": 33,
   "metadata": {},
   "outputs": [
    {
     "data": {
      "text/html": [
       "<div>\n",
       "<style scoped>\n",
       "    .dataframe tbody tr th:only-of-type {\n",
       "        vertical-align: middle;\n",
       "    }\n",
       "\n",
       "    .dataframe tbody tr th {\n",
       "        vertical-align: top;\n",
       "    }\n",
       "\n",
       "    .dataframe thead th {\n",
       "        text-align: right;\n",
       "    }\n",
       "</style>\n",
       "<table border=\"1\" class=\"dataframe\">\n",
       "  <thead>\n",
       "    <tr style=\"text-align: right;\">\n",
       "      <th></th>\n",
       "      <th>job_title</th>\n",
       "      <th>job_desc</th>\n",
       "    </tr>\n",
       "  </thead>\n",
       "  <tbody>\n",
       "    <tr>\n",
       "      <th>0</th>\n",
       "      <td>Data analyst – automation enablement</td>\n",
       "      <td>Data Analyst – Automation Enablement - Singapo...</td>\n",
       "    </tr>\n",
       "    <tr>\n",
       "      <th>1</th>\n",
       "      <td>Analyst- data processing</td>\n",
       "      <td>Analyst- Data Processing - Singapore - Indeed....</td>\n",
       "    </tr>\n",
       "  </tbody>\n",
       "</table>\n",
       "</div>"
      ],
      "text/plain": [
       "                              job_title  \\\n",
       "0  Data analyst – automation enablement   \n",
       "1              Analyst- data processing   \n",
       "\n",
       "                                            job_desc  \n",
       "0  Data Analyst – Automation Enablement - Singapo...  \n",
       "1  Analyst- Data Processing - Singapore - Indeed....  "
      ]
     },
     "execution_count": 33,
     "metadata": {},
     "output_type": "execute_result"
    }
   ],
   "source": [
    "df_q2.head(2)"
   ]
  },
  {
   "cell_type": "markdown",
   "metadata": {},
   "source": [
    "##### categorized job title into 3 category: scientist, analyst and others"
   ]
  },
  {
   "cell_type": "code",
   "execution_count": 34,
   "metadata": {},
   "outputs": [],
   "source": [
    "df_cat=df_q2.copy()\n",
    "df_cat['job_title']=df_cat['job_title'].map(lambda x:x.lower())\n",
    "df_cat.head()\n",
    "df_cat[\"category\"] = 0\n",
    "df_cat.loc[(df_cat[\"job_title\"].str.contains(\"scientist\")),\"category\"] = 1\n",
    "df_cat.loc[(df_cat[\"job_title\"].str.contains(\"analyst\")),\"category\"] = 2"
   ]
  },
  {
   "cell_type": "code",
   "execution_count": 35,
   "metadata": {},
   "outputs": [
    {
     "data": {
      "text/html": [
       "<div>\n",
       "<style scoped>\n",
       "    .dataframe tbody tr th:only-of-type {\n",
       "        vertical-align: middle;\n",
       "    }\n",
       "\n",
       "    .dataframe tbody tr th {\n",
       "        vertical-align: top;\n",
       "    }\n",
       "\n",
       "    .dataframe thead th {\n",
       "        text-align: right;\n",
       "    }\n",
       "</style>\n",
       "<table border=\"1\" class=\"dataframe\">\n",
       "  <thead>\n",
       "    <tr style=\"text-align: right;\">\n",
       "      <th></th>\n",
       "      <th>job_title</th>\n",
       "      <th>job_desc</th>\n",
       "      <th>category</th>\n",
       "    </tr>\n",
       "  </thead>\n",
       "  <tbody>\n",
       "    <tr>\n",
       "      <th>0</th>\n",
       "      <td>data analyst – automation enablement</td>\n",
       "      <td>Data Analyst – Automation Enablement - Singapo...</td>\n",
       "      <td>2</td>\n",
       "    </tr>\n",
       "    <tr>\n",
       "      <th>1</th>\n",
       "      <td>analyst- data processing</td>\n",
       "      <td>Analyst- Data Processing - Singapore - Indeed....</td>\n",
       "      <td>2</td>\n",
       "    </tr>\n",
       "    <tr>\n",
       "      <th>2</th>\n",
       "      <td>advanced data analyst</td>\n",
       "      <td>Advanced Data Analyst - Singapore - Indeed.com...</td>\n",
       "      <td>2</td>\n",
       "    </tr>\n",
       "    <tr>\n",
       "      <th>3</th>\n",
       "      <td>marketing analyst</td>\n",
       "      <td>Marketing Analyst - Singapore - Indeed.com.sg ...</td>\n",
       "      <td>2</td>\n",
       "    </tr>\n",
       "    <tr>\n",
       "      <th>4</th>\n",
       "      <td>data analyst (data integrity)</td>\n",
       "      <td>Data Analyst (Data Integrity) - Singapore - In...</td>\n",
       "      <td>2</td>\n",
       "    </tr>\n",
       "  </tbody>\n",
       "</table>\n",
       "</div>"
      ],
      "text/plain": [
       "                              job_title  \\\n",
       "0  data analyst – automation enablement   \n",
       "1              analyst- data processing   \n",
       "2                 advanced data analyst   \n",
       "3                     marketing analyst   \n",
       "4         data analyst (data integrity)   \n",
       "\n",
       "                                            job_desc  category  \n",
       "0  Data Analyst – Automation Enablement - Singapo...         2  \n",
       "1  Analyst- Data Processing - Singapore - Indeed....         2  \n",
       "2  Advanced Data Analyst - Singapore - Indeed.com...         2  \n",
       "3  Marketing Analyst - Singapore - Indeed.com.sg ...         2  \n",
       "4  Data Analyst (Data Integrity) - Singapore - In...         2  "
      ]
     },
     "execution_count": 35,
     "metadata": {},
     "output_type": "execute_result"
    }
   ],
   "source": [
    "df_cat.head()"
   ]
  },
  {
   "cell_type": "code",
   "execution_count": 36,
   "metadata": {},
   "outputs": [
    {
     "data": {
      "text/plain": [
       "2    809\n",
       "0    445\n",
       "1    178\n",
       "Name: category, dtype: int64"
      ]
     },
     "execution_count": 36,
     "metadata": {},
     "output_type": "execute_result"
    }
   ],
   "source": [
    "df_cat.category.value_counts()"
   ]
  },
  {
   "cell_type": "markdown",
   "metadata": {},
   "source": [
    "0: others\n",
    "1: scientist\n",
    "2: analyst"
   ]
  },
  {
   "cell_type": "code",
   "execution_count": 37,
   "metadata": {},
   "outputs": [],
   "source": [
    "from sklearn.feature_extraction.text import CountVectorizer, TfidfTransformer, TfidfVectorizer \n",
    "from sklearn.feature_extraction.text import TfidfTransformer\n",
    "from sklearn.feature_extraction.text import TfidfVectorizer"
   ]
  },
  {
   "cell_type": "code",
   "execution_count": 38,
   "metadata": {},
   "outputs": [
    {
     "data": {
      "image/png": "[encoded data removed]",
      "text/plain": [
       "<matplotlib.figure.Figure at 0x1a214c94a8>"
      ]
     },
     "metadata": {},
     "output_type": "display_data"
    },
    {
     "data": {
      "image/png": "[encoded data removed]",
      "text/plain": [
       "<matplotlib.figure.Figure at 0x1a217572b0>"
      ]
     },
     "metadata": {},
     "output_type": "display_data"
    },
    {
     "data": {
      "image/png": "[encoded data removed]",
      "text/plain": [
       "<matplotlib.figure.Figure at 0x1a21892198>"
      ]
     },
     "metadata": {},
     "output_type": "display_data"
    }
   ],
   "source": [
    "vocab= ['r','python','java','c++','ruby','perl','matlab','javascript','scala','excel','tableau','d3.js''sas','spss','d3','hadoop','mapreduce','spark','pig','hive','oozie','zookeeper','flume','sql','nosql','hbase','cassandra','mongodb'] \n",
    "def get_freq_words(sparse_counts, columns):\n",
    "    word_counts = np.asarray(X_all.sum(axis=0)).reshape(-1)\n",
    "\n",
    "    largest_count_indices = word_counts.argsort()[::-1]\n",
    "\n",
    "    freq_words = pd.Series(word_counts[largest_count_indices], \n",
    "                           index=columns[largest_count_indices])\n",
    "\n",
    "    return freq_words\n",
    "dic={0:'others',\n",
    "     1:'scientist',\n",
    "     2:'analyst'}\n",
    "for i in range(3):\n",
    "    df_test=df_cat[df_cat['category']==i].copy()\n",
    "    cvt      =  CountVectorizer(vocabulary = vocab)\n",
    "    X_all    =  cvt.fit_transform(df_test['job_desc'])\n",
    "    columns  =  np.array(cvt.get_feature_names()) \n",
    "    freq_words = get_freq_words(X_all, columns)\n",
    "    freq_words=freq_words.to_frame().reset_index()\n",
    "    freq_words.columns=['keywords','freq']\n",
    "    freq_words['perc']= (freq_words['freq']/freq_words['freq'].sum())*100\n",
    "    freq_words.sort_values(by='perc',ascending=True).plot(x='keywords', y='perc', kind='barh') \n",
    "    plt.title('Percentages of Job Posting for \\'{}\\' job category with Skill'.format(dic[i]))\n",
    "    plt.show()"
   ]
  },
  {
   "cell_type": "markdown",
   "metadata": {},
   "source": [
    "Looking at plot above, most common requested skills for job type below are: <br>\n",
    "i. Others job: sql, python, java <br>\n",
    "ii. Scientist: sql, python, spark, hadoop <br>\n",
    "iii. Analyst: sql, excel, python, tableau <br>\n"
   ]
  },
  {
   "cell_type": "markdown",
   "metadata": {},
   "source": [
    "#### split the dataset to train and test"
   ]
  },
  {
   "cell_type": "code",
   "execution_count": 39,
   "metadata": {},
   "outputs": [],
   "source": [
    "### train-test data\n",
    "from sklearn.model_selection import train_test_split\n",
    "X_train, X_test, y_train, y_test = train_test_split(df_cat['job_desc'], df_cat['category'], test_size=0.3, stratify= df_cat['category'], random_state=10)"
   ]
  },
  {
   "cell_type": "code",
   "execution_count": 40,
   "metadata": {},
   "outputs": [
    {
     "data": {
      "text/plain": [
       "0.3333333333333333"
      ]
     },
     "execution_count": 40,
     "metadata": {},
     "output_type": "execute_result"
    }
   ],
   "source": [
    "### model baseline\n",
    "(y_train.value_counts() / len(y_train)).mean()"
   ]
  },
  {
   "cell_type": "markdown",
   "metadata": {},
   "source": [
    "#### Modeling with Logistic Regression"
   ]
  },
  {
   "cell_type": "code",
   "execution_count": 41,
   "metadata": {},
   "outputs": [
    {
     "data": {
      "text/plain": [
       "0.5906976744186047"
      ]
     },
     "execution_count": 41,
     "metadata": {},
     "output_type": "execute_result"
    }
   ],
   "source": [
    "from sklearn.metrics import classification_report\n",
    "from sklearn.naive_bayes import MultinomialNB, BernoulliNB, GaussianNB\n",
    "from sklearn.linear_model import LogisticRegression\n",
    "\n",
    "from sklearn.pipeline import Pipeline\n",
    "\n",
    "cvt = CountVectorizer(vocabulary = vocab)\n",
    "pipeline = Pipeline([\n",
    "    ('vect', cvt),\n",
    "    ('tfidf', TfidfTransformer()),\n",
    "    ('cls', LogisticRegression())\n",
    "]) \n",
    "pipeline.fit(X_train,y_train)\n",
    "predicted = pipeline.predict(X_test)\n",
    "logreg_score=pipeline.score(X_test, y_test)\n",
    "logreg_score"
   ]
  },
  {
   "cell_type": "code",
   "execution_count": 42,
   "metadata": {},
   "outputs": [
    {
     "name": "stdout",
     "output_type": "stream",
     "text": [
      "             precision    recall  f1-score   support\n",
      "\n",
      "          0       0.40      0.13      0.19       134\n",
      "          1       0.38      0.26      0.31        53\n",
      "          2       0.64      0.92      0.75       243\n",
      "\n",
      "avg / total       0.53      0.59      0.52       430\n",
      "\n"
     ]
    }
   ],
   "source": [
    "print(classification_report(y_test, predicted))\n",
    "#0: others, 1: data scientist, 2: data analyst"
   ]
  },
  {
   "cell_type": "markdown",
   "metadata": {},
   "source": [
    "There are total 809 analysts, whereas only 178 data scientist jobs. Therefore, the dataset is imbalanced, therefore, it is not recommended to look at F1 or precision score. \n",
    "By looking at the ROC curve below, the plot is greater than 0.5. The model performs better than baseline model."
   ]
  },
  {
   "cell_type": "code",
   "execution_count": 43,
   "metadata": {},
   "outputs": [
    {
     "name": "stdout",
     "output_type": "stream",
     "text": [
      "ROC curve for data scientist\n"
     ]
    },
    {
     "data": {
      "image/png": "[encoded data removed]",
      "text/plain": [
       "<matplotlib.figure.Figure at 0x1a219f8080>"
      ]
     },
     "metadata": {},
     "output_type": "display_data"
    },
    {
     "name": "stdout",
     "output_type": "stream",
     "text": [
      "ROC curve for data analyst\n"
     ]
    },
    {
     "data": {
      "image/png": "[encoded data removed]",
      "text/plain": [
       "<matplotlib.figure.Figure at 0x1a219f86a0>"
      ]
     },
     "metadata": {},
     "output_type": "display_data"
    }
   ],
   "source": [
    "from sklearn.metrics import roc_curve\n",
    "\n",
    "def plot_roc(y, probs, threshmarkers=None):\n",
    "    fpr, tpr, thresh = roc_curve(y, probs)\n",
    "\n",
    "    plt.figure(figsize=(8,8))\n",
    "    plt.plot(fpr, tpr, lw=2)\n",
    "    plt.xlabel(\"False Positive Rate\\n(1 - Specificity)\")\n",
    "    plt.ylabel(\"True Positive Rate\\n(Sensitivity)\")\n",
    "    plt.xlim([-0.025, 1.025])\n",
    "    plt.ylim([-0.025, 1.025])\n",
    "    plt.plot([0, 1], [0, 1], 'k--', linewidth=4)\n",
    "    plt.xticks(np.linspace(0, 1, 21), rotation=45)\n",
    "    plt.yticks(np.linspace(0, 1, 21))\n",
    "    plt.show()\n",
    "    \n",
    "predicted_proba = pipeline.predict_proba(X_test)\n",
    "print('ROC curve for data scientist')\n",
    "plot_roc(y_test.apply(lambda x: x == 1), predicted_proba[:, list(pipeline.classes_).index(0)])\n",
    "print('ROC curve for data analyst')\n",
    "plot_roc(y_test.apply(lambda x: x == 2), predicted_proba[:, list(pipeline.classes_).index(1)])"
   ]
  },
  {
   "cell_type": "markdown",
   "metadata": {},
   "source": [
    "ii. Modeling with MultinomialNB"
   ]
  },
  {
   "cell_type": "code",
   "execution_count": 44,
   "metadata": {},
   "outputs": [
    {
     "data": {
      "text/plain": [
       "0.5930232558139535"
      ]
     },
     "execution_count": 44,
     "metadata": {},
     "output_type": "execute_result"
    }
   ],
   "source": [
    "from sklearn.metrics import classification_report\n",
    "from sklearn.naive_bayes import MultinomialNB, BernoulliNB, GaussianNB\n",
    "from sklearn.linear_model import LogisticRegression\n",
    "\n",
    "from sklearn.pipeline import Pipeline\n",
    "\n",
    "cvt = CountVectorizer(vocabulary = vocab)\n",
    "pipeline = Pipeline([\n",
    "    ('vect', cvt),\n",
    "    ('tfidf', TfidfTransformer()),\n",
    "    ('cls', MultinomialNB())\n",
    "]) \n",
    "pipeline.fit(X_train,y_train)\n",
    "predicted = pipeline.predict(X_test)\n",
    "mln_score=pipeline.score(X_test, y_test)\n",
    "mln_score"
   ]
  },
  {
   "cell_type": "code",
   "execution_count": 45,
   "metadata": {},
   "outputs": [
    {
     "name": "stdout",
     "output_type": "stream",
     "text": [
      "             precision    recall  f1-score   support\n",
      "\n",
      "          0       0.36      0.16      0.23       134\n",
      "          1       0.33      0.06      0.10        53\n",
      "          2       0.64      0.95      0.76       243\n",
      "\n",
      "avg / total       0.51      0.59      0.51       430\n",
      "\n"
     ]
    }
   ],
   "source": [
    "print(classification_report(y_test, predicted))\n",
    "#0: others, 1: data scientist, 2: data analyst"
   ]
  },
  {
   "cell_type": "markdown",
   "metadata": {},
   "source": [
    "iii. Modeling with RandomForestClassifier"
   ]
  },
  {
   "cell_type": "code",
   "execution_count": 46,
   "metadata": {},
   "outputs": [
    {
     "data": {
      "text/plain": [
       "0.5953488372093023"
      ]
     },
     "execution_count": 46,
     "metadata": {},
     "output_type": "execute_result"
    }
   ],
   "source": [
    "from sklearn.ensemble import RandomForestClassifier\n",
    "\n",
    "from sklearn.pipeline import Pipeline\n",
    "\n",
    "cvt = CountVectorizer(vocabulary = vocab)\n",
    "pipeline = Pipeline([\n",
    "    ('vect', cvt),\n",
    "    ('tfidf', TfidfTransformer()),\n",
    "    ('cls', RandomForestClassifier(n_estimators=30))\n",
    "]) \n",
    "pipeline.fit(X_train,y_train)\n",
    "predicted = pipeline.predict(X_test)\n",
    "rfc_score=pipeline.score(X_test, y_test)\n",
    "rfc_score"
   ]
  },
  {
   "cell_type": "code",
   "execution_count": 47,
   "metadata": {},
   "outputs": [
    {
     "name": "stdout",
     "output_type": "stream",
     "text": [
      "             precision    recall  f1-score   support\n",
      "\n",
      "          0       0.48      0.15      0.23       134\n",
      "          1       0.37      0.36      0.37        53\n",
      "          2       0.64      0.89      0.75       243\n",
      "\n",
      "avg / total       0.56      0.60      0.54       430\n",
      "\n"
     ]
    }
   ],
   "source": [
    "print(classification_report(y_test, predicted))\n",
    "#0: others, 1: data scientist, 2: data analyst"
   ]
  },
  {
   "cell_type": "markdown",
   "metadata": {},
   "source": [
    "#### Comparison of different result"
   ]
  },
  {
   "cell_type": "code",
   "execution_count": 48,
   "metadata": {},
   "outputs": [
    {
     "data": {
      "text/html": [
       "<div>\n",
       "<style scoped>\n",
       "    .dataframe tbody tr th:only-of-type {\n",
       "        vertical-align: middle;\n",
       "    }\n",
       "\n",
       "    .dataframe tbody tr th {\n",
       "        vertical-align: top;\n",
       "    }\n",
       "\n",
       "    .dataframe thead th {\n",
       "        text-align: right;\n",
       "    }\n",
       "</style>\n",
       "<table border=\"1\" class=\"dataframe\">\n",
       "  <thead>\n",
       "    <tr style=\"text-align: right;\">\n",
       "      <th></th>\n",
       "      <th>Score</th>\n",
       "    </tr>\n",
       "    <tr>\n",
       "      <th>Model</th>\n",
       "      <th></th>\n",
       "    </tr>\n",
       "  </thead>\n",
       "  <tbody>\n",
       "    <tr>\n",
       "      <th>randomForest</th>\n",
       "      <td>0.595349</td>\n",
       "    </tr>\n",
       "    <tr>\n",
       "      <th>Multinomial</th>\n",
       "      <td>0.593023</td>\n",
       "    </tr>\n",
       "    <tr>\n",
       "      <th>Logistic</th>\n",
       "      <td>0.590698</td>\n",
       "    </tr>\n",
       "  </tbody>\n",
       "</table>\n",
       "</div>"
      ],
      "text/plain": [
       "                 Score\n",
       "Model                 \n",
       "randomForest  0.595349\n",
       "Multinomial   0.593023\n",
       "Logistic      0.590698"
      ]
     },
     "execution_count": 48,
     "metadata": {},
     "output_type": "execute_result"
    }
   ],
   "source": [
    "# Model comparison\n",
    "models = pd.DataFrame({  \n",
    "  'Model': ['Logistic','Multinomial','randomForest'],\n",
    "  'Score' : [logreg_score,mln_score,rfc_score,]\n",
    "})\n",
    "\n",
    "models.set_index('Model', inplace=True)\n",
    "models.sort_values(by='Score',ascending=False)"
   ]
  },
  {
   "cell_type": "code",
   "execution_count": null,
   "metadata": {},
   "outputs": [],
   "source": []
  }
 ],
 "metadata": {
  "kernelspec": {
   "display_name": "Python 3",
   "language": "python",
   "name": "python3"
  },
  "language_info": {
   "codemirror_mode": {
    "name": "ipython",
    "version": 3
   },
   "file_extension": ".py",
   "mimetype": "text/x-python",
   "name": "python",
   "nbconvert_exporter": "python",
   "pygments_lexer": "ipython3",
   "version": "3.6.4"
  }
 },
 "nbformat": 4,
 "nbformat_minor": 2
}
